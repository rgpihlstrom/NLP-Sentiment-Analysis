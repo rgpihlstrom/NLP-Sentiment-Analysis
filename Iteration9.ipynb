{
 "cells": [
  {
   "cell_type": "markdown",
   "metadata": {},
   "source": [
    "### Table of Contents\n",
    "\n",
    "* [Functions](#Functions)\n",
    "* [Exploratory, Data Preprocessing](#Exploratory)\n",
    "* [Processing Data](#ProcessingData)\n",
    "    * [Applying Clean Up](#ApplyCleanup)\n",
    "    * [Examine Cleaned Twweets](#CleanedTweets)\n",
    "    * [Observations](#VisByCountObservations)\n",
    "    * [Tokeninzing & Indexing](#Tokenizing)\n",
    "    * [Create Embedded Matrix](#embeddedMatrix)\n",
    "    * [Examing OOV](#OOV)\n",
    "* [Train Test SPlit - Stratify, Create TFIDF](#traintestsplit)\n",
    "    * [Calculate Class Weights](#classweights)\n",
    "    * [Perform Smote](#smoted)\n",
    "    * [Scale](#scaled)\n",
    "* [Create Models](#Models)\n",
    "    * [RNN](#RNN)\n",
    "    * [View Results/ Confusion Matrix](#RNNMatrix)\n",
    "    * [Simple ML Models](#)\n",
    "    * [Bayes](#bayes)\n",
    "    * [View Results/ Confusion Matrix](#BayesMatrix)\n",
    "    * [RF](#SVM)\n",
    "    * [View Results/ Confusion Matrix](#SVMMatrix)\n",
    "* [Conclusions](#Conclusions)    \n",
    "* [Create Pickle Files For Modeling](#CreatePickle)   "
   ]
  },
  {
   "cell_type": "code",
   "execution_count": 1,
   "metadata": {},
   "outputs": [],
   "source": [
    "# # # download pre-trained vectors trained on twitter data\n",
    "# download.file(\"http://nlp.stanford.edu/data/glove.twitter.27B.zip\", destfile = \"glove.zip\")\n",
    "# unzip(\"glove.zip\", exdir = \"E:/Downloads/GLOVE\")\n",
    "import pandas as pd\n",
    "import numpy as np\n",
    "from nltk import word_tokenize\n",
    "from nltk.corpus import stopwords\n",
    "stop_words = stopwords.words('english')\n",
    "import pickle\n",
    "\n",
    "import spacy\n",
    "nlp = spacy.load(\"en_core_web_lg\")\n",
    "from nltk.tokenize import TweetTokenizer\n",
    "\n",
    "from keras.wrappers.scikit_learn import KerasClassifier\n",
    "from sklearn.model_selection import StratifiedKFold, cross_val_score\n",
    "from sklearn.pipeline import Pipeline\n",
    "from sklearn.feature_extraction.text import CountVectorizer, TfidfTransformer, TfidfVectorizer\n",
    "from sklearn.model_selection import train_test_split, GridSearchCV\n",
    "from sklearn.utils import class_weight\n",
    "from sklearn.preprocessing import LabelBinarizer\n",
    "from sklearn.preprocessing import StandardScaler\n",
    "from sklearn.metrics import confusion_matrix\n",
    "from sklearn import metrics\n",
    "import itertools\n",
    "from spellchecker import SpellChecker\n",
    "\n",
    "\n",
    "from IPython.display import Markdown, display\n",
    "\n",
    "from tqdm import tqdm\n",
    "# tqdm.pandas()\n",
    "\n",
    "import string\n",
    "import operator \n",
    "import re\n",
    "from textblob import TextBlob\n",
    "from wordcloud import WordCloud\n",
    "\n",
    "import matplotlib.pyplot as plt\n",
    "import gc\n",
    "import keras\n",
    "plt.style.use('fivethirtyeight')\n",
    "\n",
    "\n",
    "\n",
    "# define model\n",
    "from keras.models import Sequential\n",
    "from keras.layers import Dense, Embedding, LSTM, Bidirectional, SpatialDropout1D\n",
    "from keras.callbacks import ReduceLROnPlateau, EarlyStopping\n",
    "from keras.utils.np_utils import to_categorical\n",
    "from keras.preprocessing.text import Tokenizer\n",
    "from keras.preprocessing.sequence import pad_sequences\n",
    "from tensorflow.keras.layers import Dropout\n",
    "from keras.initializers import Constant\n",
    "from keras.optimizers import Adam\n",
    "from keras.callbacks import EarlyStopping\n",
    "\n",
    "\n",
    "import warnings\n",
    "warnings.filterwarnings(\"ignore\")\n",
    "\n",
    "from gensim.models import word2vec\n",
    "from gensim.scripts.glove2word2vec import glove2word2vec\n",
    "from gensim.models import KeyedVectors\n",
    "from gensim.models.keyedvectors import KeyedVectors\n",
    "\n",
    "\n",
    "from sklearn.linear_model import LogisticRegression\n",
    "from sklearn.ensemble import RandomForestClassifier\n",
    "from sklearn.svm import LinearSVC\n",
    "from sklearn.ensemble import RandomForestClassifier\n",
    "from sklearn.naive_bayes import MultinomialNB\n",
    "\n",
    "#glove2word2vec(glove_input_file=PTrVec_twitterPath, word2vec_output_file=\"gensim_glove_vectors.txt\")\n",
    "\n",
    "pd.set_option(\"max_rows\", 1000)\n",
    "pd.set_option('display.width', None)\n",
    "pd.set_option('max_columns', None)\n",
    "pd.set_option('max_colwidth', 200)"
   ]
  },
  {
   "cell_type": "code",
   "execution_count": 2,
   "metadata": {
    "scrolled": true
   },
   "outputs": [],
   "source": [
    "df_data_O = pd.read_csv(\"./data/judge-1377884607_tweet_product_company.csv\", engine='python')\n",
    "#df_data = pd.read_csv(\"./data/Russ.csv\", engine='python')\n",
    "\n",
    "#encoding='utf-8'\n",
    "# encoding = \"cp1252\"\n",
    "# encoding = \"ISO-8859-1\"\n",
    "# encoding='utf-8'"
   ]
  },
  {
   "cell_type": "markdown",
   "metadata": {},
   "source": [
    "# Functions <a class=\"anchor\" id=\"Functions\"></a>"
   ]
  },
  {
   "cell_type": "markdown",
   "metadata": {},
   "source": [
    "## Misc"
   ]
  },
  {
   "cell_type": "code",
   "execution_count": 51,
   "metadata": {},
   "outputs": [],
   "source": [
    "def build_vocab(texts):\n",
    "    sentences = texts.apply(lambda x: x.split()).values\n",
    "    vocab = {}\n",
    "    for sentence in sentences:\n",
    "        for word in sentence:\n",
    "            try:\n",
    "                vocab[word] += 1\n",
    "            except KeyError:\n",
    "                vocab[word] = 1\n",
    "    return vocab\n",
    "\n",
    "def createEmbeddedMatrix (name, vocab_size, embedding_dim, embeddings_index):\n",
    "    '''this function takes in the vocab size of your corpus or #of unique and the size of the vector representing\n",
    "    your pretrained vector - 100 or 300 in our examples, and the actual pretrained vector indexed by word'''\n",
    "    skippedwords = 0\n",
    "    hits = 0\n",
    "\n",
    "    # Creating container for embedding\n",
    "    embedding_matrix = np.zeros((vocab_size, embedding_dim))\n",
    "\n",
    "    # get vectors for words that are present in both my vocab and the pretrained word2vec\n",
    "    if name == \"RNN\":\n",
    "        for word, i in t_RNN.word_index.items():\n",
    "            try:\n",
    "                embedding_vector = embeddings_index[word]\n",
    "            except:\n",
    "                skippedwords = skippedwords+1\n",
    "                pass\n",
    "            if embedding_vector is not None:\n",
    "                embedding_matrix[i] = embedding_vector\n",
    "                hits += 1\n",
    "        print(\"Converted %d words (%d misses)\" % (hits, skippedwords))\n",
    "        \n",
    "    elif name == \"TFIDF\":\n",
    "        for word, i in t_tfidf.word_index.items():\n",
    "            try:\n",
    "                embedding_vector = embeddings_index[word]\n",
    "            except:\n",
    "                skippedwords = skippedwords+1\n",
    "                pass\n",
    "            if embedding_vector is not None:\n",
    "                embedding_matrix[i] = embedding_vector\n",
    "                hits += 1\n",
    "        print(\"Converted %d words (%d misses)\" % (hits, skippedwords))\n",
    "    return embedding_matrix\n",
    "\n",
    "def plot_history(history):\n",
    "    # summarize history for accuracy\n",
    "    plt.plot(history.history['accuracy'])\n",
    "    plt.plot(history.history['val_accuracy'])\n",
    "    plt.title('model accuracy')\n",
    "    plt.ylabel('accuracy')\n",
    "    plt.xlabel('epoch')\n",
    "    plt.legend(['train', 'test'], loc='upper left')\n",
    "    plt.show()\n",
    "    # summarize history for loss\n",
    "    plt.plot(history.history['loss'])\n",
    "    plt.plot(history.history['val_loss'])\n",
    "    plt.title('model loss')\n",
    "    plt.ylabel('loss')\n",
    "    plt.xlabel('epoch')\n",
    "    plt.legend(['train', 'test'], loc='upper left')\n",
    "    plt.show()\n",
    "    \n",
    "\n",
    "def getmaxlength(encoded_docs):\n",
    "    max_length = 0\n",
    "    for review_number in range(len(encoded_docs)):\n",
    "        nuumberofwords=len(encoded_docs[review_number])\n",
    "        if (nuumberofwords) > (max_length):\n",
    "            max_length = nuumberofwords\n",
    "    return max_length\n",
    "\n",
    "\n",
    "def getSubjectivity(text):\n",
    "    return TextBlob(text).sentiment.subjectivity\n",
    "\n",
    "# Create a function to get the polarity\n",
    "def getPolarity(text):\n",
    "    return  TextBlob(text).sentiment.polarity\n",
    "\n",
    "\n",
    "\n",
    "\n",
    "# Create a function to compute negative (-1), neutral (0) and positive (+1) analysis\n",
    "def getAnalysis(score):\n",
    "    if score < 0:\n",
    "        #No emotion toward brand or product\n",
    "        return 'Negative'\n",
    "    elif score == 0:\n",
    "        return 'Neutral'\n",
    "        #Positive emotion\n",
    "    else:\n",
    "        return 'Positive'\n",
    "\n",
    "\n",
    "def check_coverage(name, index, vocab, embeddings_index):\n",
    "    known_words = {}\n",
    "    unknown_words = {}\n",
    "    nb_known_words = 0\n",
    "    nb_unknown_words = 0\n",
    "    for word in vocab.keys():\n",
    "        try:\n",
    "            known_words[word] = embeddings_index[word]\n",
    "            nb_known_words += vocab[word]\n",
    "        except:\n",
    "            unknown_words[word] = vocab[word]\n",
    "            nb_unknown_words += vocab[word]\n",
    "            pass\n",
    "    print(f'{name} : {index}')\n",
    "    print('Found embeddings for {:.3%} of vocab'.format(len(known_words) / len(vocab)))\n",
    "    print('Found embeddings for  {:.3%} of all text'.format(nb_known_words / (nb_known_words + nb_unknown_words)))\n",
    "    unknown_words = sorted(unknown_words.items(), key=operator.itemgetter(1))[::-1]\n",
    "\n",
    "    return unknown_words\n",
    "\n",
    "def getCOuntsofPredictedScores(predictions_model):\n",
    "    \"\"\"takes in array from .predict() and counts the labels for each class via the model\"\"\"\n",
    "    unique, counts = np.unique(predictions_model, return_counts=True)\n",
    "    return dict(zip(unique, counts))\n",
    "\n",
    "def set_weights(y_train, weight = 'balanced', return_class = False, verbose = True):\n",
    "    \"\"\"Compute class weights for a given target column. Generate array of sample \n",
    "    weights. Optionally, prints a preview of the generated weights and classes.\n",
    "    Args:\n",
    "        y_train (list or Series): The target/class data for model.\n",
    "        weight (str): Type of class balancing to calculate. Defaults to 'balanced'.\n",
    "        return_class (bool, optional): Whether to return class weights also. \n",
    "                                        Defaults to False.\n",
    "        verbose (bool, optional): Prints dict of classes and weights, previews \n",
    "                                        sample weights. Defaults to True.\n",
    "    Returns:\n",
    "        np.array: Array of sample weights, one per sample in y_train.\n",
    "        dict (optional) : keys = classes in target, values = weights\n",
    "    \"\"\"\n",
    "    # Calculate weight per class based upon a specificed distribution of target classes\n",
    "    class_weights = class_weight.compute_class_weight(class_weight = weight, \n",
    "                                                    classes = np.unique(y_train), \n",
    "                                                    y = y_train)\n",
    "\n",
    "    c_weights_dict = dict(zip(np.unique(y_train), class_weights))\n",
    "    \n",
    "    # Assign associated class weight to each sample, returns an array of sample length\n",
    "    sample_weights = class_weight.compute_sample_weight(c_weights_dict, y = y_train)\n",
    "\n",
    "    if verbose:\n",
    "\n",
    "        print(\"Class Weights:\", len(class_weights), \"classes\")\n",
    "        display(c_weights_dict)\n",
    "\n",
    "        print(\"Sample Weights:\", len(sample_weights), \"samples\")\n",
    "        display(sample_weights)\n",
    "\n",
    "    if return_class:\n",
    "\n",
    "        return class_weights, sample_weights\n",
    "    \n",
    "    else:\n",
    "\n",
    "        return sample_weights\n",
    "\n",
    "# def tweetTokenizer1(listofTweets):\n",
    "#     tweet_tokenizer = TweetTokenizer()\n",
    "#     tweet_tokens = []\n",
    "#     for sent in listofTweets:\n",
    "# #         print(tweet_tokenizer.tokenize(sent))\n",
    "#         tweet_tokens.append(tweet_tokenizer.tokenize(sent))\n",
    "#     return tweet_tokens\n",
    "    \n",
    "    \n",
    "    \n",
    "def wordcloud_draw(data, color = 'black'):\n",
    "    words = ' '.join(data)\n",
    "    cleaned_word = \" \".join([word for word in words.split()])\n",
    "    wordcloud = WordCloud(\n",
    "                      background_color=color,\n",
    "                      width=2500,\n",
    "                      height=1500\n",
    "                     ).generate(cleaned_word)\n",
    "    plt.figure(1,figsize=(10, 10))\n",
    "    plt.imshow(wordcloud)\n",
    "    plt.axis('off')\n",
    "    plt.show()\n",
    "    \n",
    "    \n",
    "def plot_confusion_matrix(nameOfMatrix, cm, classes,\n",
    "                          normalize=False,\n",
    "                          title='Confusion matrix',\n",
    "                          cmap=plt.cm.Blues):\n",
    "    \"\"\"\n",
    "    This function prints and plots the confusion matrix.\n",
    "    Normalization can be applied by setting `normalize=True`.\n",
    "    \"\"\"\n",
    "    if normalize:\n",
    "        cm = cm.astype('float') / cm.sum(axis=1)[:, np.newaxis]\n",
    "        print(f'{nameOfMatrix} - Normalized confusion matrix here')\n",
    "    else:\n",
    "        print(f'{nameOfMatrix} - Confusion matrix, without normalization')\n",
    "\n",
    " \n",
    "    plt.imshow(cm, interpolation='nearest', cmap=cmap)\n",
    "    plt.title(title)\n",
    "    plt.colorbar()\n",
    "    tick_marks = np.arange(len(classes))\n",
    "    plt.xticks(tick_marks, classes, rotation=90)\n",
    "    plt.yticks(tick_marks, classes)\n",
    "\n",
    "    fmt = '.2f' if normalize else 'd'\n",
    "    thresh = cm.max() / 2.\n",
    "    for i, j in itertools.product(range(cm.shape[0]), range(cm.shape[1])):\n",
    "        plt.text(j, i, format(cm[i, j], fmt),\n",
    "                 horizontalalignment=\"center\",\n",
    "                 color=\"white\" if cm[i, j] > thresh else \"black\")\n",
    "\n",
    "    plt.tight_layout()\n",
    "    plt.ylabel('True label')\n",
    "    plt.xlabel('Predicted label')\n",
    "    \n",
    "    # Idont think I need ______________________________________________\n",
    "from sklearn.preprocessing import OneHotEncoder\n",
    "def prepare_inputs(X_train, X_test):\n",
    "    ohe = OneHotEncoder()\n",
    "    ohe.fit(X_train)\n",
    "    X_train_enc = ohe.transform(X_train)\n",
    "    X_test_enc = ohe.transform(X_test)\n",
    "    return X_train_enc, X_test_enc\n",
    "\n",
    "from sklearn.preprocessing import LabelEncoder\n",
    "def prepare_targets(y_train, y_test):\n",
    "    le = LabelEncoder()\n",
    "    le.fit(y_train)\n",
    "    y_train_enc = le.transform(y_train)\n",
    "    y_test_enc = le.transform(y_test)\n",
    "    return y_train_enc, y_test_enc\n",
    "\n",
    "\n",
    "def CreateEmeddingManuallyFor_twitter():\n",
    "    embeddings_index_twitter = {}\n",
    "    PTrVec_twitterPath = 'C:\\\\Users\\\\rgpih\\\\Documents\\\\NLPCourseDeepLearning\\\\JupyterNotebook\\\\large_files\\\\glove.twitter.27B.200d.txt'\n",
    "    embeddings_index_twitter = {}\n",
    "    with open(PTrVec_twitterPath, encoding=\"utf8\") as f:\n",
    "        for line in f:\n",
    "            word, coefs = line.split(maxsplit=1)\n",
    "            coefs = np.fromstring(coefs, \"f\", sep=\" \")\n",
    "            embeddings_index_twitter[word] = coefs\n",
    "    print(\"Found %s word vectors.\" % len(embeddings_index_twitter))\n",
    "    return embeddings_index_twitter\n",
    "\n",
    "\n",
    "\n",
    "def getlenofvectorsInEmbedding_Index(embeddings_index):\n",
    "    '''This function takes in the dict from the pretrained vec, each key is the word and the value is the vector \n",
    "    representing the word created by the pretrained model, uses the first word to get the length of the vector\n",
    "    this number is required to create the deep learning embedded layer '''\n",
    "    values_view = embeddings_index.values()\n",
    "    value_iterator = iter(values_view)\n",
    "    first_value = next(value_iterator)\n",
    "    return len(first_value)\n",
    "# Idont think I need ______________________________________________"
   ]
  },
  {
   "cell_type": "markdown",
   "metadata": {},
   "source": [
    "## Cleaning Up <a class=\"anchor\" id=\"CleanupFunctions\"></a>"
   ]
  },
  {
   "cell_type": "code",
   "execution_count": 4,
   "metadata": {},
   "outputs": [],
   "source": [
    "# https://towardsdatascience.com/effectively-pre-processing-the-text-data-part-1-text-cleaning-9ecae119cb3e\n",
    "#https://www.kaggle.com/christofhenkel/how-to-preprocessing-when-using-embeddings\n",
    "#https://mlwhiz.com/blog/2019/01/17/deeplearning_nlp_preprocess/\n",
    "\n",
    "\n",
    "spell = SpellChecker()\n",
    "#https://towardsdatascience.com/pre-trained-word-embedding-for-text-classification-end2end-approach-5fbf5cd8aead\n",
    "#https://medium.com/prevision-io/automated-nlp-with-prevision-io-part1-naive-bayes-classifier-475fa8bd73de\n",
    "\n",
    "def correct_spellings(x, spell=spell):\n",
    "    \"\"\"correct the missplled words of a given tweet\"\"\"\n",
    "    x = x.split()\n",
    "    misspelled = spell.unknown(x)\n",
    "    result = map(lambda word : spell.correction(word) if word in  misspelled else word, x)\n",
    "    return \" \".join(result)\n",
    "\n",
    "\n",
    "def tweets_cleaning(x, correct_spelling=True, remove_emojis=True):\n",
    "    \"\"\"Apply function to a clean a tweet\"\"\"\n",
    "#     x = x.lower().strip()\n",
    "#     # romove urls\n",
    "#     url = re.compile(r'https?://\\S+|www\\.\\S+')\n",
    "#     x = url.sub(r'',x)\n",
    "#     # remove html tags\n",
    "#     html = re.compile(r'<.*?>')\n",
    "#     x = html.sub(r'',x)\n",
    "#     # remove punctuation\n",
    "#     operator = str.maketrans('','',string.punctuation) #????\n",
    "#     x = x.translate(operator)\n",
    "    if correct_spelling:\n",
    "        x = correct_spellings(x)\n",
    "    if remove_emojis:\n",
    "        x = x.encode('ascii', 'ignore').decode('utf8').strip()\n",
    "#     if remove_stop_words:\n",
    "#         x = ' '.join([word for word in x.split(' ') if word not in stop_words])\n",
    "    return x\n",
    "\n",
    "\n",
    "\n",
    "\n",
    "# #remove infrequenct words\n",
    "# texts = train['text'].to_numpy()\n",
    "# word_freq = {}\n",
    "\n",
    "# for text in texts:\n",
    "#     for word in text.split():\n",
    "#         word_freq[word] = word_freq.get(word, 0) + 1\n",
    "# # # remove words occuring < 3 times\n",
    "# # freq_threshold = 3\n",
    "# # for i, text in enumerate(texts):\n",
    "# #     for word in text.split():\n",
    "# #         if word_freq[word] < freq_threshold:\n",
    "# #             print(word)\n",
    "# #             texts[i].replace(word, '')\n",
    "\n",
    "\n",
    "\n",
    "def clean(text):\n",
    "    text = text.split(\"/\")\n",
    "    text = ' '.join([str(elem) for elem in text])\n",
    "    text = re.sub('@[A-Za-z0–9]+', '', text) #Removing @mentions\n",
    "    #text = re.sub('[\"#%\\'()+,-.:;<=>^_`{|}~*]', '', text) # Removing\n",
    "    text = re.sub('[?!.,\"#$%\\'()*+-/:;<=>@[\\\\]^_`{|}~]', '', text) # Removing\n",
    "    text = re.sub('[\"\"]', '', text) # Removing\n",
    "    text = re.sub('[‰Û÷]', '', text) # Removing \n",
    "    text = re.sub('[/\\&]', ' ', text) # \n",
    "    text = re.sub('(SXSW).[^\\s]*', ' ', text) # Removing the entire word if contains \"SXSW\"\n",
    "    text = re.sub('(sxsw).[^\\s]*', ' ', text) # Removing the entire word if contains \"sxsw\"\n",
    "    #text = re.sub('#', '', text) # Removing '#' hash tag\n",
    "    text = re.sub('RT[\\s]+', '', text) # Removing RT\n",
    "    text = re.sub('https?:\\/\\/\\S+|www\\\\.\\S+', '', text) # Removing hyperlink\n",
    "    text = re.sub('(quot)', '', text) # Removing hyperlink\n",
    "    text = re.sub('(amp)', '', text) # Removing hyperlink\n",
    "    text = re.sub('(infektd)', '', text) # Removing hyperlink\n",
    "    text = text.split(\"\\\\\")\n",
    "    text = ' '.join([str(elem) for elem in text])\n",
    "    text = text.split(\"_\")\n",
    "    text = ' '.join([str(elem) for elem in text])\n",
    "    return text\n",
    "\n",
    "\n",
    "\n",
    "def clean_numbers(x):\n",
    "\n",
    "    x = re.sub('[0-9]{5,}', '', x)\n",
    "    x = re.sub('[0-9]{4}', '', x)\n",
    "    x = re.sub('[0-9]{3}', '', x)\n",
    "    x = re.sub('[0-9]{2}', '', x)\n",
    "    return x\n",
    "\n",
    "\n",
    "def RemovesGarbageWords(text):\n",
    "    listofgarbagewords = ['sxsw','http' , 'a','to','of','and','quot', \n",
    "                       'tapworthy', \"qagb\",\"gsdm\", \"musedchat\",\"newTwitter\"]\n",
    "    listofgarbagewords = ' '.join([i for i in text.split() if i.lower() not in listofgarbagewords])\n",
    "\n",
    "    return listofgarbagewords\n",
    "\n",
    "def RemoveStopwords(text):\n",
    "    stop_free = ' '.join([i for i in text.split() if i not in stop_words])\n",
    "    return stop_free\n",
    "\n",
    "\n",
    "def lemmatization(texts):\n",
    "# allowed_postags=['NOUN', 'ADJ', 'VERB', 'ADV']\n",
    "    \"\"\"https://spacy.io/api/annotation\"\"\"\n",
    "    texts_out = []\n",
    "    for sent in texts:\n",
    "        #put in raw text, and get back a Doc object, that comes with a variety of annotations.\n",
    "        doc = nlp(\" \".join(sent))  \n",
    "        #using spacey to lemmatize\n",
    "        texts_out.append([token.lemma_ for token in doc])\n",
    "#         if token.pos_ in allowed_postags\n",
    "    return texts_out\n",
    "\n",
    "\n",
    "def lemmatization1(texts):\n",
    "# allowed_postags=['NOUN', 'ADJ', 'VERB', 'ADV']\n",
    "\n",
    "#     print(\"here\")\n",
    "#     print(texts)\n",
    "    texts_out = []\n",
    "    doc = nlp(texts)\n",
    "# #     print(doc) \n",
    "    #using spacey to lemmatize\n",
    "    texts_out.append([token.lemma_ for token in doc])\n",
    "    listToStr = ' '.join([str(elem) for elem in texts_out[0]])\n",
    "    return listToStr\n",
    "\n",
    "mispell_dict = {'doesnt':'does not',\n",
    "                    'instagram': 'social medium',\n",
    "                    'whatsapp': 'social medium',\n",
    "                    'snapchat': 'social medium'}\n",
    "\n",
    "def tolower(text):\n",
    "    tolower = ' '.join([i.lower() for i in text.split()])\n",
    "    return tolower\n",
    "\n",
    "# Show the new dataframe with columns 'Subjectivity' & 'Polarity'\n",
    "# Create a function to get the subjectivity\n",
    "\n",
    "\n",
    "#     Negative emotion\n",
    "#     I can't tell\n",
    "\n",
    "# # Printing positive tweets \n",
    "# print('Printing positive tweets:\\n')\n",
    "# j=1\n",
    "# sortedDF = df.sort_values(by=['Polarity']) #Sort the tweets\n",
    "# for i in range(0, sortedDF.shape[0] ):\n",
    "#   if( sortedDF['Analysis'][i] == 'Positive'):\n",
    "#     print(str(j) + ') '+ sortedDF['Tweets'][i])\n",
    "#     print()\n",
    "#     j= j+1\n",
    "\n",
    "# Print the percentage of positive tweets\n",
    "# ptweets = df[df.Analysis == 'Positive']\n",
    "# ptweets = ptweets['Tweets']\n",
    "# ptweets\n",
    "\n",
    "# round( (ptweets.shape[0] / df.shape[0]) * 100 , 1)\n",
    "\n",
    "def tweetTokenizer(listofTweets):\n",
    "    tweet_tokenizer = TweetTokenizer()\n",
    "    tweet_tokens = []\n",
    "    for sent in listofTweets:\n",
    "#         print(tweet_tokenizer.tokenize(sent))\n",
    "        tweet_tokens.append(tweet_tokenizer.tokenize(sent))\n",
    "    return tweet_tokens\n",
    "\n",
    "\n",
    "def _get_mispell(mispell_dict):\n",
    "    mispell_re = re.compile('(%s)' % '|'.join(mispell_dict.keys()))\n",
    "    return mispell_dict, mispell_re\n",
    "\n",
    "mispellings, mispellings_re = _get_mispell(mispell_dict)\n",
    "def replace_typical_misspell(text):\n",
    "    def replace(match):\n",
    "        return mispellings[match.group(0)]\n",
    "    return mispellings_re.sub(replace, text)\n",
    "\n",
    "def correct_spelling(x):\n",
    "    \n",
    "    dic = {'doesnt':'does not',\n",
    "                    'instagram': 'social medium',\n",
    "                    'whatsapp': 'social medium',\n",
    "                    'snapchat': 'social medium'}\n",
    "\n",
    "    \n",
    "    for word in dic.keys():\n",
    "        x = x.replace(word, dic[word])\n",
    "    return x\n",
    "\n",
    "contraction_dict = {\"didnt\":\"did not\", \"ain't\": \"is not\", \"aren't\": \"are not\",\"can't\": \n",
    "                    \"cannot\", \"'cause\": \"because\", \"could've\": \"could have\", \n",
    "                    \"couldn't\": \"could not\", \"didn't\": \"did not\",  \n",
    "                    \"doesn't\": \"does not\", \"don't\": \"do not\", \n",
    "                    \"hadn't\": \"had not\", \"hasn't\": \"has not\", \n",
    "                    \"haven't\": \"have not\", \"he'd\": \"he would\",\"he'll\": \n",
    "                    \"he will\", \"he's\": \"he is\", \"how'd\": \"how did\", \n",
    "                    \"how'd'y\": \"how do you\", \"how'll\": \"how will\", \n",
    "                    \"how's\": \"how is\",  \"I'd\": \"I would\", \"I'd've\": \n",
    "                    \"I would have\", \"I'll\": \"I will\", \"I'll've\": \n",
    "                    \"I will have\",\"I'm\": \"I am\", \"I've\": \n",
    "                    \"I have\", \"i'd\": \"i would\", \"i'd've\": \n",
    "                    \"i would have\", \"i'll\": \"i will\",  \"i'll've\": \n",
    "                    \"i will have\",\"i'm\": \"i am\", \"i've\": \"i have\", \n",
    "                    \"isn't\": \"is not\", \"it'd\": \"it would\", \"it'd've\": \n",
    "                    \"it would have\", \"it'll\": \"it will\", \"it'll've\": \n",
    "                    \"it will have\",\"it's\": \"it is\", \"let's\": \"let us\", \n",
    "                    \"ma'am\": \"madam\", \"mayn't\": \"may not\", \"might've\": \n",
    "                    \"might have\",\"mightn't\": \"might not\",\"mightn't've\": \n",
    "                    \"might not have\", \"must've\": \"must have\", \"mustn't\": \n",
    "                    \"must not\", \"mustn't've\": \"must not have\", \"needn't\": \n",
    "                    \"need not\", \"needn't've\": \"need not have\",\"o'clock\": \n",
    "                    \"of the clock\", \"oughtn't\": \"ought not\", \"oughtn't've\": \n",
    "                    \"ought not have\", \"shan't\": \"shall not\", \"sha'n't\": \n",
    "                    \"shall not\", \"shan't've\": \"shall not have\", \"she'd\": \n",
    "                    \"she would\", \"she'd've\": \"she would have\", \"she'll\": \n",
    "                    \"she will\", \"she'll've\": \"she will have\", \"she's\": \n",
    "                    \"she is\", \"should've\": \"should have\", \"shouldn't\": \n",
    "                    \"should not\", \"shouldn't've\": \"should not have\", \"so've\": \n",
    "                    \"so have\",\"so's\": \"so as\", \"this's\": \"this is\",\"that'd\": \n",
    "                    \"that would\", \"that'd've\": \"that would have\", \"that's\": \n",
    "                    \"that is\", \"there'd\": \"there would\", \"there'd've\": \"there would have\", \n",
    "                    \"there's\": \"there is\", \"here's\": \"here is\",\"they'd\": \"they would\", \n",
    "                    \"they'd've\": \"they would have\", \"they'll\": \"they will\", \"they'll've\": \n",
    "                    \"they will have\", \"they're\": \"they are\", \"they've\": \"they have\", \"to've\":\n",
    "                    \"to have\", \"wasn't\": \"was not\", \"we'd\": \"we would\",\n",
    "                    \"we'd've\": \"we would have\", \"we'll\": \"we will\", \"we'll've\": \n",
    "                    \"we will have\", \"we're\": \"we are\", \"we've\": \"we have\",\n",
    "                    \"weren't\": \"were not\", \"what'll\": \"what will\",\n",
    "                    \"what'll've\": \"what will have\", \"what're\": \"what are\",  \n",
    "                    \"what's\": \"what is\", \"what've\": \"what have\", \n",
    "                    \"when's\": \"when is\", \"when've\": \"when have\", \n",
    "                    \"where'd\": \"where did\", \"where's\": \"where is\",\n",
    "                    \"where've\": \"where have\", \"who'll\": \"who will\",\n",
    "                    \"who'll've\": \"who will have\", \"who's\": \"who is\",\n",
    "                    \"who've\": \"who have\", \"why's\": \"why is\", \"why've\": \n",
    "                    \"why have\", \"will've\": \"will have\", \"won't\": \n",
    "                    \"will not\", \"won't've\": \"will not have\", \"would've\": \n",
    "                    \"would have\", \"wouldn't\": \"would not\", \"wouldn't've\": \n",
    "                    \"would not have\", \"y'all\": \"you all\", \"y'all'd\": \n",
    "                    \"you all would\",\"y'all'd've\": \"you all would have\",\"y'all're\":\n",
    "                    \"you all are\",\"y'all've\": \"you all have\",\"you'd\": \"you would\", \n",
    "                    \"you'd've\": \"you would have\", \"you'll\": \"you will\", \"you'll've\": \n",
    "                    \"you will have\", \"you're\": \"you are\", \"you've\": \"you have\"}\n",
    "\n",
    "def _get_contractions(contraction_dict):\n",
    "    contraction_re = re.compile('(%s)' % '|'.join(contraction_dict.keys()))\n",
    "    return contraction_dict, contraction_re\n",
    "\n",
    "contractions, contractions_re = _get_contractions(contraction_dict)\n",
    "\n",
    "def replace_contractions(text):\n",
    "    def replace(match):\n",
    "        return contractions[match.group(0)]\n",
    "    return contractions_re.sub(replace, text)\n",
    "\n",
    "def add_lower(embedding, vocab):\n",
    "    count = 0\n",
    "    for word in vocab:\n",
    "        if word in embedding and word.lower() not in embedding:  \n",
    "            embedding[word.lower()] = embedding[word]\n",
    "            count += 1\n",
    "    print(f\"Added {count} words to embedding\")\n",
    "\n"
   ]
  },
  {
   "cell_type": "code",
   "execution_count": null,
   "metadata": {},
   "outputs": [],
   "source": [
    "\n"
   ]
  },
  {
   "cell_type": "markdown",
   "metadata": {},
   "source": [
    "# Exploratory, Data Processing <a class=\"anchor\" id=\"Exploratory\"></a>"
   ]
  },
  {
   "cell_type": "markdown",
   "metadata": {
    "heading_collapsed": true
   },
   "source": [
    "## Exploratory"
   ]
  },
  {
   "cell_type": "code",
   "execution_count": 5,
   "metadata": {
    "hidden": true,
    "scrolled": true
   },
   "outputs": [
    {
     "data": {
      "text/html": [
       "<div>\n",
       "<style scoped>\n",
       "    .dataframe tbody tr th:only-of-type {\n",
       "        vertical-align: middle;\n",
       "    }\n",
       "\n",
       "    .dataframe tbody tr th {\n",
       "        vertical-align: top;\n",
       "    }\n",
       "\n",
       "    .dataframe thead th {\n",
       "        text-align: right;\n",
       "    }\n",
       "</style>\n",
       "<table border=\"1\" class=\"dataframe\">\n",
       "  <thead>\n",
       "    <tr style=\"text-align: right;\">\n",
       "      <th></th>\n",
       "      <th>tweet_text</th>\n",
       "      <th>emotion_in_tweet_is_directed_at</th>\n",
       "      <th>is_there_an_emotion_directed_at_a_brand_or_product</th>\n",
       "    </tr>\n",
       "  </thead>\n",
       "  <tbody>\n",
       "    <tr>\n",
       "      <th>0</th>\n",
       "      <td>.@wesley83 I have a 3G iPhone. After 3 hrs tweeting at #RISE_Austin, it was dead!  I need to upgrade. Plugin stations at #SXSW.</td>\n",
       "      <td>iPhone</td>\n",
       "      <td>Negative emotion</td>\n",
       "    </tr>\n",
       "    <tr>\n",
       "      <th>1</th>\n",
       "      <td>@jessedee Know about @fludapp ? Awesome iPad/iPhone app that you'll likely appreciate for its design. Also, they're giving free Ts at #SXSW</td>\n",
       "      <td>iPad or iPhone App</td>\n",
       "      <td>Positive emotion</td>\n",
       "    </tr>\n",
       "    <tr>\n",
       "      <th>2</th>\n",
       "      <td>@swonderlin Can not wait for #iPad 2 also. They should sale them down at #SXSW.</td>\n",
       "      <td>iPad</td>\n",
       "      <td>Positive emotion</td>\n",
       "    </tr>\n",
       "    <tr>\n",
       "      <th>3</th>\n",
       "      <td>@sxsw I hope this year's festival isn't as crashy as this year's iPhone app. #sxsw</td>\n",
       "      <td>iPad or iPhone App</td>\n",
       "      <td>Negative emotion</td>\n",
       "    </tr>\n",
       "    <tr>\n",
       "      <th>4</th>\n",
       "      <td>@sxtxstate great stuff on Fri #SXSW: Marissa Mayer (Google), Tim O'Reilly (tech books/conferences) &amp;amp; Matt Mullenweg (Wordpress)</td>\n",
       "      <td>Google</td>\n",
       "      <td>Positive emotion</td>\n",
       "    </tr>\n",
       "  </tbody>\n",
       "</table>\n",
       "</div>"
      ],
      "text/plain": [
       "                                                                                                                                    tweet_text  \\\n",
       "0              .@wesley83 I have a 3G iPhone. After 3 hrs tweeting at #RISE_Austin, it was dead!  I need to upgrade. Plugin stations at #SXSW.   \n",
       "1  @jessedee Know about @fludapp ? Awesome iPad/iPhone app that you'll likely appreciate for its design. Also, they're giving free Ts at #SXSW   \n",
       "2                                                              @swonderlin Can not wait for #iPad 2 also. They should sale them down at #SXSW.   \n",
       "3                                                           @sxsw I hope this year's festival isn't as crashy as this year's iPhone app. #sxsw   \n",
       "4          @sxtxstate great stuff on Fri #SXSW: Marissa Mayer (Google), Tim O'Reilly (tech books/conferences) &amp; Matt Mullenweg (Wordpress)   \n",
       "\n",
       "  emotion_in_tweet_is_directed_at  \\\n",
       "0                          iPhone   \n",
       "1              iPad or iPhone App   \n",
       "2                            iPad   \n",
       "3              iPad or iPhone App   \n",
       "4                          Google   \n",
       "\n",
       "  is_there_an_emotion_directed_at_a_brand_or_product  \n",
       "0                                   Negative emotion  \n",
       "1                                   Positive emotion  \n",
       "2                                   Positive emotion  \n",
       "3                                   Negative emotion  \n",
       "4                                   Positive emotion  "
      ]
     },
     "execution_count": 5,
     "metadata": {},
     "output_type": "execute_result"
    }
   ],
   "source": [
    "df_data_O.head()"
   ]
  },
  {
   "cell_type": "code",
   "execution_count": 6,
   "metadata": {
    "hidden": true
   },
   "outputs": [
    {
     "data": {
      "text/plain": [
       "9093"
      ]
     },
     "execution_count": 6,
     "metadata": {},
     "output_type": "execute_result"
    }
   ],
   "source": [
    "len(df_data_O)"
   ]
  },
  {
   "cell_type": "code",
   "execution_count": 7,
   "metadata": {
    "hidden": true
   },
   "outputs": [],
   "source": [
    "#Rename columns\n",
    "df_data_O.columns = [\"tweets\", \"Prd_Brnd\", \"emotion\"]"
   ]
  },
  {
   "cell_type": "code",
   "execution_count": 8,
   "metadata": {
    "hidden": true
   },
   "outputs": [],
   "source": [
    "# set target to numericals\n",
    "di = {\"No emotion toward brand or product\":1, \"Positive emotion\":2, \"Negative emotion\":0,\"I can't tell\":3}\n",
    "df_data_O['emotion_E'] = df_data_O['emotion']\n",
    "df_data_O['emotion_E'].replace(di, inplace=True)"
   ]
  },
  {
   "cell_type": "code",
   "execution_count": 9,
   "metadata": {
    "hidden": true
   },
   "outputs": [],
   "source": [
    "# df_data = df_data_O[~df_data_O[\"emotion\"].str.contains(\"I can't tell\")].copy()\n",
    "df_data_O = df_data_O.query(\"emotion_E not in [3]\")"
   ]
  },
  {
   "cell_type": "code",
   "execution_count": 10,
   "metadata": {
    "hidden": true
   },
   "outputs": [],
   "source": [
    "max_sent_length = min(df_data_O[\"emotion\"].apply(len).max(), 25)\n",
    "#df_no = df_data[df_data[\"emotion_E\"]==1]"
   ]
  },
  {
   "cell_type": "code",
   "execution_count": 11,
   "metadata": {
    "hidden": true,
    "scrolled": false
   },
   "outputs": [
    {
     "data": {
      "text/html": [
       "<div>\n",
       "<style scoped>\n",
       "    .dataframe tbody tr th:only-of-type {\n",
       "        vertical-align: middle;\n",
       "    }\n",
       "\n",
       "    .dataframe tbody tr th {\n",
       "        vertical-align: top;\n",
       "    }\n",
       "\n",
       "    .dataframe thead th {\n",
       "        text-align: right;\n",
       "    }\n",
       "</style>\n",
       "<table border=\"1\" class=\"dataframe\">\n",
       "  <thead>\n",
       "    <tr style=\"text-align: right;\">\n",
       "      <th></th>\n",
       "      <th>tweets</th>\n",
       "      <th>Prd_Brnd</th>\n",
       "      <th>emotion</th>\n",
       "      <th>emotion_E</th>\n",
       "    </tr>\n",
       "  </thead>\n",
       "  <tbody>\n",
       "    <tr>\n",
       "      <th>count</th>\n",
       "      <td>8936</td>\n",
       "      <td>3282</td>\n",
       "      <td>8937</td>\n",
       "      <td>8937.000000</td>\n",
       "    </tr>\n",
       "    <tr>\n",
       "      <th>unique</th>\n",
       "      <td>8909</td>\n",
       "      <td>9</td>\n",
       "      <td>3</td>\n",
       "      <td>NaN</td>\n",
       "    </tr>\n",
       "    <tr>\n",
       "      <th>top</th>\n",
       "      <td>RT @mention Marissa Mayer: Google Will Connect the Digital &amp;amp; Physical Worlds Through Mobile - {link} #sxsw</td>\n",
       "      <td>iPad</td>\n",
       "      <td>No emotion toward brand or product</td>\n",
       "      <td>NaN</td>\n",
       "    </tr>\n",
       "    <tr>\n",
       "      <th>freq</th>\n",
       "      <td>5</td>\n",
       "      <td>942</td>\n",
       "      <td>5389</td>\n",
       "      <td>NaN</td>\n",
       "    </tr>\n",
       "    <tr>\n",
       "      <th>mean</th>\n",
       "      <td>NaN</td>\n",
       "      <td>NaN</td>\n",
       "      <td>NaN</td>\n",
       "      <td>1.269442</td>\n",
       "    </tr>\n",
       "    <tr>\n",
       "      <th>std</th>\n",
       "      <td>NaN</td>\n",
       "      <td>NaN</td>\n",
       "      <td>NaN</td>\n",
       "      <td>0.569595</td>\n",
       "    </tr>\n",
       "    <tr>\n",
       "      <th>min</th>\n",
       "      <td>NaN</td>\n",
       "      <td>NaN</td>\n",
       "      <td>NaN</td>\n",
       "      <td>0.000000</td>\n",
       "    </tr>\n",
       "    <tr>\n",
       "      <th>25%</th>\n",
       "      <td>NaN</td>\n",
       "      <td>NaN</td>\n",
       "      <td>NaN</td>\n",
       "      <td>1.000000</td>\n",
       "    </tr>\n",
       "    <tr>\n",
       "      <th>50%</th>\n",
       "      <td>NaN</td>\n",
       "      <td>NaN</td>\n",
       "      <td>NaN</td>\n",
       "      <td>1.000000</td>\n",
       "    </tr>\n",
       "    <tr>\n",
       "      <th>75%</th>\n",
       "      <td>NaN</td>\n",
       "      <td>NaN</td>\n",
       "      <td>NaN</td>\n",
       "      <td>2.000000</td>\n",
       "    </tr>\n",
       "    <tr>\n",
       "      <th>max</th>\n",
       "      <td>NaN</td>\n",
       "      <td>NaN</td>\n",
       "      <td>NaN</td>\n",
       "      <td>2.000000</td>\n",
       "    </tr>\n",
       "  </tbody>\n",
       "</table>\n",
       "</div>"
      ],
      "text/plain": [
       "                                                                                                                tweets  \\\n",
       "count                                                                                                             8936   \n",
       "unique                                                                                                            8909   \n",
       "top     RT @mention Marissa Mayer: Google Will Connect the Digital &amp; Physical Worlds Through Mobile - {link} #sxsw   \n",
       "freq                                                                                                                 5   \n",
       "mean                                                                                                               NaN   \n",
       "std                                                                                                                NaN   \n",
       "min                                                                                                                NaN   \n",
       "25%                                                                                                                NaN   \n",
       "50%                                                                                                                NaN   \n",
       "75%                                                                                                                NaN   \n",
       "max                                                                                                                NaN   \n",
       "\n",
       "       Prd_Brnd                             emotion    emotion_E  \n",
       "count      3282                                8937  8937.000000  \n",
       "unique        9                                   3          NaN  \n",
       "top        iPad  No emotion toward brand or product          NaN  \n",
       "freq        942                                5389          NaN  \n",
       "mean        NaN                                 NaN     1.269442  \n",
       "std         NaN                                 NaN     0.569595  \n",
       "min         NaN                                 NaN     0.000000  \n",
       "25%         NaN                                 NaN     1.000000  \n",
       "50%         NaN                                 NaN     1.000000  \n",
       "75%         NaN                                 NaN     2.000000  \n",
       "max         NaN                                 NaN     2.000000  "
      ]
     },
     "execution_count": 11,
     "metadata": {},
     "output_type": "execute_result"
    }
   ],
   "source": [
    "df_data_O.describe(include='all')"
   ]
  },
  {
   "cell_type": "code",
   "execution_count": 12,
   "metadata": {
    "hidden": true,
    "scrolled": true
   },
   "outputs": [
    {
     "data": {
      "text/plain": [
       "iPad                               942\n",
       "Apple                              659\n",
       "iPad or iPhone App                 470\n",
       "Google                             429\n",
       "iPhone                             296\n",
       "Other Google product or service    292\n",
       "Android App                         81\n",
       "Android                             78\n",
       "Other Apple product or service      35\n",
       "Name: Prd_Brnd, dtype: int64"
      ]
     },
     "execution_count": 12,
     "metadata": {},
     "output_type": "execute_result"
    }
   ],
   "source": [
    "df_data_O[\"Prd_Brnd\"].value_counts()"
   ]
  },
  {
   "cell_type": "code",
   "execution_count": 13,
   "metadata": {
    "hidden": true
   },
   "outputs": [
    {
     "data": {
      "text/plain": [
       "No emotion toward brand or product    5389\n",
       "Positive emotion                      2978\n",
       "Negative emotion                       570\n",
       "Name: emotion, dtype: int64"
      ]
     },
     "execution_count": 13,
     "metadata": {},
     "output_type": "execute_result"
    }
   ],
   "source": [
    "df_data_O.emotion.value_counts()"
   ]
  },
  {
   "cell_type": "code",
   "execution_count": 14,
   "metadata": {
    "hidden": true,
    "scrolled": true
   },
   "outputs": [
    {
     "data": {
      "text/plain": [
       "tweets          1\n",
       "Prd_Brnd     5655\n",
       "emotion         0\n",
       "emotion_E       0\n",
       "dtype: int64"
      ]
     },
     "execution_count": 14,
     "metadata": {},
     "output_type": "execute_result"
    }
   ],
   "source": [
    "df_data_O.isnull().sum()"
   ]
  },
  {
   "cell_type": "code",
   "execution_count": 15,
   "metadata": {
    "hidden": true
   },
   "outputs": [],
   "source": [
    "#drop rows that are null based on value in tweet field\n",
    "df_data1 = df_data_O.dropna(subset=['tweets'])\n",
    "# df_data = df_data.dropna(inplace = True)\n",
    "# df_data1 = df_data_O.dropna()\n",
    "df_data1.reset_index(inplace=True)\n",
    "df_data1.drop(columns=[\"index\"], inplace=True)\n",
    "df_data = df_data1.copy()"
   ]
  },
  {
   "cell_type": "code",
   "execution_count": 16,
   "metadata": {
    "hidden": true
   },
   "outputs": [
    {
     "name": "stdout",
     "output_type": "stream",
     "text": [
      "0 blanks:  []\n"
     ]
    }
   ],
   "source": [
    "blanks = []  # start with an empty list\n",
    "\n",
    "for i,lb,rv in df_data[[\"emotion\",\"tweets\"]].itertuples():  # iterate over the DataFrame\n",
    "    if type(rv)==str:            # avoid NaN values\n",
    "        if rv.isspace():         # test 'review' for whitespace\n",
    "            blanks.append(i)     # add matching index numbers to the list\n",
    "        \n",
    "print(len(blanks), 'blanks: ', blanks)\n",
    "\n",
    "df_data.drop(blanks, inplace=True)"
   ]
  },
  {
   "cell_type": "code",
   "execution_count": 17,
   "metadata": {
    "hidden": true
   },
   "outputs": [
    {
     "data": {
      "text/plain": [
       "No emotion toward brand or product    5388\n",
       "Positive emotion                      2978\n",
       "Negative emotion                       570\n",
       "Name: emotion, dtype: int64"
      ]
     },
     "execution_count": 17,
     "metadata": {},
     "output_type": "execute_result"
    }
   ],
   "source": [
    "df_data.emotion.value_counts()"
   ]
  },
  {
   "cell_type": "code",
   "execution_count": 18,
   "metadata": {
    "hidden": true
   },
   "outputs": [
    {
     "name": "stdout",
     "output_type": "stream",
     "text": [
      "df_neg\n",
      "iPad                               125\n",
      "iPhone                             103\n",
      "Apple                               95\n",
      "Google                              68\n",
      "iPad or iPhone App                  63\n",
      "Other Google product or service     47\n",
      "Android                              8\n",
      "Android App                          8\n",
      "Other Apple product or service       2\n",
      "Name: Prd_Brnd, dtype: int64\n",
      "\n",
      "\n",
      "Neutral\n",
      "iPad                               24\n",
      "Apple                              21\n",
      "Google                             15\n",
      "iPad or iPhone App                 10\n",
      "iPhone                              9\n",
      "Other Google product or service     9\n",
      "Android App                         1\n",
      "Other Apple product or service      1\n",
      "Android                             1\n",
      "Name: Prd_Brnd, dtype: int64\n",
      "\n",
      "\n",
      "Pos\n",
      "iPad                               793\n",
      "Apple                              543\n",
      "iPad or iPhone App                 397\n",
      "Google                             346\n",
      "Other Google product or service    236\n",
      "iPhone                             184\n",
      "Android App                         72\n",
      "Android                             69\n",
      "Other Apple product or service      32\n",
      "Name: Prd_Brnd, dtype: int64\n"
     ]
    }
   ],
   "source": [
    "df_nuetral = df_data[df_data[\"emotion_E\"]==1]\n",
    "df_pos = df_data[df_data[\"emotion_E\"]==2]\n",
    "df_neg = df_data[df_data[\"emotion_E\"]==0]\n",
    "\n",
    "print(\"df_neg\")\n",
    "print(df_neg.Prd_Brnd.value_counts())\n",
    "print(\"\\n\")\n",
    "print(\"Neutral\")\n",
    "print(df_nuetral.Prd_Brnd.value_counts())\n",
    "print(\"\\n\")\n",
    "print(\"Pos\")\n",
    "print(df_pos.Prd_Brnd.value_counts())"
   ]
  },
  {
   "cell_type": "markdown",
   "metadata": {},
   "source": [
    "# Processing Data <a class=\"anchor\" id=\"ProcessingData\"></a>"
   ]
  },
  {
   "cell_type": "markdown",
   "metadata": {},
   "source": [
    "## Applying Cleanup Functions & Preprocessing Steps <a class=\"anchor\" id=\"ApplyCleanup\"></a>"
   ]
  },
  {
   "cell_type": "code",
   "execution_count": 19,
   "metadata": {},
   "outputs": [
    {
     "name": "stdout",
     "output_type": "stream",
     "text": [
      "0.06378692927484333\n",
      "0.6029543419874664\n",
      "0.33325872873769025\n"
     ]
    }
   ],
   "source": [
    "#Print imbalance\n",
    "from collections import Counter\n",
    "values = Counter(df_data['emotion_E'])\n",
    "print(values.get(0)/len(df_data['emotion_E']))\n",
    "print(values.get(1)/len(df_data['emotion_E']))\n",
    "print(values.get(2)/len(df_data['emotion_E']))"
   ]
  },
  {
   "cell_type": "code",
   "execution_count": 20,
   "metadata": {},
   "outputs": [],
   "source": [
    "#One-hot encode the emotion\n",
    "labels_RNN = to_categorical(df_data['emotion_E'], num_classes=3)\n",
    "\n",
    "labels_dct = {\"label_RNN\":[]}\n",
    "for i in labels_RNN:\n",
    "    labels_dct[\"label_RNN\"].append(i)\n",
    "    \n",
    "df_labels_RNN = pd.DataFrame.from_dict(labels_dct)\n",
    "    \n",
    "df_data[\"Labels_RNN\"] = df_labels_RNN"
   ]
  },
  {
   "cell_type": "code",
   "execution_count": 21,
   "metadata": {},
   "outputs": [],
   "source": [
    "# Clean the tweets\n",
    "df_data[\"tweets_RNN\"] = df_data['tweets'].apply(replace_contractions)\n",
    "df_data[\"tweets_RNN\"] = df_data['tweets_RNN'].apply(clean)\n",
    "df_data[\"tweets_RNN\"] = df_data['tweets_RNN'].apply(RemovesGarbageWords)\n",
    "\n",
    "# prepare tweets for word2vec/ glove/ embeddings - RNN/ LSTM model\n",
    "df_data[\"tweets_RNN\"] = df_data['tweets_RNN'].apply(clean_numbers)\n",
    "df_data[\"tweets_RNN\"] = df_data['tweets_RNN'].apply(replace_typical_misspell)\n",
    "# df_data[\"tweets_RNN_SP\"] = df_data['tweets_RNN'].apply(correct_spelling)\n",
    "\n",
    "test = tweets_cleaning(\"jek is a test\")\n",
    "\n",
    "# df_data[\"tweets_RNN\"] = df_data['tweets_RNN'].apply(tweets_cleaning)\n",
    "\n",
    "# prepare tweets for tf-idf vector creation using NLP()\n",
    "df_data[\"tweets_tfid\"] = df_data['tweets_RNN'].apply(tolower)\n",
    "df_data[\"tweets_tfid\"] = df_data['tweets_tfid'].apply(RemoveStopwords)\n",
    "df_data[\"tweets_tfid\"] = df_data['tweets_tfid'].apply(lemmatization1)\n",
    "\n",
    "\n",
    "#Create two new columns : 'Subjectivity' & 'Polarity'\n",
    "df_data['Subjectivity'] = df_data['tweets_RNN'].apply(getSubjectivity)\n",
    "df_data['Polarity'] = df_data['tweets_RNN'].apply(getPolarity)\n",
    "# df['Analysis'] = df['Polarity'].apply(getAnalysis)"
   ]
  },
  {
   "cell_type": "markdown",
   "metadata": {},
   "source": [
    "## Examine Cleaned Tweets <a class=\"anchor\" id=\"CleanedTweets\"></a>"
   ]
  },
  {
   "cell_type": "code",
   "execution_count": 76,
   "metadata": {},
   "outputs": [],
   "source": [
    "# https://github.com/nagypeterjob/Sentiment-Analysis-NLTK-ML-LSTM/blob/master/Sentiment.ipynb\n",
    "\n",
    "# view positive and negative words\n",
    "train_pos = df_data[ df_data['emotion_E'] == '2']\n",
    "train_pos = df_data['tweets_RNN']\n",
    "train_neg = df_data[ df_data['emotion_E'] == '0']\n",
    "train_neg = df_data['tweets_RNN']\n",
    "train_neut = df_data[ df_data['emotion_E'] == '1']\n",
    "train_neut = df_data['tweets_RNN']\n",
    "\n",
    "    \n",
    "# print(\"Positive words\")\n",
    "# wordcloud_draw(train_pos,'white')\n",
    "# print(\"Negative words\")\n",
    "# wordcloud_draw(train_neg)\n",
    "# print(\"Neutral words\")\n",
    "# wordcloud_draw(train_neut)"
   ]
  },
  {
   "cell_type": "code",
   "execution_count": 68,
   "metadata": {},
   "outputs": [
    {
     "data": {
      "text/plain": [
       "[('link', 3543),\n",
       " ('google', 2519),\n",
       " ('ipad', 2466),\n",
       " ('apple', 2071),\n",
       " ('iphone', 1507),\n",
       " ('store', 1470),\n",
       " ('2', 1082),\n",
       " ('new', 1078),\n",
       " ('app', 990),\n",
       " ('austin', 929)]"
      ]
     },
     "execution_count": 68,
     "metadata": {},
     "output_type": "execute_result"
    }
   ],
   "source": [
    "# get count of vocabulary words - TF-IDF\n",
    "vocab_tfid = build_vocab(df_data[\"tweets_tfid\"])\n",
    "reviewVocab_TFID = sorted(vocab_tfid.items(), key=lambda x: x[1], reverse=True)\n",
    "reviewVocab_TFID[:10]"
   ]
  },
  {
   "cell_type": "code",
   "execution_count": 69,
   "metadata": {
    "scrolled": true
   },
   "outputs": [
    {
     "data": {
      "text/plain": [
       "[('the', 3853),\n",
       " ('link', 3526),\n",
       " ('at', 2791),\n",
       " ('for', 2371),\n",
       " ('iPad', 2076),\n",
       " ('Google', 1907),\n",
       " ('is', 1810),\n",
       " ('in', 1775),\n",
       " ('Apple', 1622),\n",
       " ('I', 1388)]"
      ]
     },
     "execution_count": 69,
     "metadata": {},
     "output_type": "execute_result"
    }
   ],
   "source": [
    "# get count of vocabulary words - RNN\n",
    "vocab_RNN = build_vocab(df_data[\"tweets_RNN\"])\n",
    "reviewVocab_word2Vec = sorted(vocab_RNN.items(), key=lambda x: x[1], reverse=True)\n",
    "reviewVocab_word2Vec[:10]"
   ]
  },
  {
   "cell_type": "code",
   "execution_count": 25,
   "metadata": {},
   "outputs": [],
   "source": [
    "# # Finding if tweets contain a word - Used for future additionalcleaning\n",
    "# df_find = df_data[df_data[\"tweets\"].str.contains('2')]\n",
    "# df_find"
   ]
  },
  {
   "cell_type": "markdown",
   "metadata": {},
   "source": [
    "## Tokenizing & Indexing <a class=\"anchor\" id=\"Tokenizing\"></a>"
   ]
  },
  {
   "cell_type": "code",
   "execution_count": 26,
   "metadata": {
    "scrolled": true
   },
   "outputs": [],
   "source": [
    "#https://www.youtube.com/watch?v=2EiA_TA2NJo\n",
    "\n",
    "## Tokenize the sentences for RNN\n",
    "t_RNN = Tokenizer()\n",
    "#Corpus Split into lists of tokens. They will then be indexed and vectorized\n",
    "t_RNN.fit_on_texts(df_data[\"tweets_RNN\"])\n",
    "vocab_size_RNN = len(t_RNN.word_index) + 1\n",
    "# convert actual reviews from list of strings to lists of integers\n",
    "\n",
    "encoded_docs = t_RNN.texts_to_sequences(df_data[\"tweets_RNN\"])\n",
    "\n",
    "\n",
    "t_tfidf = Tokenizer()\n",
    "t_tfidf.fit_on_texts(df_data[\"tweets_tfid\"])\n",
    "vocab_size_tfidf = len(t_tfidf.word_index) + 1"
   ]
  },
  {
   "cell_type": "markdown",
   "metadata": {},
   "source": [
    "## Get and Create Embedded Representation <a class=\"anchor\" id=\"embeddedMatrix\"></a>"
   ]
  },
  {
   "cell_type": "code",
   "execution_count": 27,
   "metadata": {},
   "outputs": [],
   "source": [
    "#Create word indexes from scratch\n",
    "# PTrVec_GooglePath = 'C:\\\\Users\\\\rgpih\\\\Documents\\\\NLPCourseDeepLearning\\\\JupyterNotebook\\\\large_files\\\\GoogleNews-vectors-negative300.bin'\n",
    "# embeddings_index_google = KeyedVectors.load_word2vec_format(PTrVec_GooglePath, binary=True)\n",
    "# embeddings_index_twitter = KeyedVectors.load_word2vec_format(\"gensim_glove_vectors.txt\", binary=False)\n",
    "\n",
    "#Create pickel files - Google\n",
    "# # open a file, where you ant to store the data\n",
    "# file = open('embeddings_index_google', 'wb')\n",
    "# # dump information to that file\n",
    "# pickle.dump(embeddings_index_google, file)\n",
    "\n",
    "# # #Create pickel files - twitter\n",
    "# # open a file, where you ant to store the data\n",
    "# file = open('embeddings_index_twitter', 'wb')\n",
    "# # dump information to that file\n",
    "# pickle.dump(embeddings_index_twitter, file)\n",
    "\n",
    "with open('..\\embeddings_index_google', 'rb') as f:\n",
    "    embeddings_index_google = pickle.load(f)\n",
    "with open('..\\embeddings_index_twitter', 'rb') as f:\n",
    "    embeddings_index_twitter = pickle.load(f)\n",
    "\n",
    "# get the lenght of each index, passed into RNN models\n",
    "embedding_dim_twitter = len(embeddings_index_twitter['the'])\n",
    "embedding_dim_google = len(embeddings_index_google['the'])\n",
    "\n"
   ]
  },
  {
   "cell_type": "markdown",
   "metadata": {},
   "source": [
    "### Creating Embedding Matrix For Words In Vocab"
   ]
  },
  {
   "cell_type": "code",
   "execution_count": 28,
   "metadata": {},
   "outputs": [
    {
     "name": "stdout",
     "output_type": "stream",
     "text": [
      "Converted 9518 words (1775 misses)\n",
      "Converted 9518 words (2194 misses)\n",
      "Converted 7944 words (1752 misses)\n",
      "Converted 7944 words (2188 misses)\n"
     ]
    }
   ],
   "source": [
    "embedding_matrix_twitter_RNN = createEmbeddedMatrix(\"RNN\", vocab_size_RNN, embedding_dim_twitter,embeddings_index_twitter)\n",
    "embedding_matrix_google_RNN = createEmbeddedMatrix(\"RNN\", vocab_size_RNN, embedding_dim_google,embeddings_index_google)\n",
    "\n",
    "embedding_matrix_twitter_TFIDF = createEmbeddedMatrix(\"TFIDF\", vocab_size_tfidf, embedding_dim_twitter,embeddings_index_twitter)\n",
    "embedding_matrix_google_TFIDF = createEmbeddedMatrix(\"TFIDF\",vocab_size_tfidf, embedding_dim_google,embeddings_index_google)"
   ]
  },
  {
   "cell_type": "code",
   "execution_count": 29,
   "metadata": {},
   "outputs": [
    {
     "data": {
      "text/plain": [
       "(9519, 300)"
      ]
     },
     "execution_count": 29,
     "metadata": {},
     "output_type": "execute_result"
    }
   ],
   "source": [
    "embedding_matrix_google_RNN.shape"
   ]
  },
  {
   "cell_type": "markdown",
   "metadata": {},
   "source": [
    "### Examining OOV <a class=\"anchor\" id=\"OOV\"></a>"
   ]
  },
  {
   "cell_type": "code",
   "execution_count": 71,
   "metadata": {
    "scrolled": false
   },
   "outputs": [
    {
     "name": "stdout",
     "output_type": "stream",
     "text": [
      "word2vec : twitter\n",
      "Found embeddings for 52.551% of vocab\n",
      "Found embeddings for  67.471% of all text\n",
      "word2vec : google\n",
      "Found embeddings for 83.113% of vocab\n",
      "Found embeddings for  96.996% of all text\n",
      "\n",
      "\n",
      "TFIDF : twitter\n",
      "Found embeddings for 77.939% of vocab\n",
      "Found embeddings for  93.046% of all text\n",
      "TFIDF : google\n",
      "Found embeddings for 72.452% of vocab\n",
      "Found embeddings for  94.021% of all text\n"
     ]
    }
   ],
   "source": [
    "# RNN\n",
    "# determine nunmber of words we are missing from our vacab Twitter Word2vec\n",
    "oov_tw_RNN = check_coverage(\"word2vec\", \"twitter\", vocab_RNN, embeddings_index_twitter)\n",
    "# determine nunmber of words we are missing from our vacab Twitter Word2vec\n",
    "oov_g_RNN = check_coverage(\"word2vec\", \"google\",vocab_RNN,embeddings_index_google)\n",
    "\n",
    "print(\"\\n\")\n",
    "\n",
    "# TFIDF\n",
    "# determine nunmber of words we are missing from our vacab Twitter Word2vec\n",
    "oov_tw_TFIDF = check_coverage(\"TFIDF\", \"twitter\", vocab_tfid,embeddings_index_twitter)\n",
    "# determine nunmber of words we are missing from our vacab Twitter Word2vec\n",
    "oov_g_TFIDF = check_coverage(\"TFIDF\", \"google\",vocab_tfid,embeddings_index_google)"
   ]
  },
  {
   "cell_type": "code",
   "execution_count": 72,
   "metadata": {
    "scrolled": false
   },
   "outputs": [
    {
     "data": {
      "text/plain": [
       "[('iPad', 2076),\n",
       " ('Google', 1907),\n",
       " ('Apple', 1622),\n",
       " ('I', 1388),\n",
       " ('iPhone', 1279),\n",
       " ('2', 1076),\n",
       " ('Austin', 873),\n",
       " ('Circles', 575),\n",
       " ('New', 509),\n",
       " ('The', 451)]"
      ]
     },
     "execution_count": 72,
     "metadata": {},
     "output_type": "execute_result"
    }
   ],
   "source": [
    "# check top words that will not be accounted for in our embedding layer/ not in our pretrained Word2vec - TWitter\n",
    "oov_tw_RNN[:10]"
   ]
  },
  {
   "cell_type": "code",
   "execution_count": 32,
   "metadata": {},
   "outputs": [
    {
     "data": {
      "text/plain": [
       "[('UberGuide', 69),\n",
       " ('edchat', 39),\n",
       " ('newTwitter', 35),\n",
       " ('hollergram', 29),\n",
       " ('locationbased', 27),\n",
       " ('bitly', 26),\n",
       " ('zazzle', 24),\n",
       " ('newsapps', 23),\n",
       " ('touchingstories', 22),\n",
       " ('sler', 21)]"
      ]
     },
     "execution_count": 32,
     "metadata": {},
     "output_type": "execute_result"
    }
   ],
   "source": [
    "# check top words that will not be accounted for in our embedding layer/ not in our pretrained Word2vec - Google\n",
    "oov_g_RNN[:10]"
   ]
  },
  {
   "cell_type": "markdown",
   "metadata": {},
   "source": [
    "# Train - Test - Create Model <a class=\"anchor\" id=\"traintestsplit\"></a>"
   ]
  },
  {
   "cell_type": "markdown",
   "metadata": {},
   "source": [
    "## Train Test Split"
   ]
  },
  {
   "cell_type": "code",
   "execution_count": 33,
   "metadata": {},
   "outputs": [],
   "source": [
    "# FOr Baseline ML Classifiers\n",
    "X = df_data[\"tweets_tfid\"]\n",
    "Y = df_data[\"emotion_E\"]\n",
    "y = df_data[\"emotion_E\"]\n",
    "\n",
    "X_train, X_test, y_train, y_test = train_test_split(X, Y, test_size = 0.4, random_state = 42, stratify=y)\n",
    "# X_train, X_test, y_train, y_test = train_test_split(X, Y, test_size = 0.2, random_state = 42)\n",
    "\n",
    "#performing tf-idf just - for Simple ML Models\n",
    "# tfidf = TfidfVectorizer(sublinear_tf=True, min_df=5, norm='l2', encoding='latin-1', ngram_range=(1, 2), stop_words='english')\n",
    "vectorizer = TfidfVectorizer(norm='l2',ngram_range=(1, 2))\n",
    "X_train_tfidf = vectorizer.fit_transform(X_train)\n",
    "X_test_tfidf = vectorizer.transform(X_test)\n",
    "\n",
    "#FOR Deep Learning Classifiers, create inputs to embeded layer via a fixed length array or 0 and word index\n",
    "padded_docs = pad_sequences(encoded_docs, padding='post')\n",
    "# max_length = getmaxlength(encoded_docs)\n",
    "\n",
    "# #RNN labels are one hot encoded in order to use cross_category loss within LSTM\n",
    "# Y_RNN = df_data[\"Labels_RNN\"].to_numpy()\n",
    "# y_rnn = df_data[\"Labels_RNN\"].to_numpy()\n",
    "\n",
    "\n",
    "X_train_padded_docs, X_test_padded_docs, y_train_1hot, y_test_1hot = train_test_split(padded_docs,labels_RNN, test_size = 0.3, random_state = 42)\n"
   ]
  },
  {
   "cell_type": "markdown",
   "metadata": {},
   "source": [
    "### Review Counts - Compute Class Weights <a class=\"anchor\" id=\"classweights\"></a>"
   ]
  },
  {
   "cell_type": "markdown",
   "metadata": {},
   "source": [
    "#### Stratified Split"
   ]
  },
  {
   "cell_type": "code",
   "execution_count": 34,
   "metadata": {
    "scrolled": true
   },
   "outputs": [
    {
     "name": "stdout",
     "output_type": "stream",
     "text": [
      "0.06378692927484333\n",
      "0.6029543419874664\n",
      "0.33325872873769025\n"
     ]
    }
   ],
   "source": [
    "#Print imbalance values from begging\n",
    "values = Counter(df_data['emotion_E'])\n",
    "print(values.get(0)/len(df_data['emotion_E']))\n",
    "print(values.get(1)/len(df_data['emotion_E']))\n",
    "print(values.get(2)/len(df_data['emotion_E']))"
   ]
  },
  {
   "cell_type": "code",
   "execution_count": 35,
   "metadata": {
    "scrolled": true
   },
   "outputs": [
    {
     "name": "stdout",
     "output_type": "stream",
     "text": [
      "0.063794068270845\n",
      "0.6028725983958216\n",
      "0.3333333333333333\n"
     ]
    }
   ],
   "source": [
    "# Stratified values from train test split\n",
    "values = Counter(y_train)\n",
    "print(values.get(0)/len(y_train))\n",
    "print(values.get(1)/len(y_train))\n",
    "print(values.get(2)/len(y_train))"
   ]
  },
  {
   "cell_type": "code",
   "execution_count": 36,
   "metadata": {},
   "outputs": [
    {
     "name": "stdout",
     "output_type": "stream",
     "text": [
      "0.06377622377622377\n",
      "0.6030769230769231\n",
      "0.33314685314685316\n"
     ]
    }
   ],
   "source": [
    "# Stratified values from train test split\n",
    "values = Counter(y_test)\n",
    "print(values.get(0)/len(y_test))\n",
    "print(values.get(1)/len(y_test))\n",
    "print(values.get(2)/len(y_test))"
   ]
  },
  {
   "cell_type": "markdown",
   "metadata": {},
   "source": [
    "#### Compute CLass Weights for Modeling"
   ]
  },
  {
   "cell_type": "code",
   "execution_count": 37,
   "metadata": {},
   "outputs": [
    {
     "name": "stdout",
     "output_type": "stream",
     "text": [
      "Class Weights: 3 classes\n"
     ]
    },
    {
     "data": {
      "text/plain": [
       "{0: 5.2251461988304095, 1: 0.5529084158415841, 2: 1.0}"
      ]
     },
     "metadata": {},
     "output_type": "display_data"
    },
    {
     "name": "stdout",
     "output_type": "stream",
     "text": [
      "Sample Weights: 5361 samples\n"
     ]
    },
    {
     "data": {
      "text/plain": [
       "array([1.        , 0.55290842, 0.55290842, ..., 1.        , 1.        ,\n",
       "       1.        ])"
      ]
     },
     "metadata": {},
     "output_type": "display_data"
    },
    {
     "name": "stdout",
     "output_type": "stream",
     "text": [
      "Class Weights: 3 classes\n"
     ]
    },
    {
     "data": {
      "text/plain": [
       "{0: 5.226608187134503, 1: 0.5527210884353742, 2: 1.0005597537083684}"
      ]
     },
     "metadata": {},
     "output_type": "display_data"
    },
    {
     "name": "stdout",
     "output_type": "stream",
     "text": [
      "Sample Weights: 3575 samples\n"
     ]
    },
    {
     "data": {
      "text/plain": [
       "array([0.55272109, 1.00055975, 0.55272109, ..., 0.55272109, 1.00055975,\n",
       "       1.00055975])"
      ]
     },
     "metadata": {},
     "output_type": "display_data"
    }
   ],
   "source": [
    "#weights with RNN one hot encoding\n",
    "y_integers = np.argmax(y_train_1hot, axis=1)\n",
    "class_weights = class_weight.compute_class_weight('balanced', np.unique(y_integers), y_integers)\n",
    "d_class_weights_RNN = dict(enumerate(class_weights))\n",
    "\n",
    "# Calculate Class weights per label using tfidfdata\n",
    "\n",
    "weight = class_weight.compute_class_weight('balanced',np.unique(y_train),y_train)\n",
    "weight_dict = {i : weight[i] for i in range(3)}\n",
    "\n",
    "sample_weights = set_weights(y_train)\n",
    "sample_weights_t = set_weights(y_test)\n",
    "\n",
    "encoder = LabelBinarizer()\n",
    "encoder.fit(df_data[\"emotion_E\"])\n",
    "text_labels = encoder.classes_"
   ]
  },
  {
   "cell_type": "markdown",
   "metadata": {},
   "source": [
    "#### Smoted Data <a class=\"anchor\" id=\"smoted\"></a>"
   ]
  },
  {
   "cell_type": "code",
   "execution_count": 42,
   "metadata": {},
   "outputs": [],
   "source": [
    "#SMOTE - Just in case\n",
    "from imblearn.over_sampling import SMOTE\n",
    "\n",
    "smote = SMOTE()\n",
    "\n",
    "X_train_sm_padded_docs, y_train_sm_1hot = smote.fit_sample(X_train_padded_docs, y_train_1hot)\n",
    "# print(X_train_sm_RNN.shape, y_train_sm_RNN.shape)\n",
    "\n",
    "X_train_sm_tfidf, y_train_sm_tfidf = smote.fit_sample(X_train_tfidf, y_train)\n"
   ]
  },
  {
   "cell_type": "code",
   "execution_count": 43,
   "metadata": {},
   "outputs": [
    {
     "data": {
      "text/plain": [
       "Counter({1: 3776, 2: 3776, 0: 3776})"
      ]
     },
     "execution_count": 43,
     "metadata": {},
     "output_type": "execute_result"
    }
   ],
   "source": [
    "#ensure smoted\n",
    "val = []\n",
    "for row in y_train_sm_1hot:\n",
    "    val.append(np.argmax(row))\n",
    "Counter(val)\n",
    "# print(f'0 Count: {val.count(0)}')\n",
    "# print(f'1 Count: {val.count(1)}')\n",
    "# print(f'2 Count: {val.count(2)}')"
   ]
  },
  {
   "cell_type": "markdown",
   "metadata": {},
   "source": [
    "#### Scalled Data <a class=\"anchor\" id=\"scaled\"></a>"
   ]
  },
  {
   "cell_type": "code",
   "execution_count": 45,
   "metadata": {},
   "outputs": [],
   "source": [
    "# # example of scaling data - NOt sure if I will need?\n",
    "# #Text Vectorization(Word2Vec)\n",
    "# #https://github.com/abhibhargav29/SentimentAnalysis/blob/master/Analysis/SentimentAnalysis.ipynb\n",
    "\n",
    "Scaler = StandardScaler()\n",
    "# X_train_scale = Scaler.fit_transform(X_train_tfidf)\n",
    "# X_train_sm_scale = Scaler.fit_transform(X_train_sm_tfidf)\n",
    "\n",
    "\n",
    "X_train_sm_scale_padded = Scaler.fit_transform(X_train_sm_padded_docs)\n",
    "X_train_scale_padded = Scaler.fit_transform(X_train_padded_docs)"
   ]
  },
  {
   "cell_type": "markdown",
   "metadata": {},
   "source": [
    "# Create Models <a class=\"anchor\" id=\"Models\"></a>"
   ]
  },
  {
   "cell_type": "markdown",
   "metadata": {},
   "source": [
    "## RNN"
   ]
  },
  {
   "cell_type": "markdown",
   "metadata": {},
   "source": [
    "### Model <a class=\"anchor\" id=\"RNN\"></a>"
   ]
  },
  {
   "cell_type": "code",
   "execution_count": 46,
   "metadata": {},
   "outputs": [
    {
     "name": "stdout",
     "output_type": "stream",
     "text": [
      "63/63 [==============================] - 21s 253ms/step - loss: 1.0801 - accuracy: 0.3437 - val_loss: 0.8507 - val_accuracy: 0.5569\n",
      "Best: 0.524372 using {'batch_size': 100, 'dropout_rate': 0.4, 'nb_epoch': 10, 'optimizer': 'adam'}\n",
      "0.524372 (0.066688) with: {'batch_size': 100, 'dropout_rate': 0.4, 'nb_epoch': 10, 'optimizer': 'adam'}\n",
      "0.516198 (0.070829) with: {'batch_size': 100, 'dropout_rate': 0.4, 'nb_epoch': 15, 'optimizer': 'adam'}\n",
      "63/63 [==============================] - 3s 24ms/step - loss: 0.7850 - accuracy: 0.6061\n",
      "27/27 [==============================] - 1s 25ms/step - loss: 0.8507 - accuracy: 0.5569\n",
      "Train Scores: 0.61\n",
      "Test Scores: 0.56\n"
     ]
    }
   ],
   "source": [
    "# tunning RNN\n",
    "#________Uncomment to run Smoted data\n",
    "#X_train1 = X_train_sm_padded_docs\n",
    "#y_train1 = y_train_sm_RNN\n",
    "#________\n",
    "#________\n",
    "\n",
    "#________Uncomment to run Smoted an Scaled data\n",
    "# X_train1 = X_train_sm_padded_scale\n",
    "#y_train1 = y_train_sm_RNN\n",
    "#________\n",
    "\n",
    "#________Uncomment to run Unscaled, unSmoted data\n",
    "X_train1 = X_train_padded_docs\n",
    "y_train1 = y_train_1hot\n",
    "#________\n",
    "\n",
    "X_test1 = X_test_padded_docs\n",
    "y_test1 = y_test_1hot\n",
    "\n",
    "\n",
    "def createDeepLearningModel(optimizer='adam',dropout_rate=0.0):\n",
    "    model = Sequential()\n",
    "    #e = Embedding(vocab_size_RNN, max_length, input_length=max_length, trainable=False)\n",
    "    e = Embedding(vocab_size_RNN,  # number of unique tokens +1\n",
    "                  300, #number of features\n",
    "                  weights=[embedding_matrix_google_RNN],# initialize \n",
    "                  input_length=X_train1.shape[1])\n",
    "    #embeddings_initializer=Constant([embedding_matrix])\n",
    "    #trainable=False\n",
    "    \n",
    "    model.add(e)\n",
    "    #model.add(Bidirectional(LSTM(100, return_sequences=True, input_shape=(X_train1.shape[1],embedding_dim))))\n",
    "    model.add(Bidirectional(LSTM(100, dropout=dropout_rate, recurrent_dropout=dropout_rate)))\n",
    "    #model.add(Dropout(dropout_rate))\n",
    "    #model.add(Dense(100, activation='relu'))\n",
    "    model.add(Dense(100, activation='relu'))\n",
    "    model.add(Dense(3, activation = 'softmax'))\n",
    "\n",
    "    model.compile(loss = 'categorical_crossentropy', optimizer = optimizer, metrics = ['accuracy'])\n",
    "    return model\n",
    "\n",
    "\n",
    "hyp_params_RNN = [{\n",
    "            'dropout_rate':[0.4],\n",
    "            'batch_size':[100],\n",
    "            'nb_epoch':[10, 15],\n",
    "            'optimizer':['adam']\n",
    "            #'clf__neurons':[50,100]\n",
    "        }]\n",
    "\n",
    "kears_estimator = KerasClassifier(build_fn=createDeepLearningModel, verbose=1)\n",
    "\n",
    "grid_RNN = GridSearchCV(estimator=kears_estimator,param_grid=hyp_params_RNN,cv=10, n_jobs=-1, return_train_score=True)\n",
    "\n",
    "grid_result  = grid_RNN.fit(X_train1, y_train1, class_weight=d_class_weights_RNN,validation_data=(X_test1,y_test1),\n",
    "                            callbacks=[EarlyStopping(monitor='val_loss', patience=7, min_delta=0.01)])\n",
    "                            # callbacks = [ReduceLROnPlateau(monitor='val_loss', patience=5, cooldown=0),\n",
    "                            #EarlyStopping(monitor='val_accuracy', min_delta=1e-4, patience=5)]\n",
    "\n",
    "# summarize results\n",
    "print(\"Best: %f using %s\" % (grid_result.best_score_, grid_result.best_params_))\n",
    "means = grid_result.cv_results_['mean_test_score']\n",
    "stds = grid_result.cv_results_['std_test_score']\n",
    "params = grid_result.cv_results_['params']\n",
    "for mean, stdev, param in zip(means, stds, params):\n",
    "    print(\"%f (%f) with: %r\" % (mean, stdev, param))\n",
    "modelscore_Train = round(grid_result.score(X_train1, y_train1),2)\n",
    "modelscore_Test = round(grid_result.score(X_test1, y_test1),2)\n",
    "print(f'Train Scores: {modelscore_Train}')\n",
    "print(f'Test Scores: {modelscore_Test}')"
   ]
  },
  {
   "cell_type": "code",
   "execution_count": 47,
   "metadata": {},
   "outputs": [
    {
     "name": "stdout",
     "output_type": "stream",
     "text": [
      "Train Scores: 0.61\n",
      "Test Scores: 0.56\n"
     ]
    }
   ],
   "source": [
    "print(f'Train Scores: {modelscore_Train}')\n",
    "print(f'Test Scores: {modelscore_Test}')"
   ]
  },
  {
   "cell_type": "code",
   "execution_count": 48,
   "metadata": {},
   "outputs": [
    {
     "name": "stdout",
     "output_type": "stream",
     "text": [
      "Best score: 0.524\n",
      "Best Params: {'batch_size': 100, 'dropout_rate': 0.4, 'nb_epoch': 10, 'optimizer': 'adam'}\n"
     ]
    }
   ],
   "source": [
    "print(\"Best score: %0.3f\" % grid_result.best_score_)\n",
    "print(f'Best Params: {grid_result.best_params_}')"
   ]
  },
  {
   "cell_type": "markdown",
   "metadata": {},
   "source": [
    "### Ploting Results with Confusion Matrix <a class=\"anchor\" id=\"RNNMatrix\"></a>"
   ]
  },
  {
   "cell_type": "code",
   "execution_count": 54,
   "metadata": {},
   "outputs": [
    {
     "name": "stdout",
     "output_type": "stream",
     "text": [
      "27/27 [==============================] - 1s 22ms/step\n",
      "RNN - Confusion matrix, without normalization\n",
      "\n",
      "\n"
     ]
    },
    {
     "data": {
      "image/png": "[encoded data removed]",
      "text/plain": [
       "<Figure size 432x288 with 2 Axes>"
      ]
     },
     "metadata": {},
     "output_type": "display_data"
    }
   ],
   "source": [
    "label_names = np.array(['Negative', 'Neutral', 'Positive'])\n",
    "\n",
    "Probabilties = grid_RNN.predict_proba(X_test1)\n",
    "cnf_matrix = confusion_matrix(np.argmax(y_test1, axis=1), np.argmax(Probabilties, axis=1))\n",
    "\n",
    "plot_confusion_matrix(\"RNN\",cnf_matrix, classes=np.asarray(label_names), \n",
    "                      normalize=False, title='Normalized confusion matrix')\n",
    "print(\"\\n\")\n",
    "\n"
   ]
  },
  {
   "cell_type": "code",
   "execution_count": 55,
   "metadata": {},
   "outputs": [
    {
     "name": "stdout",
     "output_type": "stream",
     "text": [
      "RNN - Normalized confusion matrix here\n"
     ]
    },
    {
     "data": {
      "image/png": "[encoded data removed]",
      "text/plain": [
       "<Figure size 432x288 with 2 Axes>"
      ]
     },
     "metadata": {},
     "output_type": "display_data"
    }
   ],
   "source": [
    "plot_confusion_matrix(\"RNN\",cnf_matrix, classes=np.asarray(label_names), \n",
    "                      normalize=True, title='Normalized confusion matrix')"
   ]
  },
  {
   "cell_type": "markdown",
   "metadata": {},
   "source": [
    "## Training Simple ML Models"
   ]
  },
  {
   "cell_type": "markdown",
   "metadata": {},
   "source": [
    "## Bayes <a class=\"anchor\" id=\"bayes\"></a>"
   ]
  },
  {
   "cell_type": "code",
   "execution_count": 56,
   "metadata": {},
   "outputs": [
    {
     "name": "stdout",
     "output_type": "stream",
     "text": [
      "Best: 0.631594 using {'alpha': 0.01}\n",
      "0.631594 (0.013138) with: {'alpha': 0.01}\n",
      "0.630849 (0.013684) with: {'alpha': 0.001}\n",
      "0.628796 (0.014601) with: {'alpha': 0.0001}\n",
      "Train Score: 0.95\n",
      "Test Score: 0.64\n"
     ]
    }
   ],
   "source": [
    "# tunning RNN\n",
    "\n",
    "#____________________________________________TFIDF Data\n",
    "\n",
    "#________Uncomment to run straight tfidf data\n",
    "X_train_B = X_train_tfidf\n",
    "y_train_B = y_train\n",
    "X_test_B = X_test_tfidf\n",
    "y_test_B = y_test\n",
    "#____________________________________________\n",
    "\n",
    "#________Uncomment to run Smoted tfidf data \n",
    "# X_train_B = X_train_sm_tfidf\n",
    "# y_train_B = y_train_sm_tfidf\n",
    "# X_test_B = X_test_tfidf\n",
    "# y_test_B = y_test\n",
    "#________\n",
    "#________\n",
    "\n",
    "\n",
    "#____________________________________________Pretrained Vec Data\n",
    "\n",
    "#________Uncomment to run train test split data\n",
    "# X_train_B = X_train_padded_docs\n",
    "# y_train_B = y_train\n",
    "# X_test_B = X_test_padded_docs\n",
    "# y_test_B = y_test\n",
    "#________________________________________________\n",
    "\n",
    "\n",
    "hyp_params_MNB = [{'alpha':[0.01, 0.001, 0.0001]}]\n",
    "\n",
    "clf = MultinomialNB()\n",
    "\n",
    "grid_Bayes = GridSearchCV(estimator=clf, param_grid=hyp_params_MNB, cv=10, n_jobs=-1, return_train_score=True)\n",
    "# grid_result_B  = grid_Bayes.fit(X_train_B, y_train_B)\n",
    "grid_result_B  = grid_Bayes.fit(X_train_B, y_train_B, **{'sample_weight': sample_weights})\n",
    "\n",
    "# summarize results\n",
    "print(\"Best: %f using %s\" % (grid_result_B.best_score_, grid_result_B.best_params_))\n",
    "means = grid_result_B.cv_results_['mean_test_score']\n",
    "stds = grid_result_B.cv_results_['std_test_score']\n",
    "params = grid_result_B.cv_results_['params']\n",
    "for mean, stdev, param in zip(means, stds, params):\n",
    "    print(\"%f (%f) with: %r\" % (mean, stdev, param))\n",
    "    \n",
    "modelscore_Train = round(grid_result_B.score(X_train_B, y_train_B),2)\n",
    "modelscore_Test = round(grid_result_B.score(X_test_B, y_test_B),2)\n",
    "\n",
    "print(f'Train Score: {modelscore_Train}')\n",
    "print(f'Test Score: {modelscore_Test}')                             "
   ]
  },
  {
   "cell_type": "code",
   "execution_count": 57,
   "metadata": {},
   "outputs": [
    {
     "name": "stdout",
     "output_type": "stream",
     "text": [
      "Best score: 0.632\n",
      "Best Params: {'alpha': 0.01}\n"
     ]
    }
   ],
   "source": [
    "print(\"Best score: %0.3f\" % grid_result_B.best_score_)\n",
    "print(f'Best Params: {grid_result_B.best_params_}')"
   ]
  },
  {
   "cell_type": "markdown",
   "metadata": {},
   "source": [
    "### Ploting Results with Confusion Matrix <a class=\"anchor\" id=\"BayesMatrix\"></a>"
   ]
  },
  {
   "cell_type": "code",
   "execution_count": 59,
   "metadata": {},
   "outputs": [
    {
     "name": "stdout",
     "output_type": "stream",
     "text": [
      "Bayes - Confusion matrix, without normalization\n"
     ]
    },
    {
     "data": {
      "image/png": "[encoded data removed]",
      "text/plain": [
       "<Figure size 432x288 with 2 Axes>"
      ]
     },
     "metadata": {},
     "output_type": "display_data"
    }
   ],
   "source": [
    "label_names = np.array(['Negative', 'Neutral', 'Positive'])\n",
    "\n",
    "Probabilties = grid_Bayes.predict_proba(X_test_B)\n",
    "#cnf_matrix = confusion_matrix(y_test_B, np.argmax(Probabilties, axis=1))\n",
    "\n",
    "y_pred_B = grid_Bayes.predict(X_test_B)\n",
    "cnf_matrix = confusion_matrix(y_test_B, y_pred_B)\n",
    "\n",
    "plot_confusion_matrix(\"Bayes\",cnf_matrix, classes=np.asarray(label_names), \n",
    "                      normalize=False, title='Normalized confusion matrix')\n"
   ]
  },
  {
   "cell_type": "code",
   "execution_count": 60,
   "metadata": {},
   "outputs": [
    {
     "name": "stdout",
     "output_type": "stream",
     "text": [
      "Bayes - Normalized confusion matrix here\n"
     ]
    },
    {
     "data": {
      "image/png": "[encoded data removed]",
      "text/plain": [
       "<Figure size 432x288 with 2 Axes>"
      ]
     },
     "metadata": {},
     "output_type": "display_data"
    }
   ],
   "source": [
    "plot_confusion_matrix(\"Bayes\",cnf_matrix, classes=np.asarray(label_names), \n",
    "                      normalize=True, title='Normalized confusion matrix')"
   ]
  },
  {
   "cell_type": "code",
   "execution_count": null,
   "metadata": {},
   "outputs": [],
   "source": [
    "print(metrics.classification_report(y_test_B,y_pred_B))\n",
    "print(metrics.accuracy_score(y_test,y_pred_B))"
   ]
  },
  {
   "cell_type": "markdown",
   "metadata": {},
   "source": [
    "## RF <a class=\"anchor\" id=\"SVMMatrix\"></a>"
   ]
  },
  {
   "cell_type": "code",
   "execution_count": 61,
   "metadata": {},
   "outputs": [
    {
     "name": "stdout",
     "output_type": "stream",
     "text": [
      "Best: 0.670766 using {'class_weight': 'balanced_subsample', 'max_depth': None, 'n_estimators': 300}\n",
      "0.445634 (0.074236) with: {'class_weight': 'balanced_subsample', 'max_depth': 1, 'n_estimators': 50}\n",
      "0.421759 (0.054684) with: {'class_weight': 'balanced_subsample', 'max_depth': 1, 'n_estimators': 100}\n",
      "0.474344 (0.028035) with: {'class_weight': 'balanced_subsample', 'max_depth': 1, 'n_estimators': 300}\n",
      "0.446365 (0.060395) with: {'class_weight': 'balanced_subsample', 'max_depth': 2, 'n_estimators': 50}\n",
      "0.460368 (0.063381) with: {'class_weight': 'balanced_subsample', 'max_depth': 2, 'n_estimators': 100}\n",
      "0.484420 (0.024973) with: {'class_weight': 'balanced_subsample', 'max_depth': 2, 'n_estimators': 300}\n",
      "0.668714 (0.016953) with: {'class_weight': 'balanced_subsample', 'max_depth': None, 'n_estimators': 50}\n",
      "0.666477 (0.019831) with: {'class_weight': 'balanced_subsample', 'max_depth': None, 'n_estimators': 100}\n",
      "0.670766 (0.019927) with: {'class_weight': 'balanced_subsample', 'max_depth': None, 'n_estimators': 300}\n",
      "0.439077 (0.105810) with: {'class_weight': 'balanced', 'max_depth': 1, 'n_estimators': 50}\n",
      "0.423431 (0.099084) with: {'class_weight': 'balanced', 'max_depth': 1, 'n_estimators': 100}\n",
      "0.469304 (0.051306) with: {'class_weight': 'balanced', 'max_depth': 1, 'n_estimators': 300}\n",
      "0.429963 (0.090021) with: {'class_weight': 'balanced', 'max_depth': 2, 'n_estimators': 50}\n",
      "0.428451 (0.067337) with: {'class_weight': 'balanced', 'max_depth': 2, 'n_estimators': 100}\n",
      "0.493935 (0.029419) with: {'class_weight': 'balanced', 'max_depth': 2, 'n_estimators': 300}\n",
      "0.665355 (0.021438) with: {'class_weight': 'balanced', 'max_depth': None, 'n_estimators': 50}\n",
      "0.663866 (0.020067) with: {'class_weight': 'balanced', 'max_depth': None, 'n_estimators': 100}\n",
      "0.667594 (0.021284) with: {'class_weight': 'balanced', 'max_depth': None, 'n_estimators': 300}\n",
      "Train Score: 0.97\n",
      "Test Score: 0.67\n"
     ]
    }
   ],
   "source": [
    "\n",
    "# tunning RNN\n",
    "\n",
    "#____________________________________________TFIDF Data\n",
    "\n",
    "#________Uncomment to run straight tfidf data\n",
    "X_train_RF = X_train_tfidf\n",
    "y_train_RF = y_train\n",
    "X_test_RF = X_test_tfidf\n",
    "y_test_RF = y_test\n",
    "#____________________________________________\n",
    "\n",
    "#________Uncomment to run Smoted tfidf data \n",
    "# X_train_B = X_train_sm_tfidf\n",
    "# y_train_B = y_train_sm_tfidf\n",
    "# X_test_B = X_test_tfidf\n",
    "# y_test_B = y_test\n",
    "#________\n",
    "#________\n",
    "\n",
    "\n",
    "#____________________________________________Pretrained Vec Data\n",
    "\n",
    "#________Uncomment to run train test split data\n",
    "# X_train_B = X_train_padded_docs\n",
    "# y_train_B = y_train\n",
    "# X_test_B = X_test_padded_docs\n",
    "# y_test_B = y_test\n",
    "#________________________________________________\n",
    "\n",
    "    \n",
    "clf = RandomForestClassifier()\n",
    "# scores = cross_val_score(clf,X_train_RF,y_train_RF,cv=5)\n",
    "#print(scores)\n",
    "#scores.mean()\n",
    "\n",
    "\n",
    "\n",
    "# hyp_params_RF1 = [{\n",
    "#             'clf__criterion': ['gini'],\n",
    "#             'clf__max_depth': [3],\n",
    "#             'clf__n_estimators': [300],\n",
    "#             'clf__min_samples_split': [2],\n",
    "#             'clf__min_samples_leaf':[200],\n",
    "#             'clf__max_features': [.2],\n",
    "#             'clf__class_weight':[{0: 5.47244094488189, 1: 0.5521716101694916, 2: 0.9938036224976168}]}]\n",
    "\n",
    "\n",
    "hyp_params_RF = {\n",
    "    'n_estimators': [50,100,300],\n",
    "    'max_depth': [1,2,None],\n",
    "    'class_weight':['balanced_subsample','balanced']\n",
    "}\n",
    "#balanced_subsample\n",
    "#from imblearn.ensemble import BalancedRandomForestClassifier\n",
    "#from imblearn.ensemble import EasyEnsembleClassifier\n",
    "\n",
    "\n",
    "grid_RF = GridSearchCV(estimator=clf, param_grid=hyp_params_RF, cv=10, n_jobs=-1, return_train_score=True)\n",
    "grid_result_RF  = grid_RF.fit(X_train_RF, y_train_RF)\n",
    "# grid_result_RF  = grid_RF.fit(X_train_RF, y_train_RF, **{'sample_weight': sample_weights})\n",
    "\n",
    "# summarize results\n",
    "print(\"Best: %f using %s\" % (grid_result_RF.best_score_, grid_result_RF.best_params_))\n",
    "means = grid_result_RF.cv_results_['mean_test_score']\n",
    "stds = grid_result_RF.cv_results_['std_test_score']\n",
    "params = grid_result_RF.cv_results_['params']\n",
    "for mean, stdev, param in zip(means, stds, params):\n",
    "    print(\"%f (%f) with: %r\" % (mean, stdev, param))\n",
    "    \n",
    "modelscore_Train = round(grid_result_RF.score(X_train_RF, y_train_RF),2)\n",
    "modelscore_Test = round(grid_result_RF.score(X_test_RF, y_test_RF),2)\n",
    "\n",
    "print(f'Train Score: {modelscore_Train}')\n",
    "print(f'Test Score: {modelscore_Test}')    "
   ]
  },
  {
   "cell_type": "markdown",
   "metadata": {},
   "source": [
    "## Plot Confusion Matrix <a class=\"anchor\" id=\"SVMMatrix\"></a>"
   ]
  },
  {
   "cell_type": "code",
   "execution_count": 63,
   "metadata": {},
   "outputs": [
    {
     "name": "stdout",
     "output_type": "stream",
     "text": [
      "RF - Confusion matrix, without normalization\n"
     ]
    },
    {
     "data": {
      "image/png": "[encoded data removed]",
      "text/plain": [
       "<Figure size 432x288 with 2 Axes>"
      ]
     },
     "metadata": {},
     "output_type": "display_data"
    }
   ],
   "source": [
    "label_names = np.array(['Negative', 'Neutral', 'Positive'])\n",
    "\n",
    "Probabilties_RF = grid_RF.predict_proba(X_test_RF)\n",
    "#cnf_matrix = confusion_matrix(y_test_B, np.argmax(Probabilties, axis=1))\n",
    "\n",
    "y_pred_RF = grid_RF.predict(X_test_RF)\n",
    "cnf_matrix = confusion_matrix(y_test_RF, y_pred_RF)\n",
    "\n",
    "plot_confusion_matrix(\"RF\",cnf_matrix, classes=np.asarray(label_names), \n",
    "                      normalize=False, title='Normalized confusion matrix')"
   ]
  },
  {
   "cell_type": "code",
   "execution_count": 64,
   "metadata": {},
   "outputs": [
    {
     "name": "stdout",
     "output_type": "stream",
     "text": [
      "RF - Normalized confusion matrix here\n"
     ]
    },
    {
     "data": {
      "image/png": "[encoded data removed]",
      "text/plain": [
       "<Figure size 432x288 with 2 Axes>"
      ]
     },
     "metadata": {},
     "output_type": "display_data"
    }
   ],
   "source": [
    "plot_confusion_matrix(\"RF\",cnf_matrix, classes=np.asarray(label_names), \n",
    "                      normalize=True, title='Normalized confusion matrix')"
   ]
  },
  {
   "cell_type": "code",
   "execution_count": 65,
   "metadata": {},
   "outputs": [
    {
     "name": "stdout",
     "output_type": "stream",
     "text": [
      "              precision    recall  f1-score   support\n",
      "\n",
      "           0       0.67      0.15      0.25       228\n",
      "           1       0.69      0.87      0.77      2156\n",
      "           2       0.62      0.41      0.49      1191\n",
      "\n",
      "    accuracy                           0.67      3575\n",
      "   macro avg       0.66      0.48      0.50      3575\n",
      "weighted avg       0.66      0.67      0.64      3575\n",
      "\n",
      "0.6704895104895104\n"
     ]
    }
   ],
   "source": [
    "print(metrics.classification_report(y_test_RF,y_pred_RF))\n",
    "print(metrics.accuracy_score(y_test,y_pred_RF))"
   ]
  },
  {
   "cell_type": "markdown",
   "metadata": {
    "heading_collapsed": true
   },
   "source": [
    "# Misc"
   ]
  },
  {
   "cell_type": "code",
   "execution_count": null,
   "metadata": {
    "hidden": true
   },
   "outputs": [],
   "source": [
    "def print_results(results):\n",
    "    print('BEST PARAMS: {}\\n'.format(results.best_params_))\n",
    "\n",
    "    means = results.cv_results_['mean_test_score']\n",
    "    stds = results.cv_results_['std_test_score']\n",
    "    for mean, std, params in zip(means, stds, results.cv_results_['params']):\n",
    "        print('{} (+/-{}) for {}'.format(round(mean, 3), round(std * 2, 3), params))"
   ]
  },
  {
   "cell_type": "code",
   "execution_count": null,
   "metadata": {
    "hidden": true
   },
   "outputs": [],
   "source": [
    "\n",
    "features = X_train_B\n",
    "labels = y_train_B\n",
    "\n",
    "\n",
    "models = [\n",
    "    RandomForestClassifier(n_estimators=200, max_depth=3, random_state=0),\n",
    "    LinearSVC(),\n",
    "    MultinomialNB(),\n",
    "    LogisticRegression(random_state=0),\n",
    "]\n",
    "CV = 5\n",
    "cv_df = pd.DataFrame(index=range(CV * len(models)))\n",
    "entries = []\n",
    "for model in models:\n",
    "  model_name = model.__class__.__name__\n",
    "  accuracies = cross_val_score(model, features, labels, scoring='accuracy', cv=CV)\n",
    "    \n",
    "  for fold_idx, accuracy in enumerate(accuracies):\n",
    "    entries.append((model_name, fold_idx, accuracy))\n",
    "\n",
    "cv_df = pd.DataFrame(entries, columns=['model_name', 'fold_idx', 'accuracy'])\n",
    "\n",
    "\n",
    "\n",
    "import seaborn as sns\n",
    "sns.boxplot(x='model_name', y='accuracy', data=cv_df)\n",
    "sns.stripplot(x='model_name', y='accuracy', data=cv_df, \n",
    "              size=8, jitter=True, edgecolor=\"gray\", linewidth=2)\n",
    "plt.show()"
   ]
  },
  {
   "cell_type": "code",
   "execution_count": null,
   "metadata": {
    "hidden": true
   },
   "outputs": [],
   "source": [
    "model = LinearSVC()\n",
    "# X_train, X_test, y_train, y_test, indices_train, indices_test = train_test_split(features, labels, df.index, test_size=0.33, random_state=0)\n",
    "# features = X_train_sm_tfidf\n",
    "# labels = y_train_sm_tfidf\n",
    "\n",
    "# .score(X_test1, y_test1)\n",
    "\n",
    "model.fit(X_train_sm_tfidf, y_train_sm_tfidf)\n",
    "\n",
    "y_pred = model.predict(X_test_tfidf)\n",
    "print(model.score(X_train_tfidf, y_train))\n",
    "print(model.score(X_test_tfidf, y_test))\n",
    "\n",
    "# from sklearn.metrics import confusion_matrix\n",
    "\n",
    "# conf_mat = confusion_matrix(y_test, y_pred)\n",
    "# fig, ax = plt.subplots(figsize=(10,10))\n",
    "# sns.heatmap(conf_mat, annot=True, fmt='d',\n",
    "#             xticklabels=category_id_df.Product.values, yticklabels=category_id_df.Product.values)\n",
    "# plt.ylabel('Actual')\n",
    "# plt.xlabel('Predicted')\n",
    "# plt.show()"
   ]
  },
  {
   "cell_type": "code",
   "execution_count": null,
   "metadata": {
    "hidden": true,
    "scrolled": true
   },
   "outputs": [],
   "source": [
    "print(metrics.classification_report(y_test,y_pred))\n",
    "print(metrics.accuracy_score(y_test,y_pred))"
   ]
  }
 ],
 "metadata": {
  "kernelspec": {
   "display_name": "Python 3",
   "language": "python",
   "name": "python3"
  },
  "language_info": {
   "codemirror_mode": {
    "name": "ipython",
    "version": 3
   },
   "file_extension": ".py",
   "mimetype": "text/x-python",
   "name": "python",
   "nbconvert_exporter": "python",
   "pygments_lexer": "ipython3",
   "version": "3.8.3"
  }
 },
 "nbformat": 4,
 "nbformat_minor": 4
}
