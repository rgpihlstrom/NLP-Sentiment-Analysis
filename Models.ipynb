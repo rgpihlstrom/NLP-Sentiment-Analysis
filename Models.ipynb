{
 "cells": [
  {
   "cell_type": "markdown",
   "metadata": {},
   "source": [
    "### Table of Contents\n",
    "\n",
    "* [Functions](#Functions)\n",
    "* [Exploratory, Data Preprocessing](#Exploratory)\n",
    "* [Processing Data](#ProcessingData)\n",
    "    * [Multiclassification Data Prep](#dataprepMulticlassification)\n",
    "    * [Bianaryclassification Data Prep](#dataprepBianaryclassification)\n",
    "    * [Observations](#VisByCountObservations)\n",
    "* [Create Models](#Models)\n",
    "    * [Bianary Bayes](#BiBayes)\n",
    "        * [Results/ Confusion Matrix](#BiBayesMatrix)\n",
    "    * [MultiClass Bayes](#MultiBayes)\n",
    "        * [Results/ Confusion Matrix](#MultiBayesMatrix)\n",
    "    * [MultiClass RNN](#RNN)\n",
    "        * [Results/ Confusion Matrix](#RNNMatrix)\n",
    "* [Conclusions](#Conclusions)    \n",
    "* [Create Pickle Files For Modeling](#CreatePickle)   "
   ]
  },
  {
   "cell_type": "markdown",
   "metadata": {},
   "source": [
    "# Imports/ Libraries"
   ]
  },
  {
   "cell_type": "code",
   "execution_count": 8,
   "metadata": {},
   "outputs": [],
   "source": [
    "import pandas as pd\n",
    "import numpy as np\n",
    "from nltk import word_tokenize\n",
    "from nltk.corpus import stopwords\n",
    "stop_words = stopwords.words('english')\n",
    "import pickle\n",
    "import seaborn as sns\n",
    "\n",
    "import spacy\n",
    "nlp = spacy.load(\"en_core_web_lg\")\n",
    "from nltk.tokenize import TweetTokenizer\n",
    "from sklearn.feature_selection import chi2\n",
    "import nltk\n",
    "from nltk.probability import FreqDist    \n",
    "from nltk import word_tokenize\n",
    "from nltk.util import ngrams \n",
    "from imblearn.over_sampling import SMOTE\n",
    "from nltk.stem import PorterStemmer\n",
    "from nltk.stem import LancasterStemmer\n",
    "porter=PorterStemmer()\n",
    "\n",
    "from keras.wrappers.scikit_learn import KerasClassifier\n",
    "from sklearn.model_selection import StratifiedKFold, cross_val_score\n",
    "# from sklearn.pipeline import Pipeline\n",
    "from imblearn.pipeline import Pipeline\n",
    "from sklearn.naive_bayes import ComplementNB\n",
    "from sklearn.feature_extraction.text import CountVectorizer, TfidfTransformer, TfidfVectorizer\n",
    "from collections import Counter\n",
    "from itertools import chain\n",
    "\n",
    "from sklearn.model_selection import train_test_split, GridSearchCV\n",
    "from sklearn.utils import class_weight\n",
    "from sklearn.preprocessing import LabelBinarizer\n",
    "from sklearn.preprocessing import StandardScaler\n",
    "from sklearn.metrics import confusion_matrix\n",
    "from sklearn import metrics\n",
    "import itertools\n",
    "from spellchecker import SpellChecker\n",
    "\n",
    "\n",
    "from IPython.display import Markdown, display\n",
    "\n",
    "from tqdm import tqdm\n",
    "# tqdm.pandas()\n",
    "\n",
    "import string\n",
    "import operator \n",
    "import re\n",
    "from textblob import TextBlob\n",
    "from wordcloud import WordCloud\n",
    "\n",
    "import matplotlib.pyplot as plt\n",
    "import gc\n",
    "import keras\n",
    "plt.style.use('fivethirtyeight')\n",
    "\n",
    "\n",
    "\n",
    "# define model\n",
    "from sklearn.naive_bayes import MultinomialNB\n",
    "\n",
    "from keras.models import Sequential\n",
    "from keras.layers import Dense, Embedding, LSTM, Bidirectional, SpatialDropout1D\n",
    "from keras.callbacks import ReduceLROnPlateau, EarlyStopping\n",
    "from keras.utils.np_utils import to_categorical\n",
    "from keras.preprocessing.text import Tokenizer\n",
    "from keras.preprocessing.sequence import pad_sequences\n",
    "from tensorflow.keras.layers import Dropout\n",
    "from keras.initializers import Constant\n",
    "from keras.optimizers import Adam\n",
    "from keras.callbacks import EarlyStopping\n",
    "\n",
    "\n",
    "import warnings\n",
    "warnings.filterwarnings(\"ignore\")\n",
    "\n",
    "from gensim.models import word2vec\n",
    "from gensim.scripts.glove2word2vec import glove2word2vec\n",
    "from gensim.models import KeyedVectors\n",
    "from gensim.models.keyedvectors import KeyedVectors\n",
    "\n",
    "\n",
    "\n",
    "#glove2word2vec(glove_input_file=PTrVec_twitterPath, word2vec_output_file=\"gensim_glove_vectors.txt\")\n",
    "\n",
    "pd.set_option(\"max_rows\", 1000)\n",
    "pd.set_option('display.width', None)\n",
    "pd.set_option('max_columns', None)\n",
    "pd.set_option('max_colwidth', 200)"
   ]
  },
  {
   "cell_type": "code",
   "execution_count": 9,
   "metadata": {
    "scrolled": true
   },
   "outputs": [],
   "source": [
    "df_data_O = pd.read_csv(\"./data/judge-1377884607_tweet_product_company.csv\", engine='python')"
   ]
  },
  {
   "cell_type": "markdown",
   "metadata": {},
   "source": [
    "# Functions <a class=\"anchor\" id=\"Functions\"></a>"
   ]
  },
  {
   "cell_type": "markdown",
   "metadata": {},
   "source": [
    "## Misc"
   ]
  },
  {
   "cell_type": "code",
   "execution_count": 10,
   "metadata": {},
   "outputs": [],
   "source": [
    "def build_vocab(texts):\n",
    "    \"\"\" This funcation takes in a df column and returns the unique word count\"\"\"\n",
    "    sentences = texts.apply(lambda x: x.split()).values\n",
    "    vocab = {}\n",
    "    for sentence in sentences:\n",
    "        for word in sentence:\n",
    "            try:\n",
    "                vocab[word] += 1\n",
    "            except KeyError:\n",
    "                vocab[word] = 1\n",
    "    return vocab\n",
    "\n",
    "\n",
    "def createEmbeddedMatrix1 (name, vocab_size, embedding_dim, embeddings_index):\n",
    "    '''this function takes in the vocab size of your corpus or #of unique and the size of the vector representing\n",
    "    your pretrained vector - 100 or 300 in our examples, and the actual pretrained vector indexed by word'''\n",
    "    skippedwords = 0\n",
    "    hits = 0\n",
    "#     global embedding_vector\n",
    "    # Creating container for embedding\n",
    "    embedding_matrix = np.zeros((vocab_size, embedding_dim))\n",
    "\n",
    "    # get vectors for words that are present in both my vocab and the pretrained word2vec\n",
    "    if name == \"RNN\":\n",
    "        for word, i in t_RNN.word_index.items():\n",
    "            try:\n",
    "                embedding_vector = embeddings_index[word]\n",
    "            except:\n",
    "                skippedwords = skippedwords+1\n",
    "                pass\n",
    "            if embedding_vector is not None:\n",
    "                embedding_matrix[i] = embedding_vector\n",
    "                hits += 1\n",
    "        print(\"Converted %d words (%d misses)\" % (hits, skippedwords))\n",
    "        \n",
    "    elif name == \"TFIDF\":\n",
    "        for word, i in t_tfidf.word_index.items():\n",
    "            try:\n",
    "                embedding_vector = embeddings_index[word]\n",
    "            except:\n",
    "                skippedwords = skippedwords+1\n",
    "                pass\n",
    "            try:\n",
    "                if embedding_vector is not None:\n",
    "                    embedding_matrix[i] = embedding_vector\n",
    "                    hits += 1\n",
    "            except:\n",
    "                pass\n",
    "        print(\"Converted %d words (%d misses)\" % (hits, skippedwords))\n",
    "        \n",
    "    elif name == \"TFIDF_ex\":\n",
    "        for word, i in t_tfidf_ex.word_index.items():\n",
    "            try:\n",
    "                embedding_vector = embeddings_index[word]\n",
    "            except:\n",
    "                skippedwords = skippedwords+1\n",
    "                pass\n",
    "            try:\n",
    "                if embedding_vector is not None:\n",
    "                    embedding_matrix[i] = embedding_vector\n",
    "                    hits += 1\n",
    "            except:\n",
    "                pass\n",
    "        print(\"Converted %d words (%d misses)\" % (hits, skippedwords))\n",
    "    \n",
    "    return embedding_matrix\n",
    "\n",
    "def getmaxlength(encoded_docs):\n",
    "    \"\"\" This function takes in encoded docs and is used for the RNN model\"\"\"\n",
    "    max_length = 0\n",
    "    for review_number in range(len(encoded_docs)):\n",
    "        nuumberofwords=len(encoded_docs[review_number])\n",
    "        if (nuumberofwords) > (max_length):\n",
    "            max_length = nuumberofwords\n",
    "    return max_length\n",
    "\n",
    "\n",
    "def getSubjectivity(text):\n",
    "    \"\"\"This function calculates the subjectivey of a tweet\"\"\"\n",
    "    return TextBlob(text).sentiment.subjectivity\n",
    "\n",
    "# Create a function to get the polarity\n",
    "def getPolarity(text):\n",
    "    \"\"\"This function calculates the polarity of a tweet\"\"\"\n",
    "    return  TextBlob(text).sentiment.polarity\n",
    "\n",
    "def check_coverage(name, index, vocab, embeddings_index):\n",
    "    \"\"\"This function takes in embedding_idex and returns the coverage your pretrained vec shares with your corpus\"\"\"\n",
    "    known_words = {}\n",
    "    unknown_words = {}\n",
    "    nb_known_words = 0\n",
    "    nb_unknown_words = 0\n",
    "    for word in vocab.keys():\n",
    "        try:\n",
    "            known_words[word] = embeddings_index[word]\n",
    "            nb_known_words += vocab[word]\n",
    "        except:\n",
    "            unknown_words[word] = vocab[word]\n",
    "            nb_unknown_words += vocab[word]\n",
    "            pass\n",
    "    print(f'{name} : {index}')\n",
    "    print('Found embeddings for {:.3%} of vocab'.format(len(known_words) / len(vocab)))\n",
    "    print('Found embeddings for  {:.3%} of all text'.format(nb_known_words / (nb_known_words + nb_unknown_words)))\n",
    "    unknown_words = sorted(unknown_words.items(), key=operator.itemgetter(1))[::-1]\n",
    "\n",
    "    return unknown_words\n",
    "\n",
    "def getCOuntsofPredictedScores(predictions_model):\n",
    "    \"\"\"takes in array from .predict() and counts the labels for each class via the model\"\"\"\n",
    "    unique, counts = np.unique(predictions_model, return_counts=True)\n",
    "    return dict(zip(unique, counts))\n",
    "\n",
    "def set_weights(y_train, weight = 'balanced', return_class = False, verbose = True):\n",
    "    \"\"\"Compute class weights for a given target column. Generate array of sample \n",
    "    weights. Optionally, prints a preview of the generated weights and classes.\n",
    "    Args:\n",
    "        y_train (list or Series): The target/class data for model.\n",
    "        weight (str): Type of class balancing to calculate. Defaults to 'balanced'.\n",
    "        return_class (bool, optional): Whether to return class weights also. \n",
    "                                        Defaults to False.\n",
    "        verbose (bool, optional): Prints dict of classes and weights, previews \n",
    "                                        sample weights. Defaults to True.\n",
    "    Returns:\n",
    "        np.array: Array of sample weights, one per sample in y_train.\n",
    "        dict (optional) : keys = classes in target, values = weights\n",
    "    \"\"\"\n",
    "    # Calculate weight per class based upon a specificed distribution of target classes\n",
    "    class_weights = class_weight.compute_class_weight(class_weight = weight, \n",
    "                                                    classes = np.unique(y_train), \n",
    "                                                    y = y_train)\n",
    "\n",
    "    c_weights_dict = dict(zip(np.unique(y_train), class_weights))\n",
    "    \n",
    "    # Assign associated class weight to each sample, returns an array of sample length\n",
    "    sample_weights = class_weight.compute_sample_weight(c_weights_dict, y = y_train)\n",
    "\n",
    "    if verbose:\n",
    "\n",
    "        print(\"Class Weights:\", len(class_weights), \"classes\")\n",
    "        display(c_weights_dict)\n",
    "\n",
    "        print(\"Sample Weights:\", len(sample_weights), \"samples\")\n",
    "        display(sample_weights)\n",
    "\n",
    "    if return_class:\n",
    "\n",
    "        return class_weights, sample_weights\n",
    "    \n",
    "    else:\n",
    "\n",
    "        return sample_weights\n",
    "    \n",
    "def wordcloud_draw(data, color = 'black'):\n",
    "    words = ' '.join(data)\n",
    "    cleaned_word = \" \".join([word for word in words.split()])\n",
    "    wordcloud = WordCloud(\n",
    "                      background_color=color,\n",
    "                      width=2500,\n",
    "                      height=1500\n",
    "                     ).generate(cleaned_word)\n",
    "    plt.figure(1,figsize=(10, 10))\n",
    "    plt.imshow(wordcloud)\n",
    "    plt.axis('off')\n",
    "    plt.show()\n",
    "    \n",
    "    \n",
    "def plot_confusion_matrix(nameOfMatrix, cm, classes,\n",
    "                          normalize=False,\n",
    "                          title='Confusion matrix',\n",
    "                          cmap=plt.cm.Blues):\n",
    "    \"\"\"\n",
    "    This function prints and plots the confusion matrix.\n",
    "    Normalization can be applied by setting `normalize=True`.\n",
    "    \"\"\"\n",
    "    if normalize:\n",
    "        cm = cm.astype('float') / cm.sum(axis=1)[:, np.newaxis]\n",
    "        print(f'{nameOfMatrix} - Normalized confusion matrix here')\n",
    "    else:\n",
    "        print(f'{nameOfMatrix} - Confusion matrix, without normalization')\n",
    "\n",
    " \n",
    "    plt.imshow(cm, interpolation='nearest', cmap=cmap)\n",
    "    plt.title(title)\n",
    "    plt.colorbar()\n",
    "    tick_marks = np.arange(len(classes))\n",
    "    plt.xticks(tick_marks, classes, rotation=90)\n",
    "    plt.yticks(tick_marks, classes)\n",
    "\n",
    "    fmt = '.2f' if normalize else 'd'\n",
    "    thresh = cm.max() / 2.\n",
    "    for i, j in itertools.product(range(cm.shape[0]), range(cm.shape[1])):\n",
    "        plt.text(j, i, format(cm[i, j], fmt),\n",
    "                 horizontalalignment=\"center\",\n",
    "                 color=\"white\" if cm[i, j] > thresh else \"black\")\n",
    "\n",
    "    plt.tight_layout()\n",
    "    plt.ylabel('True label')\n",
    "    plt.xlabel('Predicted label')\n"
   ]
  },
  {
   "cell_type": "markdown",
   "metadata": {},
   "source": [
    "## Cleanning Functions <a class=\"anchor\" id=\"ApplyCleanup\"></a>"
   ]
  },
  {
   "cell_type": "code",
   "execution_count": 11,
   "metadata": {},
   "outputs": [],
   "source": [
    "def tweets_cleaning(x, correct_spelling=True, remove_emojis=True):\n",
    "    \"\"\"Apply function to a clean a tweet\"\"\"\n",
    "    if correct_spelling:\n",
    "        x = correct_spellings(x)\n",
    "    if remove_emojis:\n",
    "        x = x.encode('ascii', 'ignore').decode('utf8').strip()\n",
    "\n",
    "    return x\n",
    "\n",
    "def clean_numbers(x):\n",
    "    \"\"\"Removes Numbers from tweets\"\"\"\n",
    "    x = re.sub('[0-9]{5,}', '', x)\n",
    "    x = re.sub('[0-9]{4}', '', x)\n",
    "    x = re.sub('[0-9]{3}', '', x)\n",
    "    x = re.sub('[0-9]{2}', '', x)\n",
    "    return x\n",
    "\n",
    "\n",
    "def lemmatization1(texts):\n",
    "    \"\"\"Performs lemmatization\"\"\"\n",
    "    texts_out = []\n",
    "    doc = nlp(texts)\n",
    "    #using spacey to lemmatize\n",
    "    texts_out.append([token.lemma_ for token in doc])\n",
    "    listToStr = ' '.join([str(elem) for elem in texts_out[0]])\n",
    "    return listToStr\n",
    "\n",
    "mispell_dict = {'doesnt':'does not',\n",
    "                    'instagram': 'social medium',\n",
    "                    'whatsapp': 'social medium',\n",
    "                    'snapchat': 'social medium'}\n",
    "\n",
    "def tolower(text):\n",
    "    \"\"\"Lower texts\"\"\"\n",
    "    tolower = ' '.join([i.lower() for i in text.split()])\n",
    "    return tolower\n",
    "\n",
    "\n",
    "def _get_mispell(mispell_dict):\n",
    "    mispell_re = re.compile('(%s)' % '|'.join(mispell_dict.keys()))\n",
    "    return mispell_dict, mispell_re\n",
    "\n",
    "mispellings, mispellings_re = _get_mispell(mispell_dict)\n",
    "\n",
    "def replace_typical_misspell(text):\n",
    "    \"\"\"This function along with the above, look to correct mispelled words/ contractions\"\"\"\n",
    "    def replace(match):\n",
    "        return mispellings[match.group(0)]\n",
    "    return mispellings_re.sub(replace, text)\n",
    "\n",
    "contraction_dict = {\"w/out\":\"with out\",\"gonna\":\"going to\",\"didnt\":\"did not\", \"ipad 2\": \"ipad2\",\n",
    "                    \"Gotta\": \"have to\",\n",
    "                    \"ain't\": \"is not\", \"aren't\": \"are not\",\"can't\": \n",
    "                    \"cannot\", \"cant\": \"can not\", \"cause\": \"because\", \"could've\": \"could have\", \n",
    "                    \"couldn't\": \"could not\", \"didn't\": \"did not\",  \n",
    "                    \"doesn't\": \"does not\", \"don't\": \"do not\", \n",
    "                    \"hadn't\": \"had not\", \"hasn't\": \"has not\", \n",
    "                    \"haven't\": \"have not\", \"he'd\": \"he would\",\"he'll\": \n",
    "                    \"he will\", \"he's\": \"he is\", \"how'd\": \"how did\", \n",
    "                    \"how'd'y\": \"how do you\", \"how'll\": \"how will\", \n",
    "                    \"how's\": \"how is\",  \"I'd\": \"I would\", \"I'd've\": \n",
    "                    \"I would have\", \"I'll\": \"I will\", \"I'll've\": \n",
    "                    \"I will have\",\"I'm\": \"I am\", \"I've\": \n",
    "                    \"I have\", \"i'd\": \"i would\", \"i'd've\": \n",
    "                    \"i would have\", \"i'll\": \"i will\",  \"i'll've\": \n",
    "                    \"i will have\",\"i'm\": \"i am\", \"i've\": \"i have\", \n",
    "                    \"isn't\": \"is not\", \"it'd\": \"it would\", \"it'd've\": \n",
    "                    \"it would have\", \"it'll\": \"it will\", \"it'll've\": \n",
    "                    \"it will have\",\"it's\": \"it is\", \"let's\": \"let us\", \n",
    "                    \"ma'am\": \"madam\", \"mayn't\": \"may not\", \"might've\": \n",
    "                    \"might have\",\"mightn't\": \"might not\",\"mightn't've\": \n",
    "                    \"might not have\", \"must've\": \"must have\", \"mustn't\": \n",
    "                    \"must not\", \"mustn't've\": \"must not have\", \"needn't\": \n",
    "                    \"need not\", \"needn't've\": \"need not have\",\"o'clock\": \n",
    "                    \"of the clock\", \"oughtn't\": \"ought not\", \"oughtn't've\": \n",
    "                    \"ought not have\", \"shan't\": \"shall not\", \"sha'n't\": \n",
    "                    \"shall not\", \"shan't've\": \"shall not have\", \"she'd\": \n",
    "                    \"she would\", \"she'd've\": \"she would have\", \"she'll\": \n",
    "                    \"she will\", \"she'll've\": \"she will have\", \"she's\": \n",
    "                    \"she is\", \"should've\": \"should have\", \"shouldn't\": \n",
    "                    \"should not\", \"shouldn't've\": \"should not have\", \"so've\": \n",
    "                    \"so have\",\"so's\": \"so as\", \"this's\": \"this is\",\"that'd\": \n",
    "                    \"that would\", \"that'd've\": \"that would have\", \"that's\": \n",
    "                    \"that is\", \"there'd\": \"there would\", \"there'd've\": \"there would have\", \n",
    "                    \"there's\": \"there is\", \"here's\": \"here is\",\"they'd\": \"they would\", \n",
    "                    \"they'd've\": \"they would have\", \"they'll\": \"they will\", \"they'll've\": \n",
    "                    \"they will have\", \"they're\": \"they are\", \"they've\": \"they have\", \"to've\":\n",
    "                    \"to have\", \"wasn't\": \"was not\", \"we'd\": \"we would\",\n",
    "                    \"we'd've\": \"we would have\", \"we'll\": \"we will\", \"we'll've\": \n",
    "                    \"we will have\", \"we're\": \"we are\", \"we've\": \"we have\",\n",
    "                    \"weren't\": \"were not\", \"what'll\": \"what will\",\n",
    "                    \"what'll've\": \"what will have\", \"what're\": \"what are\",  \n",
    "                    \"what's\": \"what is\", \"what've\": \"what have\", \n",
    "                    \"when's\": \"when is\", \"when've\": \"when have\", \n",
    "                    \"where'd\": \"where did\", \"where's\": \"where is\",\n",
    "                    \"where've\": \"where have\", \"who'll\": \"who will\",\n",
    "                    \"who'll've\": \"who will have\", \"who's\": \"who is\",\n",
    "                    \"who've\": \"who have\", \"why's\": \"why is\", \"why've\": \n",
    "                    \"why have\", \"will've\": \"will have\", \"won't\": \n",
    "                    \"will not\", \"won't've\": \"will not have\", \"would've\": \n",
    "                    \"would have\", \"wouldn't\": \"would not\", \"wouldn't've\": \n",
    "                    \"would not have\", \"y'all\": \"you all\", \"y'all'd\": \n",
    "                    \"you all would\",\"y'all'd've\": \"you all would have\",\"y'all're\":\n",
    "                    \"you all are\",\"y'all've\": \"you all have\",\"you'd\": \"you would\", \n",
    "                    \"you'd've\": \"you would have\", \"you'll\": \"you will\", \"you'll've\": \n",
    "                    \"you will have\", \"you're\": \"you are\", \"you've\": \"you have\"}\n",
    "\n",
    "def _get_contractions(contraction_dict):\n",
    "    contraction_re = re.compile('(%s)' % '|'.join(contraction_dict.keys()))\n",
    "    return contraction_dict, contraction_re\n",
    "\n",
    "contractions, contractions_re = _get_contractions(contraction_dict)\n",
    "\n",
    "def replace_contractions(text):\n",
    "    def replace(match):\n",
    "        return contractions[match.group(0)]\n",
    "    return contractions_re.sub(replace, text)\n",
    "\n",
    "def add_lower(embedding, vocab):\n",
    "    count = 0\n",
    "    for word in vocab:\n",
    "        if word in embedding and word.lower() not in embedding:  \n",
    "            embedding[word.lower()] = embedding[word]\n",
    "            count += 1\n",
    "    print(f\"Added {count} words to embedding\")\n",
    "\n"
   ]
  },
  {
   "cell_type": "code",
   "execution_count": 12,
   "metadata": {},
   "outputs": [],
   "source": [
    "def count_of_wordsInCorpus (df_Col_containing_tokens):\n",
    "    \"\"\"takes in f_data['tweets'], create one giant corpus, counts words and returns count\"\"\"\n",
    "    one_Giant_Corpus_From_DF = \" \".join(df_Col_containing_tokens)\n",
    "    return one_Giant_Corpus_From_DF\n",
    "\n",
    "def count_of_Unique_wordsInCorpus (df_Col_containing_tokens):\n",
    "    \"\"\"takes in f_data['tweets'], create one giant corpus, counts words and returns count\"\"\"\n",
    "    one_Giant_Corpus_From_DF = \" \".join(df_Col_containing_tokens)\n",
    "    one_Giant_Corpus_From_DF_Separated_By_Commas = word_tokenize(one_Giant_Corpus_From_DF)\n",
    "    unique_words = set(one_Giant_Corpus_From_DF_Separated_By_Commas)\n",
    "    return unique_words\n",
    "\n",
    "# Get the most frequent words\n",
    "def count_of_words_frequncy (df_Col_containing_tokens):\n",
    "    \"\"\"takes in f_data['tweets'], create one giant corpus, counts words, creates dictionary and then converts to \n",
    "     dataframe of words and count\"\"\"\n",
    "    one_Giant_Corpus_From_DF = \" \".join(df_Col_containing_tokens)\n",
    "    one_Giant_Corpus_From_DF_Separated_By_Commas = word_tokenize(one_Giant_Corpus_From_DF)\n",
    "    counter = Counter(one_Giant_Corpus_From_DF_Separated_By_Commas) # creates a dictionary so you can get count by word ex. {'3': 149,'g': 55,'iphone': 1506}\n",
    "    CountOFUniquewords_using_Counter = len(counter)\n",
    "    # get most common - counter.most_common(100)\n",
    "    Sorted_Dict_By_Value = dict(sorted(counter.items(), key=lambda x: x[1], reverse=True))\n",
    "    return  pd.DataFrame(counter.most_common(),columns=['words', 'count'])\n",
    "\n",
    "\n",
    "def removewordswithcertainCount2(df, count):\n",
    "    \"\"\"Removes words that do not have a specified count in the corpus\"\"\"\n",
    "    # split words into lists\n",
    "    v = df.str.split().tolist() # [s.split() for s in df['Col2'].tolist()]\n",
    "    # compute global word frequency\n",
    "    c = Counter(chain.from_iterable(v))\n",
    "    # filter, join, and re-assign\n",
    "    df = [' '.join([j for j in i if c[j] > count]) for i in v]\n",
    "    return df\n",
    "\n",
    "def replace_words(d, col):\n",
    "    \"\"\"Replaces words in corpus based on passed in dictionary\"\"\"\n",
    "    d1={r'(?<!\\S)'+ k.strip() + r'(?!\\S)':k1 for k1, v1 in d.items() for k in v1.split(',')}\n",
    "    df_data[col] = df_data[col].replace(d1, regex=True)\n",
    "    return df_data[col]\n",
    "#iPad 2\n",
    "\n",
    "def correct_words(x):\n",
    "    \"\"\"Replaces words in corpus based on enclosed dictionary\"\"\"\n",
    "    dic = {'doesnt':'does not','instagram': 'social medium','whatsapp': 'social medium','snapchat': 'social medium',\n",
    "          'ipad2s':'ipad2', 'abt': 'about' , '1st': 'first'}\n",
    "    for word in dic.keys():\n",
    "        x = x.replace(word, dic[word])\n",
    "    return x\n",
    "\n",
    "def clean(text):\n",
    "    \"\"\"Cleans texts\"\"\"\n",
    "    text = re.sub('(http)([^][\\s#<>|{}]+)', ' ', text) #Removing @mention \n",
    "    text = re.sub('[#]([^][\\s#<>|{}]+)', '', text) #Removing #mentions\n",
    "    text = re.sub('[＠@]([^][\\s#<>|{}]+)', ' ', text) #Removing @mentions\n",
    "    text = re.sub('RT[\\s]+', '', text) # Removing RT\n",
    "    text = re.sub('https?:\\/\\/\\S+|www\\\\.\\S+', '', text)\n",
    "    text = re.sub('@[A-Za-z0–9]+', '', text) #Removing @mentions\n",
    "    text = re.sub('[?!.,\"#$%\\'()*+-/:;<=>@[\\\\]^_`{|}~]', ' ', text) # Removing\n",
    "    text = re.sub(r'[^A-Za-z0-9 ]+', '', text) # just added\n",
    "    text = re.sub(r'(�ïª7¼‹ãå9ó8òêìâáçI©è¢äüî¡¾ë£ùðš0„«»ôöœ´žàµ•¬ý¤\"“¥é€±,)', ' ', text) # just added\n",
    "    text = re.sub('[\"\"]', ' ', text) # Removing\n",
    "    text = re.sub('[‰Û÷]', ' ', text) # Removing \n",
    "    text = re.sub('[/\\&]', ' ', text) # \n",
    "\n",
    "    return text\n",
    "\n",
    "def RemovesGarbageWords(text):\n",
    "    \"\"\"Removes Garbage words\"\"\"\n",
    "    listofgarbagewords = ['sxsw','http' , 'a','to','of','and','quot', 'tapworthy', 'qagb','gsdm', 'musedchat',\n",
    "                      'newTwitter','RISEAustin','link','austin','cc','riseaustin', 'RT', 'rt',\n",
    "                      'store', 'stores','new','launch', 'app', 'social', 'popup', \n",
    "                          'google', 'ipad','ipad2', 'apple','iphone', 'get', 'open']\n",
    "                        # 'google', 'ipad','ipad2', 'apple','iphone'\n",
    "\n",
    "    listofgarbagewords1 = ' '.join([i for i in text.split() if i not in listofgarbagewords])\n",
    "    return listofgarbagewords1\n",
    "\n",
    "def RemoveStopwords1(text):\n",
    "    \"\"\"Removes Garbage words\"\"\"\n",
    "    stop_words1 = ['aclu', 'de', 'ab', 'acc', 'atx', 'cst', 'bitlygmzb', 'att','the', 'be', 'at', 'it', 'an', \n",
    "                   's', 'that ', 'at', 'for', 'up','on','have', 'I', 'in','you', 'my','with','my','3rd',\n",
    "                  '4th','5th', '6th', '9abc', 'aapl','actsofshare', 'actsofsharing', 'aka','akqa','atamp', 'bb',\n",
    "                   'boomersquot', 'btw', 'circlesquot', 'com', 'conferencesquot', 'discoveryquot', 'dl', 'f6bcet','gb',\n",
    "                  'herequot', 'ht','html', 'html5' ,'goggle', 'ipad2', 'ipad', 'iphone', 'ipod', 'mac', 'jc', 'kek', 'fyi',\n",
    "                   'll','ly', 'messquot', 'mr', 'mt', 'nfc', 'nowand', 'pac', 'popupquot', 'preferencesquot', 'qamp',\n",
    "                   'qr code reader','qrafter' 'rww', 'speakquot', 'sxswi', 'sxswquot', ' th ', 'tweetquot', 'umm', \n",
    "                   'upquot', 've','xquot', 'aroundquot', 'amp', 'by', 'wt', 'beluga', 'barton', 'ca', 'cont','dj',\n",
    "                   'bit', 'gmzb','ex', 'hmm', 'hmmm','hmmmm', 'ii', 'la', 'san', 'st', 'this', 'do', 'that',\n",
    "                  'not', 'just' , 'pop','they', 'will', 'out', 'get', 'so', 'go',\n",
    "                   #'can', 'all', 'circle', 'use', 'we', 'good', 'one', 'come'\n",
    " \n",
    "                  \n",
    "                   'crazy', 'man', 'here', 'make', 'suggestion', 'break', 'kind',\n",
    "                   'tip', 'leave', 'desktop', 'live', 'stare', 'youtube', 'block',\n",
    "                   'each', 'power', 'update', 'session', 'droid', 'am', 'though',\n",
    "                   'both', 'until', 'site', 'interested', 'feed', 'computer',\n",
    "                   'return', 'thought', 'mashable', 'anybody', 'document', 'air',\n",
    "                   'devs', 'corner', 'through', 'provide', 'communication', 'trip',\n",
    "                   'employee', 'about', 'presentation', 'ft', 'least', 'testing',\n",
    "                   'picture', 'charger', 'possible', 'ya', 'creator', 'hall',\n",
    "                   'browser', 'photo', 'ok', 'suggest', 'who', 'doubt', 'improve',\n",
    "                   'couple', 'plus', 'salon', 'apparently', 'after', 'wave', 'cough',\n",
    "                   'verizon', 'right', 'chip', 'interact', 'little', 'dell', 'toy',\n",
    "                   'conf', 'radios', 'privacy', 'masse', 'extend', 'plug', 'actual',\n",
    "                   'combine', 'maybe', 'during', 'left', 'detailed', 'refine',\n",
    "                   'strike', 'spring', 'desk', 'sauce', 'refrigerator', 'noon',\n",
    "                   'chief', 'safari', 'alive', 'computing', 'popup', 'schedule',\n",
    "                   'simplicity', 'lynn', 'unique',\n",
    "                   \n",
    "                   \n",
    "                   'movie', 'hope', 'promo', 'review', 'signing', 'dan', 'complex',\n",
    "                   'task', 'grille', 'megastore', 'black', 'drunk', 'goog', 'tweep',\n",
    "                   'takeaway', 'actually', 'sale', 'strategy', 'pub', 'guest',\n",
    "                   'scavenger', 'engage', 'march', 'scarbrough', 'ie9', 'space',\n",
    "                   'org', 'visual', 'filmaster', 'experience', 'couch', 'zazzle',\n",
    "                   'engagement', 'min', 'tshirt', 'grateful', 'outside', 'tomorrow',\n",
    "                   'cup', 'presenter', 'lt', 'designer', 'mint', 'academy', 'tsunami',\n",
    "                   'presence', 'wordpress', 'bag', 'sort', 'former', 'month', 'spy',\n",
    "                   'screen', 'tap', 'temp', 'million', 'portable', 'ratios',\n",
    "                   'mechanic', 'tour', 'down', 'weather', 'clear', 'piece', 'last',\n",
    "                   'ie', 'raffle', 'despite', 'aware', 'hell', 'store', 'onto',\n",
    "                   'either', 'sad', 'bed', 'read', 'fuel', 'later', 'fall', 'zombie',\n",
    "                   'chris', 'path', 'accessible', 'end', 'application', 'melissa',\n",
    "                   'rating', 'understand', 'monday', 'suppose', 'wake', 'option',\n",
    "                   'yellow', 'road', 'pr', 'imagine', 'lack', 'eg', 'debut',\n",
    "                   'activity',\n",
    "                   \n",
    "                   \n",
    "                   'mine', 'into', 'hey', 'course', 'list', 'park', 'slow', 'plaid',\n",
    "                   'evening', 'kick', 'evidence', 'lease', 'pay', 'convention',\n",
    "                   'page', 'stop', 'mophie', 'management', 'retweet', 'along',\n",
    "                   'ticket', 'dennis', 'hyatt', 'final', 'chevy', 'rsvp', 'dig',\n",
    "                   'since', 'ensue', 'ireport', 'deal', 'maggie', 'past', 'creative',\n",
    "                   'giant', 'tim', 'sleep', 'kawasaki', 'pauly', 'control', 'realize',\n",
    "                   'manage', 'machine', 'rim', 'grab', 'woman', 'tv', 'homeless',\n",
    "                   'cable', 'npr', 'extra', 'flip', 'middle', 'copy', 'true',\n",
    "                   'finder', 'nerd', 'third', 'ui', 'iron', 'yeah', 'techcrunch',\n",
    "                   'eye', 'yelp', 'flood', 'japan', 'ebook', 'pie', 'billion',\n",
    "                   'favorite', 'client', 'govt', 'side', 'star', 'wiley', 'ground',\n",
    "                   'capture', 'goer', 'receive', 'apple', 'wilderness', 'tech',\n",
    "                   'mission', 'wtf', 'supposedly', 'aim', 'impact', 'watch',\n",
    "                   'ranking', 'cursor', 'unbox', 'baby', 'bunch', 'diff', 'messaging',\n",
    "                   'gen', 'conference', 'unload', 'naomi', 'yep', 'slice', 'shot',\n",
    "                   'starbucks', 'bar', 'visit', 'shaker', 'mover', 'spill', 'bean',\n",
    "                   'international', 'grow', 'enchantment', 'handle', 'costume',\n",
    "                   'public', 'nonprofit', 'double', 'water', 'want', 'fit',\n",
    "                   'potential', 'ice', 'cream', 'utility', 'between', 'bump', '3g',\n",
    "                   'joke', 'influence', 'style', 'mag', 'facetime', 'everything',\n",
    "                   'omg', 'replace', 'due', 'she', 'behind', 'society', 'display',\n",
    "                   'grill', 'vid', 'solve', 'gowalla', 'movement', 'his', 'mind',\n",
    "                   'stranger', 'add', 'nyc', 'truck', 'pass', 'fully', 'scope',\n",
    "                   'body', 'personal', 'yesterday', 'webmaster', 'conversation',\n",
    "                   'massive', 'forget', 'full', 'preso', 'follower', 'ebay', 'hop',\n",
    "                   'hipster', 'see', 'campbell', 'member', 'policy', 'freak',\n",
    "                   'unofficial', 'shortly', 'setup', 'consumer', 'tab', 'grape',\n",
    "                   'city', 'taste', 'agency', 'somehow', 'pic', 'how', 'research',\n",
    "                   'observer', 'rise', 'foursquare', 'amount', 'usa', 'plane', 'qr',\n",
    "                   'link', 'intro', 'bus', 'cry', 'drive', 'white', 'york', 'stage',\n",
    "                   \n",
    "                   'busy', 'popular', 'fan', 'living', 'collect', 'almost', 'large',\n",
    "                   'gun', 'dark', 'pagemaker', 'definitely', 'uberguide', 'thousand',\n",
    "                   'chat', 'upload', 'finish', 'row', 'urinal', 'small', 'credit',\n",
    "                   'vip', 'mapping', 'film', 'officially', 'backup', 'brand', 'boom',\n",
    "                   'state', 'cash', 'short', 'simple', 'california', 'willing',\n",
    "                   'curious', 'worry', 'important', 'pull', 'streetview', 'scream',\n",
    "                   'techie', 'monitor', 'bear', 'response', 'person', 'carry',\n",
    "                   'majority', 'font', 'count', 'random', 'restaurant', 'recipe',\n",
    "                   'speakeasy', 'fire', 'share', 'wrong', 'available', 'except',\n",
    "                   'midnight', 'normal', 'server', 'kid', 'system', 'appreciate',\n",
    "                   'hearing', 'panel', 'reality', 'welcome', 'gaga', 'lesson',\n",
    "                   'hello', 'pro', 'mile', 'essential', 'score', 'touch', 'valuable',\n",
    "                   'google', 'unveil', 'instant', 'quality', 'engineer', 'appear',\n",
    "                   'remind', 'hackathon', 'mother', 'snap', 'owner', 'sure',\n",
    "                   'birthday', 'confirm', 'result', 'demand', 'mayer', 'may', 'got',\n",
    "                   'child', 'swag', 'til', 'topicture', 'percent', 'chromeos',\n",
    "                   'tyson', 'taco', 'article', 'shirt', 'hair', 'peak', 'atari',\n",
    "                   'sorry', 'group', 'foot', 'innovate', 'while', 'automatically',\n",
    "                   'sticker', 'invade', 'ave', 'bbq', 'become', 'interactive',\n",
    "                   'current', 'friend', 'bet', 'hunt', 'learn', 'flipboard',\n",
    "                   'successful', 'enchant', 'otherwise', 'three', 'fly', 'disc',\n",
    "                   'different', 'intel', 'keyboard', 'only', 'anti', 'chatter',\n",
    "                   'newspaper', 'more', 'liberty', 'inside', 'online', 'stand',\n",
    "                   'queue', 'hang', 'own', 'miss', 'googletv', 'recharge', 'bpm',\n",
    "                   'participate', 'usage', 'web', 'coupon', 'slap', 'qrafter',\n",
    "                   'status', 'exclusive', 'beyond', 'build', 'push', 'shade',\n",
    "                   'texting', 'difference', 'japanese', 'press', 'solo', 'therapy',\n",
    "                   'soon', 'record', 'plant', 'against', 'pre', 'seat', 'topicality',\n",
    "                   'ahead', 'tx', 'prop', 'per', 'competition', 'cuz', 'girl',\n",
    "                   'recreate', 'interesting', 'first', 'explore', 'gallery', 'matter',\n",
    "                   'heart', 'likeability', 'loose', 'southwest', 'entry', 'custom',\n",
    "                   'includeude', 'country', 'compete', 'reader', 'uber', 'jump',\n",
    "                   'mar', 'tradeshow', 'data', 'checkout', 'sit', 'themed', 'cell',\n",
    "                   'compare', 'ceo', 'trailer', 'invite', 'dominance', 'prepare',\n",
    "                   'cross', 'hollow', 'bird', 'allow', 'less', 'hotspot',\n",
    "                   'recommendation', 'fashion', 'headline', 'stumble', 'player',\n",
    "                   'several', 'rumour', 'compose', 'choice', 'hacker', 'enable',\n",
    "                   'cheese', 'limited', 'exhibit', 'produce', 'gap', 'rare',\n",
    "                   'private', 'anywhere', 'surprise', 'webdocument', 'preview',\n",
    "                   'wire', 'tonite', 'stat', 'ago', 'audience', 'two', 'brain',\n",
    "                   'crowley', 'death', 'light', 'drink', 'heavy', 'face',\n",
    "                   'absolutely', 'thx', 'charge', 'ha', 'effort', 'pc', 'name',\n",
    "                   'holy', 'race', 'venue', 'someone', 'lonely', 'serve', 'integrate',\n",
    "                   'hard', 'bring', 'hint', 'load', 'league', 'lunch', 'em', 'till',\n",
    "                   'war', 'such', 'correct', 'create', 'wall', 'likely', 'turn',\n",
    "                   'canada', 'speech', 'lab', 'basically', 'job', 'point', 'hide',\n",
    "                   'alone', 'endorse', 'center', 'size', 'price', 'lot', 'stay',\n",
    "                   'extraordinary', 'buzz', 'demo', 'cheer', 'software', 'quickly',\n",
    "                   '4square', 'beard', 'bank', 'ios', 'laptop', 'wine', 'total',\n",
    "                   'friday', 'connected', 'car', 'class', 'catch', 'trustworthiness',\n",
    "                   'generate', 'pls', 'chrome', 'alert', 'website', 'jr', 'security',\n",
    "                   'ear', 'battle', 'color', 'theme', 'reilly', 'cult', 'play',\n",
    "                   'value', 'hour', 'discussion', 'steal', 'preferences',\n",
    "                   'publishing', 'immersive', 'draw', 'program', 'celeb', 'latitude',\n",
    "                   'marketplace', 'paul', 'six', 'rage', 'square', 'fight', 'regular',\n",
    "                   'josh', 'guide', 'smartphone', 'damn', 'gain', 'edition',\n",
    "                   'tomlinson', 'marketer', 'augment', 'big', 'sponsor', 'adoption',\n",
    "                   'keynote', 'hilarious', 'fam', 'realtime', 'borrow', 'madness',\n",
    "                   'lol', 'mode', 'your', 'lego', 'decision', 'amazon', 'official',\n",
    "                   'personalize', 'write', 'registration', 'geek', 'ux', 'secret',\n",
    "                   'enjoy', 'believe', 'host', 'sunny', 'still', 'spin', 'enter',\n",
    "                   'minute', 'meet', 'factor', 'ballroom', 'hi', 'api', 'release',\n",
    "                   'click', 'galaxy', 'roll', 'meeting', 'navigation', 'sandwich',\n",
    "                   'south', 'attend', 'schwag', 'send', 'beta', 'spot', 'celebrate',\n",
    "                   'blogger', 'ass', 'view', 'folk', 'develop', 'especially', 'juice',\n",
    "                   'pocket', 'surround', 'confession', 'age', 'funny', 'tool',\n",
    "                   'lineup', 'once', 'her', 'model', 'there', 'arrive', 'gadget',\n",
    "                   'direction', 'beer', 'lounge', 'badge', 'hit', 'afternoon',\n",
    "                   'detail', 'huge', 'foodspotting', 'slate', 'digital', 'give',\n",
    "                   'better', 'recap', 'everyone', 'board', 'table', 'wifi', 'advice',\n",
    "                   'shoe', 'protect', 'without', 'fill', 'window', 'tempt', 'biz',\n",
    "                   'totally', 'wear', 'focus', 'swiss', 'able', 'start', 'text',\n",
    "                   'gig', 'guard', 'stock', 'world', 'simply', 'giveaway', 'feature',\n",
    "                   'gsdamp', 'mp3', 'special', 'anymore', 'same', 'browse', 'myself',\n",
    "                   'yourself', 'co', 'discuss', 'word', 'force', 'genentech', 'head',\n",
    "                   'connect', 'night', 'analytic', 'arm', 'internet', 'future',\n",
    "                   'strange', 'offer', 'building', 'favoriteorite', 'early', 'kill',\n",
    "                   'tell', 'shape', 'fact', 'prize', 'die', 'blow', 'wants',\n",
    "                   'th', 'song', 'posterous', 'single', 'cover', 'earth', 'change',\n",
    "                   'happen', 'netbook', 'most', 'timing', 'know', 'product', 'sell',\n",
    "                   'signal', 'tune', 'put', 'accessory', 'shotgun', 'aus', 'airport',\n",
    "                   'probably', 'look', 'kindle', 'pile', 'message', 'business',\n",
    "                   'define', 'version', 'present', 'mess', 'way', 'logo', 'ugh',\n",
    "                   'bout', 'lead', 'steve', 'pattern', 'sheen', 'fiona', 'accuracy',\n",
    "                   'average', 'staff', 'brother', 'can', 'figure', 'listen',\n",
    "                   'predict', 'explorer', 'its', 'cnn', 'tweet', 'street', 'sketch',\n",
    "                   'lady', 'dev', 'position', 'town', 'intuit', 'exist', 'robot',\n",
    "                   'comment', 'gold', 'rad', 'guardian', 'something', 'plan', 'level',\n",
    "                   'complete', 'navigate', 'multiple', 'coverage', 'other', 'sfunny',\n",
    "                   'excellent', 'chase', 'those', 'speak', 'coffee', 'payment',\n",
    "                   'apply', 'mozilla', 'art', 'geo', 'account', 'competitor', 'lake',\n",
    "                   'mail', 'where', 'development', 'some', 'dangerous', 'tue',\n",
    "                   'crowd', 'step', 'reaction', 'contest', 'integration', 'parking',\n",
    "                   'planning', 'assume', 'paper', 'info', 'penney', 'deep', 'ready',\n",
    "                   'networking', 'peep', 'datum', 'audios', 'category', 'corporate',\n",
    "                   'energy', 'eat', 'anatomy', 'direct', 'dashboard', 'author',\n",
    "                   'throw', 'american', 'dude', 'hold', 'waste', 'twit', 'interface',\n",
    "                   'connection', 'core', 'base', 'claim', 'multi', 'instal', 'email',\n",
    "                   'fest', 'young', 'startup', 'context', 'ask', 'problem',\n",
    "                   'surprised', 'hopefully', 'mix', 'skype', 'sunday', 'what',\n",
    "                   'clean', 'round', '9a', 'number', 'staircase', 'knitted',\n",
    "                   \n",
    "                   \n",
    "                   'sayin', 'award', 'wp7', 'fake', 'consider', 'reveal', 'radio',\n",
    "                   'brightness', 'vp', 'somebody', 'downstairs', 'indie', 'khoi',\n",
    "                   'vinh', 'crew', 'geekfest', 'circles', 'key', 'accord',\n",
    "                   'panhandle', 'launchrock', 'west', 'promote', 'porn', 'rww',\n",
    "                   'clark', 'circus', 'valid', 'macbook', 'elusive', 'deck',\n",
    "                   'announcement', 'cloud', 'accessibility', 'afford', \n",
    "                   \n",
    "                   'epicture', 'yr', 'congrat', 'esp', 'fellow', 'sixth', 'explain',\n",
    "                   'bot', 'album', 'filter', 'spazmatic',\n",
    "\n",
    "                   'insane', 'rule', 'purpose',\n",
    "                   \n",
    "                  ]\n",
    "    stop_wordsa = ' '.join([i for i in text.split() if i not in stop_words1])\n",
    "    return stop_wordsa\n",
    "\n",
    "def correct_words1(x):\n",
    "    \"\"\"Changes words based on dictionary key value\"\"\"\n",
    "    dic = {'doesnt':'does not','instagram': 'social medium','whatsapp': 'social medium','snapchat': 'social medium',\n",
    "          'ipad2s ':'ipad2 ', ' abt ': ' about' , '2nd':'second', '3gs':'3g',  ' 1st ': ' first ', \n",
    "           'bc ':'because ','bebecaus ':'because ','b/c ':'because ', ' co ':' company ','conf ':'conference ', \n",
    "           'congrat ':'congradulation ', 'chat ':'talk', ' chat ':' talk ',\n",
    "           \n",
    "           'chat ':'talk ','demo ':'demonstrate ','demo ':'demonstrate ', 'dev ':'developer ', 'dev ':'developer ',\n",
    "           'devs ':'developer ', 'devs ':'developer ','discovr ': 'discover ' ,'checkin ': 'check ',\n",
    "           'w/':'with ', 'w/ ': 'with ', 'ppl ':'people ', '2day ':'today ', '2nite ':'tonight ', 'b4' :'before ', 'betterquot ':'better ',\n",
    "          'bldg ':'building ', 'cam ':'camera ', 'comp ':'competition ', 'doc ':'document ', ' em ':' email ', \n",
    "           'everywherequot ':'everywhere ',\n",
    "           'fave':'favorite', 'fav':'favorite', 'fb':'facebook', 'sq ft':'square foot', 'fucking':'fuck', \n",
    "           'futurequot':'future',\n",
    "           'gt':'get', 'ha ':'funny ', 'haha':'funny ', 'hm ':'wonder ', 'hoot ':'funny ', 'hotpot':'hotspot', \n",
    "           'incl':'include',\n",
    "           'io ':'ios ', 'ipad2quot ':'ipad2 ', 'ipadquot ':'ipad ', 'its ': ' it is ', 'js':'party ', 'leo ':'speaker ',\n",
    "           'mark belinsky ':'speaker ', 'charles chen ':'speaker ', 'charlie ': 'speaker ', 'chris tomlinson ':'speaker ', \n",
    "           'josh clark ':'speaker ', \n",
    "            \n",
    "           'dwnld ':'down load ', 'john wiley ':'speaker ', 'jonathan ' :'speaker ', 'marissa mayer ': 'speaker ',\n",
    "           'kara swisher ':'fascist ', 'guy kawasaki ':'speaker ', 'lol ':'fun ', 'lynn teo ':'speaker ', 'macbook ':'mac ',\n",
    "           'maggie mae ':'speaker ', 'maes ':'speaker ', 'matt ':'speaker ', 'melissa mayer ':'speaker ', 'mtg ':'meeting ',\n",
    "           'naomi campbell ': 'speaker ',' nt ': ' not ', 'omg ': 'awesome ', 'pi ':' party ', 'pic ':'picture ', \n",
    "           \n",
    "           'pls ':'please ', 'ppl ':'people ', 'rad ':'awesome ', 'chris sacca ':'person ', 'sayin ':'say ', \n",
    "           'sched ':'schedule ',\n",
    "           'spazmatic ':'party ', 'sq ':'square ', 'steve job ':'person ', 'steve ':'person ', ' ta ':' to ',\n",
    "           'temp ':'temporary ', \n",
    "           'texte ':'text ', 'thx ':'thank you ', 'tim ': 'person ', 'tomo ':'tomorrow ', 'tonite ':'tonight ', \n",
    "           ' tx ':' texas ', \n",
    "           'mike tyson ':'person ', 'vid ':'video ', 'wanna ': 'want ', 'whoa ':'who ', 'whrrl ':'whirl ', \n",
    "           'wknd ':'weekend ',\n",
    "           'woah ':'wow ', 'woohoo ':'awesome ', 'woot ': 'awesome ', 'wp7 ':'game ',\n",
    "           'wtf ':'what ', 'ya ': 'you ',\n",
    "           'yay ':'awesome ', 'yeah ':'yes ', 'yr ':'year ', 'yup ':'yes ', 'zaarly ':'product ', 'zomg ':'awesome ', \n",
    "           'aron pilhofer ':'person ','actsofsharing ':'party ', 'awesomely ':'awesome ','quot':'', 'belinsky':'speaker',\n",
    "           'barry ':'speaker ', 'boi ':'speaker ', 'boomers ' :'boomer ','boomers' :'boomer','circles ':'circle ', 'congrat ':'congradulations ',\n",
    "           'congrats ':'congradulations ','dennis crowley ':'people ', 'dt ': 'down town ', 'etsy ': 'party ',\n",
    "           'hobo ':'game ', 'instal ': 'install ', 'khoi vinh ': 'person ', 'marissa ': 'speaker ', 'mark ': 'speaker ',\n",
    "           'mayer ': 'speaker ', 'melissa ': 'speaker ', 'meyer ': 'speaker ', 'mike ' : 'speaker ', 'preso ': 'presentation ',\n",
    "           'scarborough ': 'scarbrough', 'vinh ': 'person '\n",
    "           \n",
    "           \n",
    "          }\n",
    "    for word in dic.keys():\n",
    "           x = x.replace(word, dic[word])\n",
    "    return x\n",
    "   "
   ]
  },
  {
   "cell_type": "markdown",
   "metadata": {},
   "source": [
    "# Exploratory, Data Processing <a class=\"anchor\" id=\"Exploratory\"></a>"
   ]
  },
  {
   "cell_type": "code",
   "execution_count": 13,
   "metadata": {},
   "outputs": [],
   "source": [
    "#Rename columns\n",
    "df_data_O.columns = [\"tweets\", \"Prd_Brnd\", \"emotion\"]"
   ]
  },
  {
   "cell_type": "code",
   "execution_count": 14,
   "metadata": {},
   "outputs": [],
   "source": [
    "# set targets to numericals\n",
    "di = {\"No emotion toward brand or product\":1, \"Positive emotion\":2, \"Negative emotion\":0,\"I can't tell\":3}\n",
    "df_data_O['emotion_E'] = df_data_O['emotion']\n",
    "df_data_O['emotion_E'].replace(di, inplace=True)"
   ]
  },
  {
   "cell_type": "code",
   "execution_count": 15,
   "metadata": {
    "scrolled": true
   },
   "outputs": [
    {
     "data": {
      "text/plain": [
       "iPad                               946\n",
       "Apple                              661\n",
       "iPad or iPhone App                 470\n",
       "Google                             430\n",
       "iPhone                             297\n",
       "Other Google product or service    293\n",
       "Android App                         81\n",
       "Android                             78\n",
       "Other Apple product or service      35\n",
       "Name: Prd_Brnd, dtype: int64"
      ]
     },
     "execution_count": 15,
     "metadata": {},
     "output_type": "execute_result"
    }
   ],
   "source": [
    "df_data_O.Prd_Brnd.value_counts()"
   ]
  },
  {
   "cell_type": "code",
   "execution_count": 16,
   "metadata": {},
   "outputs": [],
   "source": [
    "# remove rows that are not encoded with pos, neg neutral\n",
    "df_data_O = df_data_O.query(\"emotion_E not in [3]\")\n",
    "\n",
    "# remove rows that are concerned with the androd brand/ proudct as they are not a part of business case\n",
    "df_data_O = df_data_O.query(\"Prd_Brnd not in ['Android App']\")\n",
    "\n",
    "# remove rows that are concerned with the androd brand/ proudct as they are not a part of business case\n",
    "df_data_O = df_data_O.query(\"Prd_Brnd not in ['Android']\")"
   ]
  },
  {
   "cell_type": "code",
   "execution_count": 17,
   "metadata": {},
   "outputs": [
    {
     "data": {
      "text/plain": [
       "iPad                               942\n",
       "Apple                              659\n",
       "iPad or iPhone App                 470\n",
       "Google                             429\n",
       "iPhone                             296\n",
       "Other Google product or service    292\n",
       "Other Apple product or service      35\n",
       "Name: Prd_Brnd, dtype: int64"
      ]
     },
     "execution_count": 17,
     "metadata": {},
     "output_type": "execute_result"
    }
   ],
   "source": [
    "df_data_O.Prd_Brnd.value_counts()"
   ]
  },
  {
   "cell_type": "code",
   "execution_count": 18,
   "metadata": {},
   "outputs": [
    {
     "data": {
      "text/html": [
       "<div>\n",
       "<style scoped>\n",
       "    .dataframe tbody tr th:only-of-type {\n",
       "        vertical-align: middle;\n",
       "    }\n",
       "\n",
       "    .dataframe tbody tr th {\n",
       "        vertical-align: top;\n",
       "    }\n",
       "\n",
       "    .dataframe thead th {\n",
       "        text-align: right;\n",
       "    }\n",
       "</style>\n",
       "<table border=\"1\" class=\"dataframe\">\n",
       "  <thead>\n",
       "    <tr style=\"text-align: right;\">\n",
       "      <th></th>\n",
       "      <th>Percent %</th>\n",
       "    </tr>\n",
       "    <tr>\n",
       "      <th>emotion</th>\n",
       "      <th></th>\n",
       "    </tr>\n",
       "  </thead>\n",
       "  <tbody>\n",
       "    <tr>\n",
       "      <th>No emotion toward brand or product</th>\n",
       "      <td>61.37</td>\n",
       "    </tr>\n",
       "    <tr>\n",
       "      <th>Positive emotion</th>\n",
       "      <td>32.32</td>\n",
       "    </tr>\n",
       "    <tr>\n",
       "      <th>Negative emotion</th>\n",
       "      <td>6.31</td>\n",
       "    </tr>\n",
       "  </tbody>\n",
       "</table>\n",
       "</div>"
      ],
      "text/plain": [
       "                                    Percent %\n",
       "emotion                                      \n",
       "No emotion toward brand or product      61.37\n",
       "Positive emotion                        32.32\n",
       "Negative emotion                         6.31"
      ]
     },
     "metadata": {},
     "output_type": "display_data"
    },
    {
     "data": {
      "text/html": [
       "<div>\n",
       "<style scoped>\n",
       "    .dataframe tbody tr th:only-of-type {\n",
       "        vertical-align: middle;\n",
       "    }\n",
       "\n",
       "    .dataframe tbody tr th {\n",
       "        vertical-align: top;\n",
       "    }\n",
       "\n",
       "    .dataframe thead th {\n",
       "        text-align: right;\n",
       "    }\n",
       "</style>\n",
       "<table border=\"1\" class=\"dataframe\">\n",
       "  <thead>\n",
       "    <tr style=\"text-align: right;\">\n",
       "      <th></th>\n",
       "      <th>counts</th>\n",
       "    </tr>\n",
       "    <tr>\n",
       "      <th>emotion</th>\n",
       "      <th></th>\n",
       "    </tr>\n",
       "  </thead>\n",
       "  <tbody>\n",
       "    <tr>\n",
       "      <th>No emotion toward brand or product</th>\n",
       "      <td>5387</td>\n",
       "    </tr>\n",
       "    <tr>\n",
       "      <th>Positive emotion</th>\n",
       "      <td>2837</td>\n",
       "    </tr>\n",
       "    <tr>\n",
       "      <th>Negative emotion</th>\n",
       "      <td>554</td>\n",
       "    </tr>\n",
       "  </tbody>\n",
       "</table>\n",
       "</div>"
      ],
      "text/plain": [
       "                                    counts\n",
       "emotion                                   \n",
       "No emotion toward brand or product    5387\n",
       "Positive emotion                      2837\n",
       "Negative emotion                       554"
      ]
     },
     "metadata": {},
     "output_type": "display_data"
    }
   ],
   "source": [
    "# Examine imbalance as percentage\n",
    "percent1 = round(df_data_O['emotion'].value_counts(1).to_frame(name='Percent %').rename_axis('emotion') * 100, 2)\n",
    "display(percent1)\n",
    "df_counts = df_data_O.emotion.value_counts().to_frame(name='counts').rename_axis('emotion')\n",
    "display(df_counts)"
   ]
  },
  {
   "cell_type": "code",
   "execution_count": 19,
   "metadata": {
    "scrolled": false
   },
   "outputs": [
    {
     "data": {
      "text/plain": [
       "tweets          1\n",
       "Prd_Brnd     5655\n",
       "emotion         0\n",
       "emotion_E       0\n",
       "dtype: int64"
      ]
     },
     "execution_count": 19,
     "metadata": {},
     "output_type": "execute_result"
    }
   ],
   "source": [
    "df_data_O.isnull().sum()"
   ]
  },
  {
   "cell_type": "code",
   "execution_count": 20,
   "metadata": {},
   "outputs": [],
   "source": [
    "#drop rows that are null based on value in tweet field\n",
    "df_data1 = df_data_O.dropna(subset=['tweets'])\n",
    "df_data1.reset_index(inplace=True)\n",
    "df_data1.drop(columns=[\"index\"], inplace=True)\n",
    "df_data = df_data1.copy()"
   ]
  },
  {
   "cell_type": "code",
   "execution_count": 21,
   "metadata": {},
   "outputs": [
    {
     "name": "stdout",
     "output_type": "stream",
     "text": [
      "0 blanks:  []\n"
     ]
    }
   ],
   "source": [
    "# search and drop columns that are not NA but may contain an empty string\n",
    "blanks = []  # start with an empty list\n",
    "\n",
    "for i,lb,rv in df_data[[\"emotion\",\"tweets\"]].itertuples():  # iterate over the DataFrame\n",
    "    if type(rv)==str:            # avoid NaN values\n",
    "        if rv.isspace():         # test 'review' for whitespace\n",
    "            blanks.append(i)     # add matching index numbers to the list\n",
    "        \n",
    "print(len(blanks), 'blanks: ', blanks)\n",
    "\n",
    "df_data.drop(blanks, inplace=True)"
   ]
  },
  {
   "cell_type": "code",
   "execution_count": 22,
   "metadata": {
    "scrolled": true
   },
   "outputs": [
    {
     "data": {
      "text/plain": [
       "No emotion toward brand or product    5386\n",
       "Positive emotion                      2837\n",
       "Negative emotion                       554\n",
       "Name: emotion, dtype: int64"
      ]
     },
     "execution_count": 22,
     "metadata": {},
     "output_type": "execute_result"
    }
   ],
   "source": [
    "df_data.emotion.value_counts()"
   ]
  },
  {
   "cell_type": "markdown",
   "metadata": {},
   "source": [
    "# Processing Data <a class=\"anchor\" id=\"ProcessingData\"></a>"
   ]
  },
  {
   "cell_type": "markdown",
   "metadata": {},
   "source": [
    "## Prepare Data For Multiple Classification <a class=\"anchor\" id=\"dataprepMulticlassification\"></a>"
   ]
  },
  {
   "cell_type": "code",
   "execution_count": 23,
   "metadata": {},
   "outputs": [],
   "source": [
    "#Create Embedded Layers For RNN Model\n",
    "\n",
    "with open('..\\embeddings_index_google', 'rb') as f:\n",
    "    embeddings_index_google = pickle.load(f)\n",
    "with open('..\\embeddings_index_twitter', 'rb') as f:\n",
    "    embeddings_index_twitter = pickle.load(f)\n",
    "\n",
    "# get the lenght of each index, passed into RNN models\n",
    "embedding_dim_twitter = len(embeddings_index_twitter['the'])\n",
    "embedding_dim_google = len(embeddings_index_google['the'])"
   ]
  },
  {
   "cell_type": "code",
   "execution_count": 24,
   "metadata": {
    "scrolled": true
   },
   "outputs": [],
   "source": [
    "# Clean the tweets By Applying Functions\n",
    "df_data[\"tweets_RNN\"] = df_data['tweets']\n",
    "df_data[\"tweets_RNN\"] = df_data['tweets_RNN'].apply(tolower)\n",
    "df_data[\"tweets_RNN\"] = df_data['tweets_RNN'].apply(replace_contractions)\n",
    "df_data[\"tweets_RNN\"] = df_data['tweets_RNN'].apply(clean)\n",
    "df_data[\"tweets_RNN\"] = df_data['tweets_RNN'].apply(correct_words)\n",
    "df_data[\"tweets_RNN\"] = df_data['tweets_RNN'].apply(RemovesGarbageWords)\n",
    "df_data[\"tweets_RNN\"] = df_data['tweets_RNN'].apply(clean_numbers)\n",
    "df_data[\"tweets_RNN\"] = df_data['tweets_RNN'].apply(replace_typical_misspell)\n",
    "d = {'apple_store':'apple store', 'social_network':'social network',\n",
    "     'social_network':'Social Network','3g':'3 g'} \n",
    "df_data[\"tweets_RNN\"] = replace_words(d, 'tweets_RNN')\n",
    "df_data[\"tweets_tfid\"] = df_data['tweets_RNN']\n",
    "df_data[\"tweets_tfid\"] = df_data['tweets_tfid'].apply(lemmatization1)\n",
    "df_data[\"tweets_tfid\"] = removewordswithcertainCount2(df_data[\"tweets_tfid\"], 4)\n",
    "df_data['tweets_tfid_ex'] = df_data[\"tweets_tfid\"]\n",
    "df_data[\"tweets_tfid_ex\"] = df_data['tweets_tfid_ex'].apply(correct_words1)\n",
    "df_data[\"tweets_tfid_ex\"] = df_data['tweets_tfid_ex'].apply(RemoveStopwords1)\n",
    "\n",
    "\n",
    "#Create two new columns : 'Subjectivity' & 'Polarity'\n",
    "df_data['Subjectivity'] = df_data['tweets_tfid_ex'].apply(getSubjectivity)\n",
    "df_data['Polarity'] = df_data['tweets_tfid_ex'].apply(getPolarity)\n",
    "\n",
    "#One-hot encode the emotion\n",
    "labels_RNN = to_categorical(df_data['emotion_E'], num_classes=3)\n",
    "\n",
    "labels_dct = {\"label_RNN\":[]}\n",
    "for i in labels_RNN:\n",
    "    labels_dct[\"label_RNN\"].append(i)\n",
    "    \n",
    "df_labels_RNN = pd.DataFrame.from_dict(labels_dct)\n",
    "    \n",
    "df_data[\"Labels_RNN\"] = df_labels_RNN\n",
    "\n",
    "# encoding lables for RNN\n",
    "encoder = LabelBinarizer()\n",
    "encoder.fit(df_data[\"emotion_E\"])\n",
    "text_labels = encoder.classes_\n",
    "\n",
    "# get count of vocabulary words - TF-IDF\n",
    "vocab_tfid = build_vocab(df_data[\"tweets_tfid\"])\n",
    "# get count of vocabulary words - RNN\n",
    "vocab_RNN = build_vocab(df_data[\"tweets_RNN\"])\n",
    "# get count of vocabulary words - TF-IDF\n",
    "vocab_tfid_ex = build_vocab(df_data[\"tweets_tfid_ex\"])\n",
    "\n",
    "\n",
    "## Tokenize the sentences for RNN\n",
    "t_RNN = Tokenizer()\n",
    "#Corpus Split into lists of tokens. They will then be indexed and vectorized\n",
    "t_RNN.fit_on_texts(df_data[\"tweets_RNN\"])\n",
    "vocab_size_RNN = len(t_RNN.word_index) + 1\n",
    "# convert actual reviews from list of strings to lists of integers\n",
    "encoded_docs_rnn = t_RNN.texts_to_sequences(df_data[\"tweets_RNN\"])\n",
    "\n",
    "## Tokenize the sentences for TFIDF\n",
    "t_tfidf = Tokenizer()\n",
    "#Corpus Split into lists of tokens. They will then be indexed and vectorized\n",
    "t_tfidf.fit_on_texts(df_data[\"tweets_tfid\"])\n",
    "vocab_size_tfidf = len(t_tfidf.word_index) + 1\n",
    "# convert actual reviews from list of strings to lists of integers\n",
    "encoded_docs_tfidf = t_tfidf.texts_to_sequences(df_data[\"tweets_tfid\"])\n",
    "\n",
    "## Tokenize the sentences for TFIDF\n",
    "t_tfidf_ex = Tokenizer()\n",
    "#Corpus Split into lists of tokens. They will then be indexed and vectorized\n",
    "t_tfidf_ex.fit_on_texts(df_data[\"tweets_tfid_ex\"])\n",
    "vocab_size_tfifd_ex = len(t_tfidf_ex.word_index) + 1\n",
    "# convert actual reviews from list of strings to lists of integers\n",
    "encoded_docs_tfidf_ex = t_tfidf_ex.texts_to_sequences(df_data[\"tweets_tfid_ex\"])\n",
    "\n",
    "\n",
    "# Train test SPlit - Multiple Classification____________________________________________________________________\n",
    "X = df_data[\"tweets_RNN\"]\n",
    "X_tfid = df_data[\"tweets_tfid\"]\n",
    "X_tfid_ex = df_data[\"tweets_tfid_ex\"]\n",
    "\n",
    "Y = df_data[\"emotion_E\"]\n",
    "y = df_data[\"emotion_E\"]\n",
    "\n",
    "\n",
    "\n",
    "split = .2\n",
    "\n",
    "X_train, X_test, y_train, y_test = train_test_split(X, Y, test_size = split, random_state = 5, stratify=y)\n",
    "\n",
    "X_train_tfid, X_test_tfid, y_train_tfid, y_test_tfid = train_test_split(X_tfid, Y, test_size = split, \n",
    "                                                                        random_state = 5, stratify=y)\n",
    "\n",
    "X_train_tfid_ex, X_test_tfid_ex, y_train_tfid_ex, y_test_tfid_ex = train_test_split(X_tfid_ex, Y, test_size = split, \n",
    "                                                                        random_state = 5, stratify=y)\n",
    "\n",
    "\n",
    "#FOR Deep Learning Classifiers, create inputs to embeded layer via a fixed length array or 0 and word index\n",
    "encoded_docs = pad_sequences(encoded_docs_rnn, padding='post')\n",
    "X_train_padded_docs, X_test_padded_docs, y_train_1hot, y_test_1hot = train_test_split(encoded_docs,labels_RNN, \n",
    "                                                                                      test_size = 0.3, random_state = 42)\n",
    "\n",
    "#FOR Deep Learning Classifiers, create inputs to embeded layer via a fixed length array or 0 and word index\n",
    "padded_docs_tfidf = pad_sequences(encoded_docs_tfidf, padding='post')\n",
    "X_train_padded_docs_tfidf, X_test_padded_docs_tfidf, y_train_1hot_tfidf, y_test_1hot_tfidf = train_test_split(\n",
    "    padded_docs_tfidf,labels_RNN, test_size = 0.3, random_state = 42)\n",
    "\n",
    "#FOR Deep Learning Classifiers, create inputs to embeded layer via a fixed length array or 0 and word index\n",
    "padded_docs_tfidf_ex = pad_sequences(encoded_docs_tfidf_ex, padding='post')\n",
    "X_train_padded_docs_tfidf_ex, X_test_padded_docs_tfidf_ex, y_train_1hot_tfidf_ex, y_test_1hot_tfidf_ex = train_test_split(\n",
    "    padded_docs_tfidf_ex,labels_RNN, test_size = 0.3, random_state = 42)\n",
    "#_End train test split- Mulitiple Classification_________________________________________________________________\n",
    "\n",
    "\n",
    "#weights with RNN one hot encoding\n",
    "y_integers = np.argmax(y_train_1hot, axis=1)\n",
    "\n",
    "\n",
    "class_weights = class_weight.compute_class_weight('balanced', np.unique(y_integers), y_integers)\n",
    "d_class_weights_RNN = dict(enumerate(class_weights))\n",
    "\n",
    "\n",
    "#Create Brand column\n",
    "di = {'Android':'Android', 'Android App':'Android', 'Apple':'Apple', 'Google':'Google',\n",
    "       'Other Apple product or service':'Apple',\n",
    "       'Other Google product or service':'Google', 'iPad':'Apple', 'iPad or iPhone App':'Apple',\n",
    "       'iPhone':'Apple'}\n",
    "\n",
    "df_data['Brand'] = df_data['Prd_Brnd']\n",
    "df_data['Brand'] = df_data['Brand'].map(di)\n",
    "\n",
    "\n",
    "si = {'No emotion toward brand or product':'Neut', 'Positive emotion':'Pos', 'Negative emotion':'Neg'}\n",
    "\n",
    "df_data['emotion_s'] = df_data['emotion']\n",
    "df_data['emotion_s'] = df_data['emotion_s'].map(si)\n",
    "\n",
    "\n",
    "\n",
    "\n"
   ]
  },
  {
   "cell_type": "markdown",
   "metadata": {},
   "source": [
    "## Prepare Data For Binary Classification  <a class=\"anchor\" id=\"dataprepBianaryclassification\"></a>"
   ]
  },
  {
   "cell_type": "code",
   "execution_count": 25,
   "metadata": {},
   "outputs": [],
   "source": [
    "# Prepare data for binary classification\n",
    "df_data_binary = df_data.copy()\n",
    "df_data_binary = df_data_binary[df_data_binary[\"emotion_E\"]!=1]\n",
    "df_data_binary.reset_index(drop=True, inplace=True)\n",
    "df_data_binary\n",
    "\n",
    "# set targets to numericals\n",
    "di = {\"Positive emotion\":1, \"Negative emotion\":0}\n",
    "df_data_binary['emotion_E2'] = df_data_binary['emotion']\n",
    "df_data_binary['emotion_E2'].replace(di, inplace=True)\n",
    "\n",
    "\n",
    "# Train test SPlit\n",
    "X_tfid_bi_ex = df_data_binary[\"tweets_tfid_ex\"]\n",
    "\n",
    "y_bi = df_data_binary[\"emotion_E2\"]\n",
    "\n",
    "split = .2\n",
    "\n",
    "X_train_tfid_ex_bi, X_test_tfid_ex_bi, y_train_tfid_ex_bi, y_test_tfid_ex_bi = train_test_split(X_tfid_bi_ex,\n",
    "                                                                                                y_bi, test_size = split, random_state = 5)"
   ]
  },
  {
   "cell_type": "markdown",
   "metadata": {},
   "source": [
    "## Create Chi2 Model To Review Feature Importance"
   ]
  },
  {
   "cell_type": "code",
   "execution_count": 26,
   "metadata": {},
   "outputs": [],
   "source": [
    "# View Most impactful words\n",
    "X = df_data[\"tweets_tfid_ex\"]\n",
    "tvec = TfidfVectorizer(ngram_range=(1, 1))\n",
    "x_train_tfidf = tvec.fit_transform(X)\n",
    "chi2score = chi2(x_train_tfidf, y)[0]\n",
    "\n",
    "wscores = zip(tvec.get_feature_names(), chi2score)\n",
    "wchi2 = sorted(wscores, key=lambda x:x[1], reverse=True)\n",
    "df_wchi2 = pd.DataFrame(wchi2, columns =['words', 'Score'])\n",
    "# df_wchi2"
   ]
  },
  {
   "cell_type": "code",
   "execution_count": 27,
   "metadata": {},
   "outputs": [],
   "source": [
    "df_wchi2_sorted = df_wchi2.sort_values(by=\"Score\", ascending=True)"
   ]
  },
  {
   "cell_type": "code",
   "execution_count": 28,
   "metadata": {},
   "outputs": [],
   "source": [
    "listofweakwords = df_wchi2_sorted[\"words\"].values"
   ]
  },
  {
   "cell_type": "markdown",
   "metadata": {},
   "source": [
    "### view cleaning"
   ]
  },
  {
   "cell_type": "markdown",
   "metadata": {},
   "source": [
    "####  get counts"
   ]
  },
  {
   "cell_type": "code",
   "execution_count": 29,
   "metadata": {},
   "outputs": [
    {
     "name": "stdout",
     "output_type": "stream",
     "text": [
      "Number of words in corpus: 14225\n",
      "Number of unique words in corpus: 603\n"
     ]
    },
    {
     "data": {
      "text/html": [
       "<div>\n",
       "<style scoped>\n",
       "    .dataframe tbody tr th:only-of-type {\n",
       "        vertical-align: middle;\n",
       "    }\n",
       "\n",
       "    .dataframe tbody tr th {\n",
       "        vertical-align: top;\n",
       "    }\n",
       "\n",
       "    .dataframe thead th {\n",
       "        text-align: right;\n",
       "    }\n",
       "</style>\n",
       "<table border=\"1\" class=\"dataframe\">\n",
       "  <thead>\n",
       "    <tr style=\"text-align: right;\">\n",
       "      <th></th>\n",
       "      <th>words</th>\n",
       "      <th>count</th>\n",
       "      <th>Score</th>\n",
       "    </tr>\n",
       "  </thead>\n",
       "  <tbody>\n",
       "    <tr>\n",
       "      <th>0</th>\n",
       "      <td>we</td>\n",
       "      <td>182</td>\n",
       "      <td>3.560228</td>\n",
       "    </tr>\n",
       "    <tr>\n",
       "      <th>1</th>\n",
       "      <td>from</td>\n",
       "      <td>178</td>\n",
       "      <td>7.079728</td>\n",
       "    </tr>\n",
       "    <tr>\n",
       "      <th>2</th>\n",
       "      <td>one</td>\n",
       "      <td>169</td>\n",
       "      <td>8.083348</td>\n",
       "    </tr>\n",
       "    <tr>\n",
       "      <th>3</th>\n",
       "      <td>line</td>\n",
       "      <td>167</td>\n",
       "      <td>2.508769</td>\n",
       "    </tr>\n",
       "    <tr>\n",
       "      <th>4</th>\n",
       "      <td>party</td>\n",
       "      <td>163</td>\n",
       "      <td>7.657368</td>\n",
       "    </tr>\n",
       "  </tbody>\n",
       "</table>\n",
       "</div>"
      ],
      "text/plain": [
       "   words  count     Score\n",
       "0     we    182  3.560228\n",
       "1   from    178  7.079728\n",
       "2    one    169  8.083348\n",
       "3   line    167  2.508769\n",
       "4  party    163  7.657368"
      ]
     },
     "execution_count": 29,
     "metadata": {},
     "output_type": "execute_result"
    }
   ],
   "source": [
    "one_Giant_Corpus = \" \".join(X_tfid_bi_ex)\n",
    "\n",
    "one_Giant_Corpus_Separated_By_Commas = word_tokenize(one_Giant_Corpus)\n",
    "counter = Counter(one_Giant_Corpus_Separated_By_Commas) # creates a dictionary so you can get count by word ex. {'3': 149,'g': 55,'iphone': 1506}\n",
    "\n",
    "CountOFUniquewords_using_Counter = len(counter)\n",
    "\n",
    "Sorted_Dict_By_Value = dict(sorted(counter.items(), key=lambda x: x[1], reverse=True))\n",
    "train_key_Words = pd.DataFrame(counter.most_common(),columns=['words', 'count'])\n",
    "reviewchiwithwordcount_all = train_key_Words.merge(df_wchi2, left_on='words', right_on=\"words\" )\n",
    "allwords = reviewchiwithwordcount_all['count'].values.sum()\n",
    "print(f'Number of words in corpus: {allwords}')\n",
    "\n",
    "print(f'Number of unique words in corpus: {len(reviewchiwithwordcount_all)}')\n",
    "\n",
    "reviewchiwithwordcount_all.head()"
   ]
  },
  {
   "cell_type": "code",
   "execution_count": 30,
   "metadata": {},
   "outputs": [],
   "source": [
    "df_negativeWords = df_data[df_data[\"emotion_E\"]==0]\n",
    "df_positiveeWords = df_data[df_data[\"emotion_E\"]==2]\n",
    "df_neutraleWords = df_data[df_data[\"emotion_E\"]==1]"
   ]
  },
  {
   "cell_type": "code",
   "execution_count": 31,
   "metadata": {},
   "outputs": [
    {
     "name": "stdout",
     "output_type": "stream",
     "text": [
      "Number of words in negative corpus: 2879\n",
      "Number of unique words in negative corpus: 474\n"
     ]
    },
    {
     "data": {
      "text/html": [
       "<div>\n",
       "<style scoped>\n",
       "    .dataframe tbody tr th:only-of-type {\n",
       "        vertical-align: middle;\n",
       "    }\n",
       "\n",
       "    .dataframe tbody tr th {\n",
       "        vertical-align: top;\n",
       "    }\n",
       "\n",
       "    .dataframe thead th {\n",
       "        text-align: right;\n",
       "    }\n",
       "</style>\n",
       "<table border=\"1\" class=\"dataframe\">\n",
       "  <thead>\n",
       "    <tr style=\"text-align: right;\">\n",
       "      <th></th>\n",
       "      <th>words</th>\n",
       "      <th>negcount</th>\n",
       "    </tr>\n",
       "  </thead>\n",
       "  <tbody>\n",
       "    <tr>\n",
       "      <th>0</th>\n",
       "      <td>like</td>\n",
       "      <td>42</td>\n",
       "    </tr>\n",
       "    <tr>\n",
       "      <th>1</th>\n",
       "      <td>no</td>\n",
       "      <td>41</td>\n",
       "    </tr>\n",
       "    <tr>\n",
       "      <th>2</th>\n",
       "      <td>as</td>\n",
       "      <td>39</td>\n",
       "    </tr>\n",
       "    <tr>\n",
       "      <th>3</th>\n",
       "      <td>but</td>\n",
       "      <td>37</td>\n",
       "    </tr>\n",
       "    <tr>\n",
       "      <th>4</th>\n",
       "      <td>people</td>\n",
       "      <td>35</td>\n",
       "    </tr>\n",
       "  </tbody>\n",
       "</table>\n",
       "</div>"
      ],
      "text/plain": [
       "    words  negcount\n",
       "0    like        42\n",
       "1      no        41\n",
       "2      as        39\n",
       "3     but        37\n",
       "4  people        35"
      ]
     },
     "execution_count": 31,
     "metadata": {},
     "output_type": "execute_result"
    }
   ],
   "source": [
    "# Negative Corpus - Get Stats on corpus\n",
    "\n",
    "one_Giant_Corpus_neg = \" \".join(df_negativeWords[\"tweets_tfid_ex\"])\n",
    "\n",
    "one_Giant_Corpus_Separated_By_Commas_neg = word_tokenize(one_Giant_Corpus_neg)\n",
    "negcounter = Counter(one_Giant_Corpus_Separated_By_Commas_neg) # creates a dictionary so you can get count by word ex. {'3': 149,'g': 55,'iphone': 1506}\n",
    "\n",
    "Sorted_Dict_By_Value = dict(sorted(negcounter.items(), key=lambda x: x[1], reverse=True))\n",
    "df_NegativewordCounts = pd.DataFrame(negcounter.most_common(),columns=['words', 'negcount'])\n",
    "\n",
    "print(f'Number of words in negative corpus: {df_NegativewordCounts.negcount.sum()}')\n",
    "\n",
    "print(f'Number of unique words in negative corpus: {len(df_NegativewordCounts)}')\n",
    "df_NegativewordCounts.head()"
   ]
  },
  {
   "cell_type": "code",
   "execution_count": 32,
   "metadata": {},
   "outputs": [
    {
     "name": "stdout",
     "output_type": "stream",
     "text": [
      "Number of words in positive corpus: 12077\n",
      "Number of unique words in positive corpus: 600\n"
     ]
    },
    {
     "data": {
      "text/html": [
       "<div>\n",
       "<style scoped>\n",
       "    .dataframe tbody tr th:only-of-type {\n",
       "        vertical-align: middle;\n",
       "    }\n",
       "\n",
       "    .dataframe tbody tr th {\n",
       "        vertical-align: top;\n",
       "    }\n",
       "\n",
       "    .dataframe thead th {\n",
       "        text-align: right;\n",
       "    }\n",
       "</style>\n",
       "<table border=\"1\" class=\"dataframe\">\n",
       "  <thead>\n",
       "    <tr style=\"text-align: right;\">\n",
       "      <th></th>\n",
       "      <th>words</th>\n",
       "      <th>poscount</th>\n",
       "    </tr>\n",
       "  </thead>\n",
       "  <tbody>\n",
       "    <tr>\n",
       "      <th>0</th>\n",
       "      <td>from</td>\n",
       "      <td>165</td>\n",
       "    </tr>\n",
       "    <tr>\n",
       "      <th>1</th>\n",
       "      <td>party</td>\n",
       "      <td>156</td>\n",
       "    </tr>\n",
       "    <tr>\n",
       "      <th>2</th>\n",
       "      <td>we</td>\n",
       "      <td>154</td>\n",
       "    </tr>\n",
       "    <tr>\n",
       "      <th>3</th>\n",
       "      <td>one</td>\n",
       "      <td>146</td>\n",
       "    </tr>\n",
       "    <tr>\n",
       "      <th>4</th>\n",
       "      <td>line</td>\n",
       "      <td>145</td>\n",
       "    </tr>\n",
       "  </tbody>\n",
       "</table>\n",
       "</div>"
      ],
      "text/plain": [
       "   words  poscount\n",
       "0   from       165\n",
       "1  party       156\n",
       "2     we       154\n",
       "3    one       146\n",
       "4   line       145"
      ]
     },
     "execution_count": 32,
     "metadata": {},
     "output_type": "execute_result"
    }
   ],
   "source": [
    "# Positive Corpus -  Get Stats on corpus\n",
    "one_Giant_Corpus_pos = \" \".join(df_positiveeWords[\"tweets_tfid_ex\"])\n",
    "\n",
    "one_Giant_Corpus_Separated_By_Commas_pos = word_tokenize(one_Giant_Corpus_pos)\n",
    "poscounter = Counter(one_Giant_Corpus_Separated_By_Commas_pos) # creates a dictionary so you can get count by word ex. {'3': 149,'g': 55,'iphone': 1506}\n",
    "\n",
    "# get most common - counter.most_common(100)\n",
    "Sorted_Dict_By_Value = dict(sorted(poscounter.items(), key=lambda x: x[1], reverse=True))\n",
    "df_PositivewordCounts = pd.DataFrame(poscounter.most_common(),columns=['words', 'poscount'])\n",
    "\n",
    "print(f'Number of words in positive corpus: {df_PositivewordCounts.poscount.sum()}')\n",
    "\n",
    "print(f'Number of unique words in positive corpus: {len(df_PositivewordCounts)}')\n",
    "df_PositivewordCounts.head()\n"
   ]
  },
  {
   "cell_type": "code",
   "execution_count": 33,
   "metadata": {},
   "outputs": [],
   "source": [
    "combined = reviewchiwithwordcount_all.merge(df_NegativewordCounts[['negcount', 'words']], on='words')\n",
    "df_combined_counts = combined.merge(df_PositivewordCounts[['poscount', 'words']], on='words')\n",
    "df_combined_counts['Countdifference'] = df_combined_counts['poscount'] - df_combined_counts['negcount']"
   ]
  },
  {
   "cell_type": "markdown",
   "metadata": {},
   "source": [
    "#### review counts"
   ]
  },
  {
   "cell_type": "code",
   "execution_count": 34,
   "metadata": {},
   "outputs": [
    {
     "data": {
      "text/html": [
       "<div>\n",
       "<style scoped>\n",
       "    .dataframe tbody tr th:only-of-type {\n",
       "        vertical-align: middle;\n",
       "    }\n",
       "\n",
       "    .dataframe tbody tr th {\n",
       "        vertical-align: top;\n",
       "    }\n",
       "\n",
       "    .dataframe thead th {\n",
       "        text-align: right;\n",
       "    }\n",
       "</style>\n",
       "<table border=\"1\" class=\"dataframe\">\n",
       "  <thead>\n",
       "    <tr style=\"text-align: right;\">\n",
       "      <th></th>\n",
       "      <th>words</th>\n",
       "      <th>count</th>\n",
       "      <th>Score</th>\n",
       "      <th>negcount</th>\n",
       "      <th>poscount</th>\n",
       "      <th>Countdifference</th>\n",
       "    </tr>\n",
       "  </thead>\n",
       "  <tbody>\n",
       "    <tr>\n",
       "      <th>0</th>\n",
       "      <td>we</td>\n",
       "      <td>182</td>\n",
       "      <td>3.560228</td>\n",
       "      <td>28</td>\n",
       "      <td>154</td>\n",
       "      <td>126</td>\n",
       "    </tr>\n",
       "    <tr>\n",
       "      <th>1</th>\n",
       "      <td>from</td>\n",
       "      <td>178</td>\n",
       "      <td>7.079728</td>\n",
       "      <td>13</td>\n",
       "      <td>165</td>\n",
       "      <td>152</td>\n",
       "    </tr>\n",
       "    <tr>\n",
       "      <th>2</th>\n",
       "      <td>one</td>\n",
       "      <td>169</td>\n",
       "      <td>8.083348</td>\n",
       "      <td>23</td>\n",
       "      <td>146</td>\n",
       "      <td>123</td>\n",
       "    </tr>\n",
       "    <tr>\n",
       "      <th>3</th>\n",
       "      <td>line</td>\n",
       "      <td>167</td>\n",
       "      <td>2.508769</td>\n",
       "      <td>22</td>\n",
       "      <td>145</td>\n",
       "      <td>123</td>\n",
       "    </tr>\n",
       "    <tr>\n",
       "      <th>4</th>\n",
       "      <td>party</td>\n",
       "      <td>163</td>\n",
       "      <td>7.657368</td>\n",
       "      <td>7</td>\n",
       "      <td>156</td>\n",
       "      <td>149</td>\n",
       "    </tr>\n",
       "  </tbody>\n",
       "</table>\n",
       "</div>"
      ],
      "text/plain": [
       "   words  count     Score  negcount  poscount  Countdifference\n",
       "0     we    182  3.560228        28       154              126\n",
       "1   from    178  7.079728        13       165              152\n",
       "2    one    169  8.083348        23       146              123\n",
       "3   line    167  2.508769        22       145              123\n",
       "4  party    163  7.657368         7       156              149"
      ]
     },
     "execution_count": 34,
     "metadata": {},
     "output_type": "execute_result"
    }
   ],
   "source": [
    "df_combined_counts.head(5)"
   ]
  },
  {
   "cell_type": "code",
   "execution_count": 35,
   "metadata": {},
   "outputs": [],
   "source": [
    "values = df_combined_counts.sort_values(by='Countdifference')\n",
    "equalcounts = df_combined_counts[df_combined_counts[\"Countdifference\"]==0]\n",
    "equalcountslist = equalcounts['words'].values"
   ]
  },
  {
   "cell_type": "code",
   "execution_count": 36,
   "metadata": {},
   "outputs": [],
   "source": [
    "df_combined_counts\n",
    "lowscoreingLowfrequencywords = df_combined_counts[(df_combined_counts['Score']<2) &\n",
    "                                                         (df_combined_counts['count']<5) ]"
   ]
  },
  {
   "cell_type": "code",
   "execution_count": 37,
   "metadata": {},
   "outputs": [
    {
     "data": {
      "text/html": [
       "<div>\n",
       "<style scoped>\n",
       "    .dataframe tbody tr th:only-of-type {\n",
       "        vertical-align: middle;\n",
       "    }\n",
       "\n",
       "    .dataframe tbody tr th {\n",
       "        vertical-align: top;\n",
       "    }\n",
       "\n",
       "    .dataframe thead th {\n",
       "        text-align: right;\n",
       "    }\n",
       "</style>\n",
       "<table border=\"1\" class=\"dataframe\">\n",
       "  <thead>\n",
       "    <tr style=\"text-align: right;\">\n",
       "      <th></th>\n",
       "      <th>words</th>\n",
       "      <th>count</th>\n",
       "      <th>Score</th>\n",
       "      <th>negcount</th>\n",
       "      <th>poscount</th>\n",
       "      <th>Countdifference</th>\n",
       "    </tr>\n",
       "  </thead>\n",
       "  <tbody>\n",
       "    <tr>\n",
       "      <th>407</th>\n",
       "      <td>democracy</td>\n",
       "      <td>3</td>\n",
       "      <td>1.823602</td>\n",
       "      <td>2</td>\n",
       "      <td>1</td>\n",
       "      <td>-1</td>\n",
       "    </tr>\n",
       "  </tbody>\n",
       "</table>\n",
       "</div>"
      ],
      "text/plain": [
       "         words  count     Score  negcount  poscount  Countdifference\n",
       "407  democracy      3  1.823602         2         1               -1"
      ]
     },
     "execution_count": 37,
     "metadata": {},
     "output_type": "execute_result"
    }
   ],
   "source": [
    "# Finding if tweets contain a word - Used for future additionalcleaning\n",
    "df_find = df_combined_counts[df_combined_counts[\"words\"].str.contains('democracy')]\n",
    "df_find.head(1)"
   ]
  },
  {
   "cell_type": "markdown",
   "metadata": {},
   "source": [
    "# Binary Classification <a class=\"anchor\" id=\"BiBayes\"></a>"
   ]
  },
  {
   "cell_type": "markdown",
   "metadata": {},
   "source": [
    "## Model"
   ]
  },
  {
   "cell_type": "code",
   "execution_count": 38,
   "metadata": {},
   "outputs": [
    {
     "name": "stdout",
     "output_type": "stream",
     "text": [
      "Train Score: 0.87\n",
      "Test Score: 0.86\n",
      "Best Parameters: \n",
      "{'clf__alpha': 6, 'tfidf__norm': 'l1', 'tfidf__use_idf': False, 'vect__min_df': 2, 'vect__ngram_range': (1, 3)}\n",
      "\n"
     ]
    }
   ],
   "source": [
    "# Bayes Model Using Extra Clean Data\n",
    "X_train_Bi = X_train_tfid_ex_bi\n",
    "y_train_Bi = y_train_tfid_ex_bi\n",
    "X_test_Bi = X_test_tfid_ex_bi\n",
    "y_test_Bi = y_test_tfid_ex_bi\n",
    "\n",
    "y_test_tfid_ex_bi\n",
    "\n",
    "# MNB Params For Gridsearch\n",
    "hyp_params_MNB = {\n",
    "    'vect__ngram_range': [(1,3)], #(1,2) - 84, 82\n",
    "    'vect__min_df':[2], #2 - 87-.85\n",
    "#     'vect__max_df':[100],\n",
    "    'tfidf__use_idf': [False],# false = 87, 85\n",
    "    'tfidf__norm': (['l1']),#L1\n",
    "    'clf__alpha': [6]}#20,21, 25, 23... 22, 5, .01,.03, .05,\n",
    "\n",
    "# classifer = ComplementNB()\n",
    "classifer = MultinomialNB()\n",
    "\n",
    "estimator = Pipeline([\n",
    "        ('vect', TfidfVectorizer()),('tfidf', TfidfTransformer()),('sampling', SMOTE(random_state=1)),('clf', classifer)\n",
    "    ])\n",
    "\n",
    "\n",
    "hyp_params = hyp_params_MNB\n",
    "\n",
    "cv=10\n",
    "jobs = -1\n",
    "\n",
    "\n",
    "grid = GridSearchCV(estimator=estimator, param_grid=hyp_params,scoring=\"accuracy\",cv=cv, n_jobs=jobs)\n",
    "grid_result = grid.fit(X_train_Bi, y_train_Bi)\n",
    "# grid_result  = grid.fit(X_train_Bin, y_train_Bin, **{'clf__sample_weight': sample_weights_sm_bin_ex})\n",
    "\n",
    "  \n",
    "modelscore_Train = round(grid_result.score(X_train_Bi, y_train_Bi),2)\n",
    "modelscore_Test = round(grid_result.score(X_test_Bi, y_test_Bi),2)\n",
    "\n",
    "\n",
    "print(f'Train Score: {modelscore_Train}')\n",
    "print(f'Test Score: {modelscore_Test}')   \n",
    "print(\"Best Parameters: \\n{}\\n\".format(grid_result.best_params_))"
   ]
  },
  {
   "cell_type": "markdown",
   "metadata": {},
   "source": [
    "## Confusion Matrix <a class=\"anchor\" id=\"BiBayesMatrix\"></a>"
   ]
  },
  {
   "cell_type": "code",
   "execution_count": 39,
   "metadata": {
    "scrolled": false
   },
   "outputs": [
    {
     "data": {
      "image/png": "[encoded data removed]",
      "text/plain": [
       "<Figure size 432x288 with 2 Axes>"
      ]
     },
     "metadata": {},
     "output_type": "display_data"
    },
    {
     "data": {
      "image/png": "[encoded data removed]",
      "text/plain": [
       "<Figure size 432x288 with 2 Axes>"
      ]
     },
     "metadata": {},
     "output_type": "display_data"
    }
   ],
   "source": [
    "y_pred = grid.predict(X_test_Bi)\n",
    "import scikitplot as skplt \n",
    "skplt.metrics.plot_confusion_matrix(y_test_Bi, y_pred);\n",
    "skplt.metrics.plot_confusion_matrix(y_test_Bi, y_pred, normalize=True);\n"
   ]
  },
  {
   "cell_type": "code",
   "execution_count": 40,
   "metadata": {},
   "outputs": [
    {
     "name": "stdout",
     "output_type": "stream",
     "text": [
      "              precision    recall  f1-score   support\n",
      "\n",
      "           0       0.45      0.55      0.49        87\n",
      "           1       0.93      0.90      0.92       592\n",
      "\n",
      "    accuracy                           0.86       679\n",
      "   macro avg       0.69      0.73      0.71       679\n",
      "weighted avg       0.87      0.86      0.86       679\n",
      "\n",
      "0.8556701030927835\n"
     ]
    }
   ],
   "source": [
    "print(metrics.classification_report(y_test_Bi,y_pred))\n",
    "print(metrics.accuracy_score(y_test_Bi,y_pred))"
   ]
  },
  {
   "cell_type": "markdown",
   "metadata": {},
   "source": [
    "# Multi Class Models"
   ]
  },
  {
   "cell_type": "markdown",
   "metadata": {},
   "source": [
    "## Bayes <a class=\"anchor\" id=\"MultiBayes\"></a>"
   ]
  },
  {
   "cell_type": "markdown",
   "metadata": {},
   "source": [
    "### Model"
   ]
  },
  {
   "cell_type": "code",
   "execution_count": 41,
   "metadata": {
    "scrolled": true
   },
   "outputs": [
    {
     "name": "stdout",
     "output_type": "stream",
     "text": [
      "Train Score: 0.62\n",
      "Test Score: 0.57\n",
      "Best Parameters: \n",
      "{'clf__alpha': 10, 'tfidf__norm': 'l1', 'tfidf__use_idf': False, 'vect__min_df': 0, 'vect__ngram_range': (1, 1)}\n",
      "\n"
     ]
    }
   ],
   "source": [
    "X_train_B = X_train_tfid_ex\n",
    "y_train_B = y_train_tfid_ex\n",
    "X_test_B = X_test_tfid_ex\n",
    "y_test_B = y_test_tfid_ex\n",
    "\n",
    "\n",
    "\n",
    "# MNB Params For Gridsearch\n",
    "hyp_params_MNB = {\n",
    "    'vect__ngram_range': [(1,1)], #(1,15) - 95, 89, (1,20) - 81,80\n",
    "    'vect__min_df':[0],\n",
    "    'tfidf__use_idf': [False],\n",
    "    'tfidf__norm': (['l1']),#L1\n",
    "    'clf__alpha': [10]}\n",
    "\n",
    "#classifer = ComplementNB()\n",
    "classifer = MultinomialNB()\n",
    "\n",
    "estimator = Pipeline([\n",
    "        ('vect', TfidfVectorizer()),('tfidf', TfidfTransformer()),('sampling', SMOTE(random_state=1)),('clf', classifer)\n",
    "    ])\n",
    "\n",
    "\n",
    "hyp_params = hyp_params_MNB\n",
    "\n",
    "cv=10\n",
    "jobs = -1\n",
    "\n",
    "grid = GridSearchCV(estimator=estimator, param_grid=hyp_params,scoring='accuracy',cv=cv, n_jobs=jobs)\n",
    "grid_result = grid.fit(X_train_B, y_train_B)\n",
    "\n",
    "modelscore_Train = round(grid_result.score(X_train_B, y_train_B),2)\n",
    "modelscore_Test = round(grid_result.score(X_test_B, y_test_B),2)\n",
    "\n",
    "# print(f'Best Params: {params}')\n",
    "print(f'Train Score: {modelscore_Train}')\n",
    "print(f'Test Score: {modelscore_Test}')   \n",
    "print(\"Best Parameters: \\n{}\\n\".format(grid_result.best_params_))"
   ]
  },
  {
   "cell_type": "markdown",
   "metadata": {},
   "source": [
    "### Ploting Results with Confusion Matrix <a class=\"anchor\" id=\"MultiBayesMatrix\"></a>"
   ]
  },
  {
   "cell_type": "code",
   "execution_count": 42,
   "metadata": {},
   "outputs": [
    {
     "name": "stdout",
     "output_type": "stream",
     "text": [
      "Bayes - Confusion matrix, without normalization\n"
     ]
    },
    {
     "data": {
      "image/png": "[encoded data removed]",
      "text/plain": [
       "<Figure size 432x288 with 2 Axes>"
      ]
     },
     "metadata": {},
     "output_type": "display_data"
    }
   ],
   "source": [
    "label_names = np.array(['Negative', 'Neutral', 'Positive'])\n",
    "\n",
    "y_pred_B = grid.predict(X_test_B)\n",
    "cnf_matrix = confusion_matrix(y_test_B, y_pred_B)\n",
    "\n",
    "plot_confusion_matrix(\"Bayes\",cnf_matrix, classes=np.asarray(label_names), \n",
    "                      normalize=False, title='Normalized confusion matrix')\n",
    "\n"
   ]
  },
  {
   "cell_type": "code",
   "execution_count": 43,
   "metadata": {},
   "outputs": [
    {
     "name": "stdout",
     "output_type": "stream",
     "text": [
      "Bayes - Normalized confusion matrix here\n"
     ]
    },
    {
     "data": {
      "image/png": "[encoded data removed]",
      "text/plain": [
       "<Figure size 432x288 with 2 Axes>"
      ]
     },
     "metadata": {},
     "output_type": "display_data"
    }
   ],
   "source": [
    "plot_confusion_matrix(\"Bayes\",cnf_matrix, classes=np.asarray(label_names), \n",
    "                      normalize=True, title='Normalized confusion matrix')"
   ]
  },
  {
   "cell_type": "markdown",
   "metadata": {},
   "source": [
    "## RNN"
   ]
  },
  {
   "cell_type": "markdown",
   "metadata": {},
   "source": [
    "### Examining OOV <a class=\"anchor\" id=\"OOV\"></a>"
   ]
  },
  {
   "cell_type": "code",
   "execution_count": 44,
   "metadata": {
    "scrolled": false
   },
   "outputs": [
    {
     "name": "stdout",
     "output_type": "stream",
     "text": [
      "Converted 1958 words (73 misses)\n",
      "Converted 1958 words (80 misses)\n",
      "Converted 704 words (19 misses)\n",
      "Converted 704 words (17 misses)\n",
      "Converted 8342 words (903 misses)\n",
      "Converted 8342 words (1144 misses)\n",
      "word2vec : twitter\n",
      "Found embeddings for 89.175% of vocab\n",
      "Found embeddings for  96.940% of all text\n",
      "word2vec : google\n",
      "Found embeddings for 86.286% of vocab\n",
      "Found embeddings for  97.347% of all text\n",
      "\n",
      "\n",
      "TFIDF : twitter\n",
      "Found embeddings for 96.223% of vocab\n",
      "Found embeddings for  96.044% of all text\n",
      "TFIDF : google\n",
      "Found embeddings for 95.916% of vocab\n",
      "Found embeddings for  98.691% of all text\n",
      "\n",
      "\n",
      "TFIDF_ex : twitter\n",
      "Found embeddings for 97.301% of vocab\n",
      "Found embeddings for  96.560% of all text\n",
      "TFIDF_ex : google\n",
      "Found embeddings for 97.585% of vocab\n",
      "Found embeddings for  99.104% of all text\n"
     ]
    }
   ],
   "source": [
    "embedding_matrix_twitter_TFIDF = createEmbeddedMatrix1(\"TFIDF\", vocab_size_tfidf, embedding_dim_twitter,embeddings_index_twitter)\n",
    "embedding_matrix_google_TFIDF = createEmbeddedMatrix1(\"TFIDF\",vocab_size_tfidf, embedding_dim_google,embeddings_index_google)\n",
    "\n",
    "embedding_matrix_twitter_TFIDF_ex = createEmbeddedMatrix1(\"TFIDF_ex\", vocab_size_tfifd_ex, embedding_dim_twitter,embeddings_index_twitter)\n",
    "embedding_matrix_google_TFIDF_ex = createEmbeddedMatrix1(\"TFIDF_ex\",vocab_size_tfifd_ex, embedding_dim_google,embeddings_index_google)\n",
    "\n",
    "\n",
    "embedding_matrix_twitter_RNN = createEmbeddedMatrix1(\"RNN\", vocab_size_RNN, embedding_dim_twitter,embeddings_index_twitter)\n",
    "embedding_matrix_google_RNN = createEmbeddedMatrix1(\"RNN\", vocab_size_RNN, embedding_dim_google,embeddings_index_google)\n",
    "\n",
    "# determine nunmber of words we are missing from our vacab Twitter Word2vec\n",
    "\n",
    "#RNN\n",
    "oov_tw_RNN = check_coverage(\"word2vec\", \"twitter\", vocab_RNN, embeddings_index_twitter)\n",
    "# determine nunmber of words we are missing from our vacab Twitter Word2vec\n",
    "oov_g_RNN = check_coverage(\"word2vec\", \"google\",vocab_RNN,embeddings_index_google)\n",
    "\n",
    "print(\"\\n\")\n",
    "\n",
    "# TFIDF\n",
    "# determine nunmber of words we are missing from our vacab Twitter Word2vec\n",
    "oov_tw_TFIDF = check_coverage(\"TFIDF\", \"twitter\", vocab_tfid,embeddings_index_twitter)\n",
    "# determine nunmber of words we are missing from our vacab Twitter Word2vec\n",
    "oov_g_TFIDF = check_coverage(\"TFIDF\", \"google\",vocab_tfid,embeddings_index_google)\n",
    "\n",
    "print(\"\\n\")\n",
    "# TFIDF_ex\n",
    "# determine nunmber of words we are missing from our vacab Twitter Word2vec\n",
    "oov_tw_TFIDF_ex = check_coverage(\"TFIDF_ex\", \"twitter\", vocab_tfid_ex,embeddings_index_twitter)\n",
    "# determine nunmber of words we are missing from our vacab Twitter Word2vec\n",
    "oov_g_TFIDF_ex = check_coverage(\"TFIDF_ex\", \"google\",vocab_tfid_ex,embeddings_index_google)"
   ]
  },
  {
   "cell_type": "code",
   "execution_count": 45,
   "metadata": {
    "scrolled": true
   },
   "outputs": [
    {
     "data": {
      "text/plain": [
       "[('2', 221),\n",
       " ('3', 167),\n",
       " ('4', 165),\n",
       " ('1', 123),\n",
       " ('5', 108),\n",
       " ('6th', 99),\n",
       " ('bebecause', 79),\n",
       " ('7', 69),\n",
       " ('uberguide', 69),\n",
       " ('qamp', 40)]"
      ]
     },
     "execution_count": 45,
     "metadata": {},
     "output_type": "execute_result"
    }
   ],
   "source": [
    "# check top words that will not be accounted for in our embedding layer/ not in our pretrained Word2vec - TWitter\n",
    "oov_tw_RNN[:10]"
   ]
  },
  {
   "cell_type": "code",
   "execution_count": 46,
   "metadata": {},
   "outputs": [
    {
     "data": {
      "text/plain": [
       "[('marissa', 193),\n",
       " ('bebecause', 79),\n",
       " ('uberguide', 69),\n",
       " ('flipboard', 49),\n",
       " ('qamp', 40),\n",
       " ('circlesquot', 39),\n",
       " ('hootsuite', 39),\n",
       " ('conferencesquot', 35),\n",
       " ('diller', 29),\n",
       " ('upquot', 27)]"
      ]
     },
     "execution_count": 46,
     "metadata": {},
     "output_type": "execute_result"
    }
   ],
   "source": [
    "# check top words that will not be accounted for in our embedding layer/ not in our pretrained Word2vec - Google\n",
    "oov_g_RNN[:10]"
   ]
  },
  {
   "cell_type": "markdown",
   "metadata": {},
   "source": [
    "### Model <a class=\"anchor\" id=\"RNN\"></a>"
   ]
  },
  {
   "cell_type": "code",
   "execution_count": 48,
   "metadata": {},
   "outputs": [
    {
     "name": "stdout",
     "output_type": "stream",
     "text": [
      "62/62 [==============================] - 13s 105ms/step - loss: 1.0507 - accuracy: 0.4481 - val_loss: 0.9717 - val_accuracy: 0.5440\n",
      "Best: 0.540939 using {'batch_size': 100, 'dropout_rate': 0.4, 'nb_epoch': 10, 'optimizer': 'adam'}\n",
      "0.540939 (0.054377) with: {'batch_size': 100, 'dropout_rate': 0.4, 'nb_epoch': 10, 'optimizer': 'adam'}\n",
      "0.529064 (0.052083) with: {'batch_size': 100, 'dropout_rate': 0.4, 'nb_epoch': 15, 'optimizer': 'adam'}\n",
      "62/62 [==============================] - 1s 10ms/step - loss: 0.9567 - accuracy: 0.5497\n",
      "27/27 [==============================] - 0s 10ms/step - loss: 0.9717 - accuracy: 0.5440\n",
      "Train Scores: 0.55\n",
      "Test Scores: 0.54\n"
     ]
    }
   ],
   "source": [
    "# RNN using less Complex Dataset\n",
    "\n",
    "X_train1 = X_train_padded_docs_tfidf_ex\n",
    "y_train1 = y_train_1hot_tfidf_ex\n",
    "\n",
    "X_test1 = X_test_padded_docs_tfidf_ex\n",
    "y_test1 = y_test_1hot_tfidf_ex\n",
    "\n",
    "\n",
    "def createDeepLearningModel(optimizer='adam',dropout_rate=0.0):\n",
    "    model = Sequential()\n",
    "    #e = Embedding(vocab_size_RNN, max_length, input_length=max_length, trainable=False)\n",
    "    e = Embedding(vocab_size_tfifd_ex,  # number of unique tokens +1\n",
    "                  200, #number of features\n",
    "                  weights=[embedding_matrix_twitter_TFIDF_ex],# initialize \n",
    "                  input_length=X_train1.shape[1])\n",
    "    #embeddings_initializer=Constant([embedding_matrix])\n",
    "    #trainable=False\n",
    "    \n",
    "    model.add(e)\n",
    "    #model.add(Bidirectional(LSTM(100, return_sequences=True, input_shape=(X_train1.shape[1],embedding_dim))))\n",
    "    model.add(Bidirectional(LSTM(100, dropout=dropout_rate, recurrent_dropout=dropout_rate)))\n",
    "    #model.add(Dropout(dropout_rate))\n",
    "    #model.add(Dense(100, activation='relu'))\n",
    "    model.add(Dense(100, activation='relu'))\n",
    "    model.add(Dense(3, activation = 'softmax'))\n",
    "\n",
    "    model.compile(loss = 'categorical_crossentropy', optimizer = optimizer, metrics = ['accuracy'])\n",
    "    return model\n",
    "\n",
    "\n",
    "hyp_params_RNN = [{\n",
    "            'dropout_rate':[0.4],\n",
    "            'batch_size':[100],\n",
    "            'nb_epoch':[10, 15],\n",
    "            'optimizer':['adam']\n",
    "            #'clf__neurons':[50,100]\n",
    "        }]\n",
    "\n",
    "kears_estimator = KerasClassifier(build_fn=createDeepLearningModel, verbose=1)\n",
    "\n",
    "grid_RNN = GridSearchCV(estimator=kears_estimator,param_grid=hyp_params_RNN,cv=10, n_jobs=-1, return_train_score=True)\n",
    "\n",
    "grid_result  = grid_RNN.fit(X_train1, y_train1, class_weight=d_class_weights_RNN,validation_data=(X_test1,y_test1),\n",
    "                            callbacks=[EarlyStopping(monitor='val_loss', patience=7, min_delta=0.01)])\n",
    "                            # callbacks = [ReduceLROnPlateau(monitor='val_loss', patience=5, cooldown=0),\n",
    "                            #EarlyStopping(monitor='val_accuracy', min_delta=1e-4, patience=5)]\n",
    "\n",
    "# summarize results\n",
    "print(\"Best: %f using %s\" % (grid_result.best_score_, grid_result.best_params_))\n",
    "means = grid_result.cv_results_['mean_test_score']\n",
    "stds = grid_result.cv_results_['std_test_score']\n",
    "params = grid_result.cv_results_['params']\n",
    "for mean, stdev, param in zip(means, stds, params):\n",
    "    print(\"%f (%f) with: %r\" % (mean, stdev, param))\n",
    "modelscore_Train = round(grid_result.score(X_train1, y_train1),2)\n",
    "modelscore_Test = round(grid_result.score(X_test1, y_test1),2)\n",
    "print(f'Train Scores: {modelscore_Train}')\n",
    "print(f'Test Scores: {modelscore_Test}')"
   ]
  },
  {
   "cell_type": "code",
   "execution_count": 49,
   "metadata": {},
   "outputs": [
    {
     "name": "stdout",
     "output_type": "stream",
     "text": [
      "62/62 [==============================] - 23s 269ms/step - loss: 1.0531 - accuracy: 0.4357 - val_loss: 0.8801 - val_accuracy: 0.5831\n",
      "Best: 0.524803 using {'batch_size': 100, 'dropout_rate': 0.4, 'nb_epoch': 10, 'optimizer': 'adam'}\n",
      "0.524803 (0.074519) with: {'batch_size': 100, 'dropout_rate': 0.4, 'nb_epoch': 10, 'optimizer': 'adam'}\n",
      "0.485934 (0.100667) with: {'batch_size': 100, 'dropout_rate': 0.4, 'nb_epoch': 15, 'optimizer': 'adam'}\n",
      "62/62 [==============================] - 3s 46ms/step - loss: 0.8424 - accuracy: 0.6114\n",
      "27/27 [==============================] - 1s 39ms/step - loss: 0.8801 - accuracy: 0.5831\n",
      "Train Scores: 0.61\n",
      "Test Scores: 0.58\n"
     ]
    }
   ],
   "source": [
    "# RNN using More Complex Dataset\n",
    "\n",
    "X_train1 = X_train_padded_docs\n",
    "y_train1 = y_train_1hot\n",
    "\n",
    "X_test1 = X_test_padded_docs\n",
    "y_test1 = y_test_1hot\n",
    "\n",
    "\n",
    "\n",
    "def createDeepLearningModel(optimizer='adam',dropout_rate=0.0):\n",
    "    model = Sequential()\n",
    "    #e = Embedding(vocab_size_RNN, max_length, input_length=max_length, trainable=False)\n",
    "    e = Embedding(vocab_size_RNN,  # number of unique tokens +1\n",
    "                  300, #number of features\n",
    "                  weights=[embedding_matrix_google_RNN],# initialize \n",
    "                  input_length=X_train1.shape[1])\n",
    "    #embeddings_initializer=Constant([embedding_matrix])\n",
    "    #trainable=False\n",
    "    \n",
    "    model.add(e)\n",
    "    #model.add(Bidirectional(LSTM(100, return_sequences=True, input_shape=(X_train1.shape[1],embedding_dim))))\n",
    "    model.add(Bidirectional(LSTM(100, dropout=dropout_rate, recurrent_dropout=dropout_rate)))\n",
    "    #model.add(Dropout(dropout_rate))\n",
    "    #model.add(Dense(100, activation='relu'))\n",
    "    model.add(Dense(100, activation='relu'))\n",
    "    model.add(Dense(3, activation = 'softmax'))\n",
    "\n",
    "    model.compile(loss = 'categorical_crossentropy', optimizer = optimizer, metrics = ['accuracy'])\n",
    "    return model\n",
    "\n",
    "\n",
    "hyp_params_RNN = [{\n",
    "            'dropout_rate':[0.4],\n",
    "            'batch_size':[100],\n",
    "            'nb_epoch':[10, 15],\n",
    "            'optimizer':['adam']\n",
    "            #'clf__neurons':[50,100]\n",
    "        }]\n",
    "\n",
    "kears_estimator = KerasClassifier(build_fn=createDeepLearningModel, verbose=1)\n",
    "\n",
    "grid_RNN = GridSearchCV(estimator=kears_estimator,param_grid=hyp_params_RNN,cv=10, n_jobs=-1, return_train_score=True)\n",
    "\n",
    "grid_result  = grid_RNN.fit(X_train1, y_train1, class_weight=d_class_weights_RNN,validation_data=(X_test1,y_test1),\n",
    "                            callbacks=[EarlyStopping(monitor='val_loss', patience=7, min_delta=0.01)])\n",
    "                            # callbacks = [ReduceLROnPlateau(monitor='val_loss', patience=5, cooldown=0),\n",
    "                            #EarlyStopping(monitor='val_accuracy', min_delta=1e-4, patience=5)]\n",
    "\n",
    "# summarize results\n",
    "print(\"Best: %f using %s\" % (grid_result.best_score_, grid_result.best_params_))\n",
    "means = grid_result.cv_results_['mean_test_score']\n",
    "stds = grid_result.cv_results_['std_test_score']\n",
    "params = grid_result.cv_results_['params']\n",
    "for mean, stdev, param in zip(means, stds, params):\n",
    "    print(\"%f (%f) with: %r\" % (mean, stdev, param))\n",
    "modelscore_Train = round(grid_result.score(X_train1, y_train1),2)\n",
    "modelscore_Test = round(grid_result.score(X_test1, y_test1),2)\n",
    "print(f'Train Scores: {modelscore_Train}')\n",
    "print(f'Test Scores: {modelscore_Test}')"
   ]
  },
  {
   "cell_type": "markdown",
   "metadata": {},
   "source": [
    "### Ploting Results with Confusion Matrix <a class=\"anchor\" id=\"RNNMatrix\"></a>"
   ]
  },
  {
   "cell_type": "code",
   "execution_count": 50,
   "metadata": {},
   "outputs": [
    {
     "name": "stdout",
     "output_type": "stream",
     "text": [
      "27/27 [==============================] - 1s 26ms/step\n",
      "RNN - Confusion matrix, without normalization\n",
      "\n",
      "\n"
     ]
    },
    {
     "data": {
      "image/png": "[encoded data removed]",
      "text/plain": [
       "<Figure size 432x288 with 2 Axes>"
      ]
     },
     "metadata": {},
     "output_type": "display_data"
    }
   ],
   "source": [
    "label_names = np.array(['Negative', 'Neutral', 'Positive'])\n",
    "\n",
    "Probabilties = grid_RNN.predict_proba(X_test1)\n",
    "cnf_matrix = confusion_matrix(np.argmax(y_test1, axis=1), np.argmax(Probabilties, axis=1))\n",
    "\n",
    "plot_confusion_matrix(\"RNN\",cnf_matrix, classes=np.asarray(label_names), \n",
    "                      normalize=False, title='Normalized confusion matrix')\n",
    "print(\"\\n\")\n",
    "\n"
   ]
  },
  {
   "cell_type": "code",
   "execution_count": 51,
   "metadata": {},
   "outputs": [
    {
     "name": "stdout",
     "output_type": "stream",
     "text": [
      "RNN - Normalized confusion matrix here\n"
     ]
    },
    {
     "data": {
      "image/png": "[encoded data removed]",
      "text/plain": [
       "<Figure size 432x288 with 2 Axes>"
      ]
     },
     "metadata": {},
     "output_type": "display_data"
    }
   ],
   "source": [
    "plot_confusion_matrix(\"RNN\",cnf_matrix, classes=np.asarray(label_names), \n",
    "                      normalize=True, title='Normalized confusion matrix')"
   ]
  },
  {
   "cell_type": "markdown",
   "metadata": {},
   "source": [
    "# Conclusion <a class=\"anchor\" id=\"Conclusions\"></a>"
   ]
  },
  {
   "cell_type": "markdown",
   "metadata": {},
   "source": [
    "OBSERVATIONS Data Processing:\n",
    "* `Dealing with an imbalanced dataset, need to smote`\n",
    "* `Several words in corpus occur only once or less than 4 times, need to remove`\n",
    "* `Several words in corpus are similar in meaning required to consolidate words with the same meaning to improve classification`\n",
    "* `Used Chi2 to improve classification results, needed to ensure to keep high scoring words that were unique to either positive or negative`\n",
    "* `Experimented eliminating words that occured frequently in both negative and positive sentiments as those would just confuse/ make the model more complex`\n",
    "\n",
    "OBSERVATIONS Modeling:\n",
    "* `Bianary - class: After several iterations of cleanning data and tunning pipeline parameters, acheive 86% accuracy with little to no overfitting`\n",
    "* `Multi - class: After several iterations through trying to tune multiclass classifiers, could not reach satifactory accuracy results`"
   ]
  },
  {
   "cell_type": "markdown",
   "metadata": {},
   "source": [
    "# Pickle Files <a class=\"anchor\" id=\"CreatePickle\"></a>"
   ]
  },
  {
   "cell_type": "code",
   "execution_count": null,
   "metadata": {},
   "outputs": [],
   "source": [
    "\n",
    "#Create Files for Modeling\n",
    "with open('df_data.pickle', 'wb') as f:\n",
    "    pickle.dump(df_data, f)\n",
    "    \n",
    "\n",
    "#Create Files for Modeling\n",
    "with open('df_data_binary.pickle', 'wb') as f:\n",
    "    pickle.dump(df_data_binary, f)"
   ]
  }
 ],
 "metadata": {
  "kernelspec": {
   "display_name": "Python 3",
   "language": "python",
   "name": "python3"
  },
  "language_info": {
   "codemirror_mode": {
    "name": "ipython",
    "version": 3
   },
   "file_extension": ".py",
   "mimetype": "text/x-python",
   "name": "python",
   "nbconvert_exporter": "python",
   "pygments_lexer": "ipython3",
   "version": "3.8.3"
  }
 },
 "nbformat": 4,
 "nbformat_minor": 4
}
